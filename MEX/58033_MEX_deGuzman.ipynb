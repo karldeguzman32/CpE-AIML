{
  "nbformat": 4,
  "nbformat_minor": 0,
  "metadata": {
    "colab": {
      "name": "58033_MEX_deGuzman",
      "provenance": [],
      "collapsed_sections": [],
      "include_colab_link": true
    },
    "kernelspec": {
      "name": "python3",
      "display_name": "Python 3"
    },
    "language_info": {
      "name": "python"
    }
  },
  "cells": [
    {
      "cell_type": "markdown",
      "metadata": {
        "id": "view-in-github",
        "colab_type": "text"
      },
      "source": [
        "<a href=\"https://colab.research.google.com/github/karldeguzman32/CpE-AIML/blob/main/MEX/58033_MEX_deGuzman.ipynb\" target=\"_parent\"><img src=\"https://colab.research.google.com/assets/colab-badge.svg\" alt=\"Open In Colab\"/></a>"
      ]
    },
    {
      "cell_type": "markdown",
      "metadata": {
        "id": "-QGJgX4mNqH1"
      },
      "source": [
        "#**Laptop Price Prediction**"
      ]
    },
    {
      "cell_type": "markdown",
      "metadata": {
        "id": "O1FSUheY3h8y"
      },
      "source": [
        "#**Problem no.1**"
      ]
    },
    {
      "cell_type": "markdown",
      "metadata": {
        "id": "p3j8fuGu4YHb"
      },
      "source": [
        "**Purpose of the dataset**\n",
        "\n",
        "The dataset contains a collection of prices of laptops with different brands or manufactured by various companies including each of their specifications. This dataset provides information specifically the manufacturer or the company, type of laptop, screen size, CPU, RAM, Memory, GPU, operating system, weight, and the prices of laptops in euro and these are also considered as the characteristics of each laptops in the dataset. It aids and brings proper understanding upon the interested consumers in buying laptops according to their needs or what specification they will get depending to their price. \n",
        "\n",
        "\\\\\n",
        "\n",
        "**Needs statement**\n",
        "\n",
        "In the field of business, E-commerce market has gradually gained popularity on most of the countries especially amidst pandemic. However, since every marketplaces online always sells a large number of various products, including laptops, product pricing gets harder especially it can get influenced by brands and specifications. Therefore, the dataset can be used with a particular algorithm under machine learning which will bring assistance in predicting laptop prices especially new or newly manufactured and deployed ones. \n",
        "\n",
        "\\\\\n",
        "\n",
        "**Significance of the dataset**\n",
        "\n",
        "The primary beneficiary of the dataset are the companies that manufacture and deploy laptops to a particular marketplace in terms of product pricing of laptops based on brand and specifications. In addition, it brings advantage in terms of sales, return of investment, or other sales process of laptop manufacturing companies over competitors with the application of prediction of product sales.\n",
        "\n",
        "\\\\\n",
        "\n",
        "[1] M. Varli, “Laptop Price,” Kaggle, 2020. https://www.kaggle.com/muhammetvarl/laptop-price (accessed Nov. 16, 2021)."
      ]
    },
    {
      "cell_type": "code",
      "metadata": {
        "id": "cbH-Hn-PquCH"
      },
      "source": [
        "import numpy as np\n",
        "import pandas as pd\n",
        "import matplotlib.pyplot as plt\n",
        "import seaborn as sns\n",
        "from scipy import stats\n",
        "import regex as re"
      ],
      "execution_count": null,
      "outputs": []
    },
    {
      "cell_type": "markdown",
      "metadata": {
        "id": "AIGUe_aMC1Uz"
      },
      "source": [
        "###**Loading the raw data**"
      ]
    },
    {
      "cell_type": "code",
      "metadata": {
        "colab": {
          "base_uri": "https://localhost:8080/",
          "height": 204
        },
        "id": "MgN7bR4sCi8r",
        "outputId": "a7fb1aad-50e4-408a-fded-a53d09d1113d"
      },
      "source": [
        "lp_df = pd.read_csv(\"laptop_price.csv\", encoding='ISO-8859-1')\n",
        "lp_df.head()"
      ],
      "execution_count": null,
      "outputs": [
        {
          "output_type": "execute_result",
          "data": {
            "text/html": [
              "<div>\n",
              "<style scoped>\n",
              "    .dataframe tbody tr th:only-of-type {\n",
              "        vertical-align: middle;\n",
              "    }\n",
              "\n",
              "    .dataframe tbody tr th {\n",
              "        vertical-align: top;\n",
              "    }\n",
              "\n",
              "    .dataframe thead th {\n",
              "        text-align: right;\n",
              "    }\n",
              "</style>\n",
              "<table border=\"1\" class=\"dataframe\">\n",
              "  <thead>\n",
              "    <tr style=\"text-align: right;\">\n",
              "      <th></th>\n",
              "      <th>laptop_ID</th>\n",
              "      <th>Company</th>\n",
              "      <th>Product</th>\n",
              "      <th>TypeName</th>\n",
              "      <th>Inches</th>\n",
              "      <th>ScreenResolution</th>\n",
              "      <th>Cpu</th>\n",
              "      <th>Ram</th>\n",
              "      <th>Memory</th>\n",
              "      <th>Gpu</th>\n",
              "      <th>OpSys</th>\n",
              "      <th>Weight</th>\n",
              "      <th>Price_euros</th>\n",
              "    </tr>\n",
              "  </thead>\n",
              "  <tbody>\n",
              "    <tr>\n",
              "      <th>0</th>\n",
              "      <td>1</td>\n",
              "      <td>Apple</td>\n",
              "      <td>MacBook Pro</td>\n",
              "      <td>Ultrabook</td>\n",
              "      <td>13.3</td>\n",
              "      <td>IPS Panel Retina Display 2560x1600</td>\n",
              "      <td>Intel Core i5 2.3GHz</td>\n",
              "      <td>8GB</td>\n",
              "      <td>128GB SSD</td>\n",
              "      <td>Intel Iris Plus Graphics 640</td>\n",
              "      <td>macOS</td>\n",
              "      <td>1.37kg</td>\n",
              "      <td>1339.69</td>\n",
              "    </tr>\n",
              "    <tr>\n",
              "      <th>1</th>\n",
              "      <td>2</td>\n",
              "      <td>Apple</td>\n",
              "      <td>Macbook Air</td>\n",
              "      <td>Ultrabook</td>\n",
              "      <td>13.3</td>\n",
              "      <td>1440x900</td>\n",
              "      <td>Intel Core i5 1.8GHz</td>\n",
              "      <td>8GB</td>\n",
              "      <td>128GB Flash Storage</td>\n",
              "      <td>Intel HD Graphics 6000</td>\n",
              "      <td>macOS</td>\n",
              "      <td>1.34kg</td>\n",
              "      <td>898.94</td>\n",
              "    </tr>\n",
              "    <tr>\n",
              "      <th>2</th>\n",
              "      <td>3</td>\n",
              "      <td>HP</td>\n",
              "      <td>250 G6</td>\n",
              "      <td>Notebook</td>\n",
              "      <td>15.6</td>\n",
              "      <td>Full HD 1920x1080</td>\n",
              "      <td>Intel Core i5 7200U 2.5GHz</td>\n",
              "      <td>8GB</td>\n",
              "      <td>256GB SSD</td>\n",
              "      <td>Intel HD Graphics 620</td>\n",
              "      <td>No OS</td>\n",
              "      <td>1.86kg</td>\n",
              "      <td>575.00</td>\n",
              "    </tr>\n",
              "    <tr>\n",
              "      <th>3</th>\n",
              "      <td>4</td>\n",
              "      <td>Apple</td>\n",
              "      <td>MacBook Pro</td>\n",
              "      <td>Ultrabook</td>\n",
              "      <td>15.4</td>\n",
              "      <td>IPS Panel Retina Display 2880x1800</td>\n",
              "      <td>Intel Core i7 2.7GHz</td>\n",
              "      <td>16GB</td>\n",
              "      <td>512GB SSD</td>\n",
              "      <td>AMD Radeon Pro 455</td>\n",
              "      <td>macOS</td>\n",
              "      <td>1.83kg</td>\n",
              "      <td>2537.45</td>\n",
              "    </tr>\n",
              "    <tr>\n",
              "      <th>4</th>\n",
              "      <td>5</td>\n",
              "      <td>Apple</td>\n",
              "      <td>MacBook Pro</td>\n",
              "      <td>Ultrabook</td>\n",
              "      <td>13.3</td>\n",
              "      <td>IPS Panel Retina Display 2560x1600</td>\n",
              "      <td>Intel Core i5 3.1GHz</td>\n",
              "      <td>8GB</td>\n",
              "      <td>256GB SSD</td>\n",
              "      <td>Intel Iris Plus Graphics 650</td>\n",
              "      <td>macOS</td>\n",
              "      <td>1.37kg</td>\n",
              "      <td>1803.60</td>\n",
              "    </tr>\n",
              "  </tbody>\n",
              "</table>\n",
              "</div>"
            ],
            "text/plain": [
              "   laptop_ID Company      Product  ...  OpSys  Weight Price_euros\n",
              "0          1   Apple  MacBook Pro  ...  macOS  1.37kg     1339.69\n",
              "1          2   Apple  Macbook Air  ...  macOS  1.34kg      898.94\n",
              "2          3      HP       250 G6  ...  No OS  1.86kg      575.00\n",
              "3          4   Apple  MacBook Pro  ...  macOS  1.83kg     2537.45\n",
              "4          5   Apple  MacBook Pro  ...  macOS  1.37kg     1803.60\n",
              "\n",
              "[5 rows x 13 columns]"
            ]
          },
          "metadata": {},
          "execution_count": 386
        }
      ]
    },
    {
      "cell_type": "code",
      "metadata": {
        "colab": {
          "base_uri": "https://localhost:8080/"
        },
        "id": "wL_JzNnlKHuh",
        "outputId": "b4805d99-2a1f-4681-8462-fe164293917b"
      },
      "source": [
        "#number of dimension\n",
        "print(f\"The dataset has {lp_df.ndim} dimensions\")\n",
        "#number of rows and cols\n",
        "print(f\"The shape of the data set is {lp_df.shape}\")"
      ],
      "execution_count": null,
      "outputs": [
        {
          "output_type": "stream",
          "name": "stdout",
          "text": [
            "The dataset has 2 dimensions\n",
            "The shape of the data set is (1303, 13)\n"
          ]
        }
      ]
    },
    {
      "cell_type": "code",
      "metadata": {
        "colab": {
          "base_uri": "https://localhost:8080/"
        },
        "id": "I9txfEenKZIy",
        "outputId": "d97885a3-2fd0-44e5-b295-8841c9da2012"
      },
      "source": [
        "#features of the dataset\n",
        "lp_df.columns"
      ],
      "execution_count": null,
      "outputs": [
        {
          "output_type": "execute_result",
          "data": {
            "text/plain": [
              "Index(['laptop_ID', 'Company', 'Product', 'TypeName', 'Inches',\n",
              "       'ScreenResolution', 'Cpu', 'Ram', 'Memory', 'Gpu', 'OpSys', 'Weight',\n",
              "       'Price_euros'],\n",
              "      dtype='object')"
            ]
          },
          "metadata": {},
          "execution_count": 388
        }
      ]
    },
    {
      "cell_type": "markdown",
      "metadata": {
        "id": "WCSwCWnTC0Ho"
      },
      "source": [
        "###**Preprocessing**"
      ]
    },
    {
      "cell_type": "code",
      "metadata": {
        "colab": {
          "base_uri": "https://localhost:8080/"
        },
        "id": "gh3XrxgyGa1J",
        "outputId": "c36ccd3e-836e-4527-f98e-c664cdfd2388"
      },
      "source": [
        "lp_df.info()"
      ],
      "execution_count": null,
      "outputs": [
        {
          "output_type": "stream",
          "name": "stdout",
          "text": [
            "<class 'pandas.core.frame.DataFrame'>\n",
            "RangeIndex: 1303 entries, 0 to 1302\n",
            "Data columns (total 13 columns):\n",
            " #   Column            Non-Null Count  Dtype  \n",
            "---  ------            --------------  -----  \n",
            " 0   laptop_ID         1303 non-null   int64  \n",
            " 1   Company           1303 non-null   object \n",
            " 2   Product           1303 non-null   object \n",
            " 3   TypeName          1303 non-null   object \n",
            " 4   Inches            1303 non-null   float64\n",
            " 5   ScreenResolution  1303 non-null   object \n",
            " 6   Cpu               1303 non-null   object \n",
            " 7   Ram               1303 non-null   object \n",
            " 8   Memory            1303 non-null   object \n",
            " 9   Gpu               1303 non-null   object \n",
            " 10  OpSys             1303 non-null   object \n",
            " 11  Weight            1303 non-null   object \n",
            " 12  Price_euros       1303 non-null   float64\n",
            "dtypes: float64(2), int64(1), object(10)\n",
            "memory usage: 132.5+ KB\n"
          ]
        }
      ]
    },
    {
      "cell_type": "code",
      "metadata": {
        "colab": {
          "base_uri": "https://localhost:8080/",
          "height": 390
        },
        "id": "XN24W0UBFcwM",
        "outputId": "f63e1e1e-f5d6-4650-ae17-36a67fc1faa2"
      },
      "source": [
        "lp_df.describe(include = 'all')"
      ],
      "execution_count": null,
      "outputs": [
        {
          "output_type": "execute_result",
          "data": {
            "text/html": [
              "<div>\n",
              "<style scoped>\n",
              "    .dataframe tbody tr th:only-of-type {\n",
              "        vertical-align: middle;\n",
              "    }\n",
              "\n",
              "    .dataframe tbody tr th {\n",
              "        vertical-align: top;\n",
              "    }\n",
              "\n",
              "    .dataframe thead th {\n",
              "        text-align: right;\n",
              "    }\n",
              "</style>\n",
              "<table border=\"1\" class=\"dataframe\">\n",
              "  <thead>\n",
              "    <tr style=\"text-align: right;\">\n",
              "      <th></th>\n",
              "      <th>laptop_ID</th>\n",
              "      <th>Company</th>\n",
              "      <th>Product</th>\n",
              "      <th>TypeName</th>\n",
              "      <th>Inches</th>\n",
              "      <th>ScreenResolution</th>\n",
              "      <th>Cpu</th>\n",
              "      <th>Ram</th>\n",
              "      <th>Memory</th>\n",
              "      <th>Gpu</th>\n",
              "      <th>OpSys</th>\n",
              "      <th>Weight</th>\n",
              "      <th>Price_euros</th>\n",
              "    </tr>\n",
              "  </thead>\n",
              "  <tbody>\n",
              "    <tr>\n",
              "      <th>count</th>\n",
              "      <td>1303.000000</td>\n",
              "      <td>1303</td>\n",
              "      <td>1303</td>\n",
              "      <td>1303</td>\n",
              "      <td>1303.000000</td>\n",
              "      <td>1303</td>\n",
              "      <td>1303</td>\n",
              "      <td>1303</td>\n",
              "      <td>1303</td>\n",
              "      <td>1303</td>\n",
              "      <td>1303</td>\n",
              "      <td>1303</td>\n",
              "      <td>1303.000000</td>\n",
              "    </tr>\n",
              "    <tr>\n",
              "      <th>unique</th>\n",
              "      <td>NaN</td>\n",
              "      <td>19</td>\n",
              "      <td>618</td>\n",
              "      <td>6</td>\n",
              "      <td>NaN</td>\n",
              "      <td>40</td>\n",
              "      <td>118</td>\n",
              "      <td>9</td>\n",
              "      <td>39</td>\n",
              "      <td>110</td>\n",
              "      <td>9</td>\n",
              "      <td>179</td>\n",
              "      <td>NaN</td>\n",
              "    </tr>\n",
              "    <tr>\n",
              "      <th>top</th>\n",
              "      <td>NaN</td>\n",
              "      <td>Dell</td>\n",
              "      <td>XPS 13</td>\n",
              "      <td>Notebook</td>\n",
              "      <td>NaN</td>\n",
              "      <td>Full HD 1920x1080</td>\n",
              "      <td>Intel Core i5 7200U 2.5GHz</td>\n",
              "      <td>8GB</td>\n",
              "      <td>256GB SSD</td>\n",
              "      <td>Intel HD Graphics 620</td>\n",
              "      <td>Windows 10</td>\n",
              "      <td>2.2kg</td>\n",
              "      <td>NaN</td>\n",
              "    </tr>\n",
              "    <tr>\n",
              "      <th>freq</th>\n",
              "      <td>NaN</td>\n",
              "      <td>297</td>\n",
              "      <td>30</td>\n",
              "      <td>727</td>\n",
              "      <td>NaN</td>\n",
              "      <td>507</td>\n",
              "      <td>190</td>\n",
              "      <td>619</td>\n",
              "      <td>412</td>\n",
              "      <td>281</td>\n",
              "      <td>1072</td>\n",
              "      <td>121</td>\n",
              "      <td>NaN</td>\n",
              "    </tr>\n",
              "    <tr>\n",
              "      <th>mean</th>\n",
              "      <td>660.155794</td>\n",
              "      <td>NaN</td>\n",
              "      <td>NaN</td>\n",
              "      <td>NaN</td>\n",
              "      <td>15.017191</td>\n",
              "      <td>NaN</td>\n",
              "      <td>NaN</td>\n",
              "      <td>NaN</td>\n",
              "      <td>NaN</td>\n",
              "      <td>NaN</td>\n",
              "      <td>NaN</td>\n",
              "      <td>NaN</td>\n",
              "      <td>1123.686992</td>\n",
              "    </tr>\n",
              "    <tr>\n",
              "      <th>std</th>\n",
              "      <td>381.172104</td>\n",
              "      <td>NaN</td>\n",
              "      <td>NaN</td>\n",
              "      <td>NaN</td>\n",
              "      <td>1.426304</td>\n",
              "      <td>NaN</td>\n",
              "      <td>NaN</td>\n",
              "      <td>NaN</td>\n",
              "      <td>NaN</td>\n",
              "      <td>NaN</td>\n",
              "      <td>NaN</td>\n",
              "      <td>NaN</td>\n",
              "      <td>699.009043</td>\n",
              "    </tr>\n",
              "    <tr>\n",
              "      <th>min</th>\n",
              "      <td>1.000000</td>\n",
              "      <td>NaN</td>\n",
              "      <td>NaN</td>\n",
              "      <td>NaN</td>\n",
              "      <td>10.100000</td>\n",
              "      <td>NaN</td>\n",
              "      <td>NaN</td>\n",
              "      <td>NaN</td>\n",
              "      <td>NaN</td>\n",
              "      <td>NaN</td>\n",
              "      <td>NaN</td>\n",
              "      <td>NaN</td>\n",
              "      <td>174.000000</td>\n",
              "    </tr>\n",
              "    <tr>\n",
              "      <th>25%</th>\n",
              "      <td>331.500000</td>\n",
              "      <td>NaN</td>\n",
              "      <td>NaN</td>\n",
              "      <td>NaN</td>\n",
              "      <td>14.000000</td>\n",
              "      <td>NaN</td>\n",
              "      <td>NaN</td>\n",
              "      <td>NaN</td>\n",
              "      <td>NaN</td>\n",
              "      <td>NaN</td>\n",
              "      <td>NaN</td>\n",
              "      <td>NaN</td>\n",
              "      <td>599.000000</td>\n",
              "    </tr>\n",
              "    <tr>\n",
              "      <th>50%</th>\n",
              "      <td>659.000000</td>\n",
              "      <td>NaN</td>\n",
              "      <td>NaN</td>\n",
              "      <td>NaN</td>\n",
              "      <td>15.600000</td>\n",
              "      <td>NaN</td>\n",
              "      <td>NaN</td>\n",
              "      <td>NaN</td>\n",
              "      <td>NaN</td>\n",
              "      <td>NaN</td>\n",
              "      <td>NaN</td>\n",
              "      <td>NaN</td>\n",
              "      <td>977.000000</td>\n",
              "    </tr>\n",
              "    <tr>\n",
              "      <th>75%</th>\n",
              "      <td>990.500000</td>\n",
              "      <td>NaN</td>\n",
              "      <td>NaN</td>\n",
              "      <td>NaN</td>\n",
              "      <td>15.600000</td>\n",
              "      <td>NaN</td>\n",
              "      <td>NaN</td>\n",
              "      <td>NaN</td>\n",
              "      <td>NaN</td>\n",
              "      <td>NaN</td>\n",
              "      <td>NaN</td>\n",
              "      <td>NaN</td>\n",
              "      <td>1487.880000</td>\n",
              "    </tr>\n",
              "    <tr>\n",
              "      <th>max</th>\n",
              "      <td>1320.000000</td>\n",
              "      <td>NaN</td>\n",
              "      <td>NaN</td>\n",
              "      <td>NaN</td>\n",
              "      <td>18.400000</td>\n",
              "      <td>NaN</td>\n",
              "      <td>NaN</td>\n",
              "      <td>NaN</td>\n",
              "      <td>NaN</td>\n",
              "      <td>NaN</td>\n",
              "      <td>NaN</td>\n",
              "      <td>NaN</td>\n",
              "      <td>6099.000000</td>\n",
              "    </tr>\n",
              "  </tbody>\n",
              "</table>\n",
              "</div>"
            ],
            "text/plain": [
              "          laptop_ID Company Product  ...       OpSys  Weight  Price_euros\n",
              "count   1303.000000    1303    1303  ...        1303    1303  1303.000000\n",
              "unique          NaN      19     618  ...           9     179          NaN\n",
              "top             NaN    Dell  XPS 13  ...  Windows 10   2.2kg          NaN\n",
              "freq            NaN     297      30  ...        1072     121          NaN\n",
              "mean     660.155794     NaN     NaN  ...         NaN     NaN  1123.686992\n",
              "std      381.172104     NaN     NaN  ...         NaN     NaN   699.009043\n",
              "min        1.000000     NaN     NaN  ...         NaN     NaN   174.000000\n",
              "25%      331.500000     NaN     NaN  ...         NaN     NaN   599.000000\n",
              "50%      659.000000     NaN     NaN  ...         NaN     NaN   977.000000\n",
              "75%      990.500000     NaN     NaN  ...         NaN     NaN  1487.880000\n",
              "max     1320.000000     NaN     NaN  ...         NaN     NaN  6099.000000\n",
              "\n",
              "[11 rows x 13 columns]"
            ]
          },
          "metadata": {},
          "execution_count": 390
        }
      ]
    },
    {
      "cell_type": "markdown",
      "metadata": {
        "id": "1hhVITkk0sCV"
      },
      "source": [
        "**Data Cleaning**"
      ]
    },
    {
      "cell_type": "code",
      "metadata": {
        "colab": {
          "base_uri": "https://localhost:8080/"
        },
        "id": "q3MIEWad0vuD",
        "outputId": "bd2e3c57-3c2d-4f3e-c9fd-42c79b759cc8"
      },
      "source": [
        "lp_df = lp_df.rename(columns = str.lower)\n",
        "lp_df.columns"
      ],
      "execution_count": null,
      "outputs": [
        {
          "output_type": "execute_result",
          "data": {
            "text/plain": [
              "Index(['laptop_id', 'company', 'product', 'typename', 'inches',\n",
              "       'screenresolution', 'cpu', 'ram', 'memory', 'gpu', 'opsys', 'weight',\n",
              "       'price_euros'],\n",
              "      dtype='object')"
            ]
          },
          "metadata": {},
          "execution_count": 391
        }
      ]
    },
    {
      "cell_type": "code",
      "metadata": {
        "id": "drWPsWWF1MJt"
      },
      "source": [
        "lp_df = lp_df.rename(columns={'price_euros':'price'})"
      ],
      "execution_count": null,
      "outputs": []
    },
    {
      "cell_type": "markdown",
      "metadata": {
        "id": "2KXhiUto1VZO"
      },
      "source": [
        "**Checking for duplicates**"
      ]
    },
    {
      "cell_type": "code",
      "metadata": {
        "colab": {
          "base_uri": "https://localhost:8080/",
          "height": 49
        },
        "id": "q3GFzHCg1oD9",
        "outputId": "a78bc640-868d-4045-bfda-7caa562e9270"
      },
      "source": [
        "lp_df[lp_df.duplicated()]"
      ],
      "execution_count": null,
      "outputs": [
        {
          "output_type": "execute_result",
          "data": {
            "text/html": [
              "<div>\n",
              "<style scoped>\n",
              "    .dataframe tbody tr th:only-of-type {\n",
              "        vertical-align: middle;\n",
              "    }\n",
              "\n",
              "    .dataframe tbody tr th {\n",
              "        vertical-align: top;\n",
              "    }\n",
              "\n",
              "    .dataframe thead th {\n",
              "        text-align: right;\n",
              "    }\n",
              "</style>\n",
              "<table border=\"1\" class=\"dataframe\">\n",
              "  <thead>\n",
              "    <tr style=\"text-align: right;\">\n",
              "      <th></th>\n",
              "      <th>laptop_id</th>\n",
              "      <th>company</th>\n",
              "      <th>product</th>\n",
              "      <th>typename</th>\n",
              "      <th>inches</th>\n",
              "      <th>screenresolution</th>\n",
              "      <th>cpu</th>\n",
              "      <th>ram</th>\n",
              "      <th>memory</th>\n",
              "      <th>gpu</th>\n",
              "      <th>opsys</th>\n",
              "      <th>weight</th>\n",
              "      <th>price</th>\n",
              "    </tr>\n",
              "  </thead>\n",
              "  <tbody>\n",
              "  </tbody>\n",
              "</table>\n",
              "</div>"
            ],
            "text/plain": [
              "Empty DataFrame\n",
              "Columns: [laptop_id, company, product, typename, inches, screenresolution, cpu, ram, memory, gpu, opsys, weight, price]\n",
              "Index: []"
            ]
          },
          "metadata": {},
          "execution_count": 393
        }
      ]
    },
    {
      "cell_type": "markdown",
      "metadata": {
        "id": "vncAHo6n3ar5"
      },
      "source": [
        "**Checking for Missing Values**"
      ]
    },
    {
      "cell_type": "code",
      "metadata": {
        "colab": {
          "base_uri": "https://localhost:8080/"
        },
        "id": "Rk16566N3cGV",
        "outputId": "fd37a273-80e1-4019-eb88-cd91be450b2c"
      },
      "source": [
        "lp_df.isnull().sum()"
      ],
      "execution_count": null,
      "outputs": [
        {
          "output_type": "execute_result",
          "data": {
            "text/plain": [
              "laptop_id           0\n",
              "company             0\n",
              "product             0\n",
              "typename            0\n",
              "inches              0\n",
              "screenresolution    0\n",
              "cpu                 0\n",
              "ram                 0\n",
              "memory              0\n",
              "gpu                 0\n",
              "opsys               0\n",
              "weight              0\n",
              "price               0\n",
              "dtype: int64"
            ]
          },
          "metadata": {},
          "execution_count": 394
        }
      ]
    },
    {
      "cell_type": "markdown",
      "metadata": {
        "id": "n1L2unUhH3Ji"
      },
      "source": [
        "**Determining Features of Interest**"
      ]
    },
    {
      "cell_type": "code",
      "metadata": {
        "colab": {
          "base_uri": "https://localhost:8080/",
          "height": 390
        },
        "id": "DbP7ANKuFwIm",
        "outputId": "9ca9215e-e0d6-4245-f3a0-79c29941628a"
      },
      "source": [
        "lp_df = lp_df.drop([\"laptop_id\"], axis=1)\n",
        "lp_df.describe(include = 'all')"
      ],
      "execution_count": null,
      "outputs": [
        {
          "output_type": "execute_result",
          "data": {
            "text/html": [
              "<div>\n",
              "<style scoped>\n",
              "    .dataframe tbody tr th:only-of-type {\n",
              "        vertical-align: middle;\n",
              "    }\n",
              "\n",
              "    .dataframe tbody tr th {\n",
              "        vertical-align: top;\n",
              "    }\n",
              "\n",
              "    .dataframe thead th {\n",
              "        text-align: right;\n",
              "    }\n",
              "</style>\n",
              "<table border=\"1\" class=\"dataframe\">\n",
              "  <thead>\n",
              "    <tr style=\"text-align: right;\">\n",
              "      <th></th>\n",
              "      <th>company</th>\n",
              "      <th>product</th>\n",
              "      <th>typename</th>\n",
              "      <th>inches</th>\n",
              "      <th>screenresolution</th>\n",
              "      <th>cpu</th>\n",
              "      <th>ram</th>\n",
              "      <th>memory</th>\n",
              "      <th>gpu</th>\n",
              "      <th>opsys</th>\n",
              "      <th>weight</th>\n",
              "      <th>price</th>\n",
              "    </tr>\n",
              "  </thead>\n",
              "  <tbody>\n",
              "    <tr>\n",
              "      <th>count</th>\n",
              "      <td>1303</td>\n",
              "      <td>1303</td>\n",
              "      <td>1303</td>\n",
              "      <td>1303.000000</td>\n",
              "      <td>1303</td>\n",
              "      <td>1303</td>\n",
              "      <td>1303</td>\n",
              "      <td>1303</td>\n",
              "      <td>1303</td>\n",
              "      <td>1303</td>\n",
              "      <td>1303</td>\n",
              "      <td>1303.000000</td>\n",
              "    </tr>\n",
              "    <tr>\n",
              "      <th>unique</th>\n",
              "      <td>19</td>\n",
              "      <td>618</td>\n",
              "      <td>6</td>\n",
              "      <td>NaN</td>\n",
              "      <td>40</td>\n",
              "      <td>118</td>\n",
              "      <td>9</td>\n",
              "      <td>39</td>\n",
              "      <td>110</td>\n",
              "      <td>9</td>\n",
              "      <td>179</td>\n",
              "      <td>NaN</td>\n",
              "    </tr>\n",
              "    <tr>\n",
              "      <th>top</th>\n",
              "      <td>Dell</td>\n",
              "      <td>XPS 13</td>\n",
              "      <td>Notebook</td>\n",
              "      <td>NaN</td>\n",
              "      <td>Full HD 1920x1080</td>\n",
              "      <td>Intel Core i5 7200U 2.5GHz</td>\n",
              "      <td>8GB</td>\n",
              "      <td>256GB SSD</td>\n",
              "      <td>Intel HD Graphics 620</td>\n",
              "      <td>Windows 10</td>\n",
              "      <td>2.2kg</td>\n",
              "      <td>NaN</td>\n",
              "    </tr>\n",
              "    <tr>\n",
              "      <th>freq</th>\n",
              "      <td>297</td>\n",
              "      <td>30</td>\n",
              "      <td>727</td>\n",
              "      <td>NaN</td>\n",
              "      <td>507</td>\n",
              "      <td>190</td>\n",
              "      <td>619</td>\n",
              "      <td>412</td>\n",
              "      <td>281</td>\n",
              "      <td>1072</td>\n",
              "      <td>121</td>\n",
              "      <td>NaN</td>\n",
              "    </tr>\n",
              "    <tr>\n",
              "      <th>mean</th>\n",
              "      <td>NaN</td>\n",
              "      <td>NaN</td>\n",
              "      <td>NaN</td>\n",
              "      <td>15.017191</td>\n",
              "      <td>NaN</td>\n",
              "      <td>NaN</td>\n",
              "      <td>NaN</td>\n",
              "      <td>NaN</td>\n",
              "      <td>NaN</td>\n",
              "      <td>NaN</td>\n",
              "      <td>NaN</td>\n",
              "      <td>1123.686992</td>\n",
              "    </tr>\n",
              "    <tr>\n",
              "      <th>std</th>\n",
              "      <td>NaN</td>\n",
              "      <td>NaN</td>\n",
              "      <td>NaN</td>\n",
              "      <td>1.426304</td>\n",
              "      <td>NaN</td>\n",
              "      <td>NaN</td>\n",
              "      <td>NaN</td>\n",
              "      <td>NaN</td>\n",
              "      <td>NaN</td>\n",
              "      <td>NaN</td>\n",
              "      <td>NaN</td>\n",
              "      <td>699.009043</td>\n",
              "    </tr>\n",
              "    <tr>\n",
              "      <th>min</th>\n",
              "      <td>NaN</td>\n",
              "      <td>NaN</td>\n",
              "      <td>NaN</td>\n",
              "      <td>10.100000</td>\n",
              "      <td>NaN</td>\n",
              "      <td>NaN</td>\n",
              "      <td>NaN</td>\n",
              "      <td>NaN</td>\n",
              "      <td>NaN</td>\n",
              "      <td>NaN</td>\n",
              "      <td>NaN</td>\n",
              "      <td>174.000000</td>\n",
              "    </tr>\n",
              "    <tr>\n",
              "      <th>25%</th>\n",
              "      <td>NaN</td>\n",
              "      <td>NaN</td>\n",
              "      <td>NaN</td>\n",
              "      <td>14.000000</td>\n",
              "      <td>NaN</td>\n",
              "      <td>NaN</td>\n",
              "      <td>NaN</td>\n",
              "      <td>NaN</td>\n",
              "      <td>NaN</td>\n",
              "      <td>NaN</td>\n",
              "      <td>NaN</td>\n",
              "      <td>599.000000</td>\n",
              "    </tr>\n",
              "    <tr>\n",
              "      <th>50%</th>\n",
              "      <td>NaN</td>\n",
              "      <td>NaN</td>\n",
              "      <td>NaN</td>\n",
              "      <td>15.600000</td>\n",
              "      <td>NaN</td>\n",
              "      <td>NaN</td>\n",
              "      <td>NaN</td>\n",
              "      <td>NaN</td>\n",
              "      <td>NaN</td>\n",
              "      <td>NaN</td>\n",
              "      <td>NaN</td>\n",
              "      <td>977.000000</td>\n",
              "    </tr>\n",
              "    <tr>\n",
              "      <th>75%</th>\n",
              "      <td>NaN</td>\n",
              "      <td>NaN</td>\n",
              "      <td>NaN</td>\n",
              "      <td>15.600000</td>\n",
              "      <td>NaN</td>\n",
              "      <td>NaN</td>\n",
              "      <td>NaN</td>\n",
              "      <td>NaN</td>\n",
              "      <td>NaN</td>\n",
              "      <td>NaN</td>\n",
              "      <td>NaN</td>\n",
              "      <td>1487.880000</td>\n",
              "    </tr>\n",
              "    <tr>\n",
              "      <th>max</th>\n",
              "      <td>NaN</td>\n",
              "      <td>NaN</td>\n",
              "      <td>NaN</td>\n",
              "      <td>18.400000</td>\n",
              "      <td>NaN</td>\n",
              "      <td>NaN</td>\n",
              "      <td>NaN</td>\n",
              "      <td>NaN</td>\n",
              "      <td>NaN</td>\n",
              "      <td>NaN</td>\n",
              "      <td>NaN</td>\n",
              "      <td>6099.000000</td>\n",
              "    </tr>\n",
              "  </tbody>\n",
              "</table>\n",
              "</div>"
            ],
            "text/plain": [
              "       company product  typename  ...       opsys weight        price\n",
              "count     1303    1303      1303  ...        1303   1303  1303.000000\n",
              "unique      19     618         6  ...           9    179          NaN\n",
              "top       Dell  XPS 13  Notebook  ...  Windows 10  2.2kg          NaN\n",
              "freq       297      30       727  ...        1072    121          NaN\n",
              "mean       NaN     NaN       NaN  ...         NaN    NaN  1123.686992\n",
              "std        NaN     NaN       NaN  ...         NaN    NaN   699.009043\n",
              "min        NaN     NaN       NaN  ...         NaN    NaN   174.000000\n",
              "25%        NaN     NaN       NaN  ...         NaN    NaN   599.000000\n",
              "50%        NaN     NaN       NaN  ...         NaN    NaN   977.000000\n",
              "75%        NaN     NaN       NaN  ...         NaN    NaN  1487.880000\n",
              "max        NaN     NaN       NaN  ...         NaN    NaN  6099.000000\n",
              "\n",
              "[11 rows x 12 columns]"
            ]
          },
          "metadata": {},
          "execution_count": 395
        }
      ]
    },
    {
      "cell_type": "code",
      "metadata": {
        "id": "bK_r-eJI39sd"
      },
      "source": [
        "lp_df['price'] = lp_df['price']*57.14\n",
        "lp_df['price'] = lp_df['price'].round(2)"
      ],
      "execution_count": null,
      "outputs": []
    },
    {
      "cell_type": "code",
      "metadata": {
        "colab": {
          "base_uri": "https://localhost:8080/",
          "height": 204
        },
        "id": "iNUP-qcn4-LX",
        "outputId": "9ede4079-d9ac-4ffe-b260-8bd1a258be78"
      },
      "source": [
        "lp_df.head()"
      ],
      "execution_count": null,
      "outputs": [
        {
          "output_type": "execute_result",
          "data": {
            "text/html": [
              "<div>\n",
              "<style scoped>\n",
              "    .dataframe tbody tr th:only-of-type {\n",
              "        vertical-align: middle;\n",
              "    }\n",
              "\n",
              "    .dataframe tbody tr th {\n",
              "        vertical-align: top;\n",
              "    }\n",
              "\n",
              "    .dataframe thead th {\n",
              "        text-align: right;\n",
              "    }\n",
              "</style>\n",
              "<table border=\"1\" class=\"dataframe\">\n",
              "  <thead>\n",
              "    <tr style=\"text-align: right;\">\n",
              "      <th></th>\n",
              "      <th>company</th>\n",
              "      <th>product</th>\n",
              "      <th>typename</th>\n",
              "      <th>inches</th>\n",
              "      <th>screenresolution</th>\n",
              "      <th>cpu</th>\n",
              "      <th>ram</th>\n",
              "      <th>memory</th>\n",
              "      <th>gpu</th>\n",
              "      <th>opsys</th>\n",
              "      <th>weight</th>\n",
              "      <th>price</th>\n",
              "    </tr>\n",
              "  </thead>\n",
              "  <tbody>\n",
              "    <tr>\n",
              "      <th>0</th>\n",
              "      <td>Apple</td>\n",
              "      <td>MacBook Pro</td>\n",
              "      <td>Ultrabook</td>\n",
              "      <td>13.3</td>\n",
              "      <td>IPS Panel Retina Display 2560x1600</td>\n",
              "      <td>Intel Core i5 2.3GHz</td>\n",
              "      <td>8GB</td>\n",
              "      <td>128GB SSD</td>\n",
              "      <td>Intel Iris Plus Graphics 640</td>\n",
              "      <td>macOS</td>\n",
              "      <td>1.37kg</td>\n",
              "      <td>76549.89</td>\n",
              "    </tr>\n",
              "    <tr>\n",
              "      <th>1</th>\n",
              "      <td>Apple</td>\n",
              "      <td>Macbook Air</td>\n",
              "      <td>Ultrabook</td>\n",
              "      <td>13.3</td>\n",
              "      <td>1440x900</td>\n",
              "      <td>Intel Core i5 1.8GHz</td>\n",
              "      <td>8GB</td>\n",
              "      <td>128GB Flash Storage</td>\n",
              "      <td>Intel HD Graphics 6000</td>\n",
              "      <td>macOS</td>\n",
              "      <td>1.34kg</td>\n",
              "      <td>51365.43</td>\n",
              "    </tr>\n",
              "    <tr>\n",
              "      <th>2</th>\n",
              "      <td>HP</td>\n",
              "      <td>250 G6</td>\n",
              "      <td>Notebook</td>\n",
              "      <td>15.6</td>\n",
              "      <td>Full HD 1920x1080</td>\n",
              "      <td>Intel Core i5 7200U 2.5GHz</td>\n",
              "      <td>8GB</td>\n",
              "      <td>256GB SSD</td>\n",
              "      <td>Intel HD Graphics 620</td>\n",
              "      <td>No OS</td>\n",
              "      <td>1.86kg</td>\n",
              "      <td>32855.50</td>\n",
              "    </tr>\n",
              "    <tr>\n",
              "      <th>3</th>\n",
              "      <td>Apple</td>\n",
              "      <td>MacBook Pro</td>\n",
              "      <td>Ultrabook</td>\n",
              "      <td>15.4</td>\n",
              "      <td>IPS Panel Retina Display 2880x1800</td>\n",
              "      <td>Intel Core i7 2.7GHz</td>\n",
              "      <td>16GB</td>\n",
              "      <td>512GB SSD</td>\n",
              "      <td>AMD Radeon Pro 455</td>\n",
              "      <td>macOS</td>\n",
              "      <td>1.83kg</td>\n",
              "      <td>144989.89</td>\n",
              "    </tr>\n",
              "    <tr>\n",
              "      <th>4</th>\n",
              "      <td>Apple</td>\n",
              "      <td>MacBook Pro</td>\n",
              "      <td>Ultrabook</td>\n",
              "      <td>13.3</td>\n",
              "      <td>IPS Panel Retina Display 2560x1600</td>\n",
              "      <td>Intel Core i5 3.1GHz</td>\n",
              "      <td>8GB</td>\n",
              "      <td>256GB SSD</td>\n",
              "      <td>Intel Iris Plus Graphics 650</td>\n",
              "      <td>macOS</td>\n",
              "      <td>1.37kg</td>\n",
              "      <td>103057.70</td>\n",
              "    </tr>\n",
              "  </tbody>\n",
              "</table>\n",
              "</div>"
            ],
            "text/plain": [
              "  company      product   typename  ...  opsys  weight      price\n",
              "0   Apple  MacBook Pro  Ultrabook  ...  macOS  1.37kg   76549.89\n",
              "1   Apple  Macbook Air  Ultrabook  ...  macOS  1.34kg   51365.43\n",
              "2      HP       250 G6   Notebook  ...  No OS  1.86kg   32855.50\n",
              "3   Apple  MacBook Pro  Ultrabook  ...  macOS  1.83kg  144989.89\n",
              "4   Apple  MacBook Pro  Ultrabook  ...  macOS  1.37kg  103057.70\n",
              "\n",
              "[5 rows x 12 columns]"
            ]
          },
          "metadata": {},
          "execution_count": 397
        }
      ]
    },
    {
      "cell_type": "code",
      "metadata": {
        "id": "p6Zobr1OFBNM"
      },
      "source": [
        "cat_vars = ['company', 'typename', 'memory', 'ram', 'screenresolution', 'opsys']"
      ],
      "execution_count": null,
      "outputs": []
    },
    {
      "cell_type": "markdown",
      "metadata": {
        "id": "p6Qu42cNIIRX"
      },
      "source": [
        "###**Data Exploration and Visualization**"
      ]
    },
    {
      "cell_type": "code",
      "metadata": {
        "colab": {
          "base_uri": "https://localhost:8080/",
          "height": 299
        },
        "id": "m_PWx30oIRrz",
        "outputId": "93c2b603-3a52-4b56-bb9c-c6c96ae0cd8e"
      },
      "source": [
        "sns.histplot(lp_df['price'])"
      ],
      "execution_count": null,
      "outputs": [
        {
          "output_type": "execute_result",
          "data": {
            "text/plain": [
              "<matplotlib.axes._subplots.AxesSubplot at 0x7f2cd873ed90>"
            ]
          },
          "metadata": {},
          "execution_count": 399
        },
        {
          "output_type": "display_data",
          "data": {
            "image/png": "[encoded data removed]",
            "text/plain": [
              "<Figure size 432x288 with 1 Axes>"
            ]
          },
          "metadata": {
            "needs_background": "light"
          }
        }
      ]
    },
    {
      "cell_type": "code",
      "metadata": {
        "id": "yYBs3khJ4_tz"
      },
      "source": [
        "def plot_cat_var(lp_df, var):\n",
        "    lp_df = lp_df.copy()\n",
        "    print(f'Number of {var}: ',lp_df[var].nunique())\n",
        "    print(f'Laptop\\'s {var}: ', lp_df[var].unique())\n",
        "    plt.figure(figsize = (15, 7))\n",
        "    plt.title(f'Distribution of {var} by price')\n",
        "    sns.barplot(\n",
        "        x = var,\n",
        "        y = 'price',\n",
        "        data = lp_df\n",
        "    )\n",
        "    plt.xticks(rotation = 'vertical')\n",
        "    plt.ylabel('Price')\n",
        "    plt.show()"
      ],
      "execution_count": null,
      "outputs": []
    },
    {
      "cell_type": "code",
      "metadata": {
        "colab": {
          "base_uri": "https://localhost:8080/",
          "height": 1000
        },
        "id": "_9A0ffNrE3xP",
        "outputId": "c561c546-813c-4e9f-c514-ae6835c286a2"
      },
      "source": [
        "for var in cat_vars:\n",
        "    plot_cat_var(lp_df, var)"
      ],
      "execution_count": null,
      "outputs": [
        {
          "output_type": "stream",
          "name": "stdout",
          "text": [
            "Number of company:  19\n",
            "Laptop's company:  ['Apple' 'HP' 'Acer' 'Asus' 'Dell' 'Lenovo' 'Chuwi' 'MSI' 'Microsoft'\n",
            " 'Toshiba' 'Huawei' 'Xiaomi' 'Vero' 'Razer' 'Mediacom' 'Samsung' 'Google'\n",
            " 'Fujitsu' 'LG']\n"
          ]
        },
        {
          "output_type": "display_data",
          "data": {
            "image/png": "[encoded data removed]",
            "text/plain": [
              "<Figure size 1080x504 with 1 Axes>"
            ]
          },
          "metadata": {
            "needs_background": "light"
          }
        },
        {
          "output_type": "stream",
          "name": "stdout",
          "text": [
            "Number of typename:  6\n",
            "Laptop's typename:  ['Ultrabook' 'Notebook' 'Netbook' 'Gaming' '2 in 1 Convertible'\n",
            " 'Workstation']\n"
          ]
        },
        {
          "output_type": "display_data",
          "data": {
            "image/png": "[encoded data removed]",
            "text/plain": [
              "<Figure size 1080x504 with 1 Axes>"
            ]
          },
          "metadata": {
            "needs_background": "light"
          }
        },
        {
          "output_type": "stream",
          "name": "stdout",
          "text": [
            "Number of memory:  39\n",
            "Laptop's memory:  ['128GB SSD' '128GB Flash Storage' '256GB SSD' '512GB SSD' '500GB HDD'\n",
            " '256GB Flash Storage' '1TB HDD' '32GB Flash Storage'\n",
            " '128GB SSD +  1TB HDD' '256GB SSD +  256GB SSD' '64GB Flash Storage'\n",
            " '256GB SSD +  1TB HDD' '256GB SSD +  2TB HDD' '32GB SSD' '2TB HDD'\n",
            " '64GB SSD' '1.0TB Hybrid' '512GB SSD +  1TB HDD' '1TB SSD'\n",
            " '256GB SSD +  500GB HDD' '128GB SSD +  2TB HDD' '512GB SSD +  512GB SSD'\n",
            " '16GB SSD' '16GB Flash Storage' '512GB SSD +  256GB SSD'\n",
            " '512GB SSD +  2TB HDD' '64GB Flash Storage +  1TB HDD' '180GB SSD'\n",
            " '1TB HDD +  1TB HDD' '32GB HDD' '1TB SSD +  1TB HDD'\n",
            " '512GB Flash Storage' '128GB HDD' '240GB SSD' '8GB SSD' '508GB Hybrid'\n",
            " '1.0TB HDD' '512GB SSD +  1.0TB Hybrid' '256GB SSD +  1.0TB Hybrid']\n"
          ]
        },
        {
          "output_type": "display_data",
          "data": {
            "image/png": "[encoded data removed]",
            "text/plain": [
              "<Figure size 1080x504 with 1 Axes>"
            ]
          },
          "metadata": {
            "needs_background": "light"
          }
        },
        {
          "output_type": "stream",
          "name": "stdout",
          "text": [
            "Number of ram:  9\n",
            "Laptop's ram:  ['8GB' '16GB' '4GB' '2GB' '12GB' '6GB' '32GB' '24GB' '64GB']\n"
          ]
        },
        {
          "output_type": "display_data",
          "data": {
            "image/png": "[encoded data removed]",
            "text/plain": [
              "<Figure size 1080x504 with 1 Axes>"
            ]
          },
          "metadata": {
            "needs_background": "light"
          }
        },
        {
          "output_type": "stream",
          "name": "stdout",
          "text": [
            "Number of screenresolution:  40\n",
            "Laptop's screenresolution:  ['IPS Panel Retina Display 2560x1600' '1440x900' 'Full HD 1920x1080'\n",
            " 'IPS Panel Retina Display 2880x1800' '1366x768'\n",
            " 'IPS Panel Full HD 1920x1080' 'IPS Panel Retina Display 2304x1440'\n",
            " 'IPS Panel Full HD / Touchscreen 1920x1080'\n",
            " 'Full HD / Touchscreen 1920x1080' 'Touchscreen / Quad HD+ 3200x1800'\n",
            " 'IPS Panel Touchscreen 1920x1200' 'Touchscreen 2256x1504'\n",
            " 'Quad HD+ / Touchscreen 3200x1800' 'IPS Panel 1366x768'\n",
            " 'IPS Panel 4K Ultra HD / Touchscreen 3840x2160'\n",
            " 'IPS Panel Full HD 2160x1440' '4K Ultra HD / Touchscreen 3840x2160'\n",
            " 'Touchscreen 2560x1440' '1600x900' 'IPS Panel 4K Ultra HD 3840x2160'\n",
            " '4K Ultra HD 3840x2160' 'Touchscreen 1366x768'\n",
            " 'IPS Panel Full HD 1366x768' 'IPS Panel 2560x1440'\n",
            " 'IPS Panel Full HD 2560x1440' 'IPS Panel Retina Display 2736x1824'\n",
            " 'Touchscreen 2400x1600' '2560x1440' 'IPS Panel Quad HD+ 2560x1440'\n",
            " 'IPS Panel Quad HD+ 3200x1800'\n",
            " 'IPS Panel Quad HD+ / Touchscreen 3200x1800'\n",
            " 'IPS Panel Touchscreen 1366x768' '1920x1080'\n",
            " 'IPS Panel Full HD 1920x1200'\n",
            " 'IPS Panel Touchscreen / 4K Ultra HD 3840x2160'\n",
            " 'IPS Panel Touchscreen 2560x1440' 'Touchscreen / Full HD 1920x1080'\n",
            " 'Quad HD+ 3200x1800' 'Touchscreen / 4K Ultra HD 3840x2160'\n",
            " 'IPS Panel Touchscreen 2400x1600']\n"
          ]
        },
        {
          "output_type": "display_data",
          "data": {
            "image/png": "[encoded data removed]",
            "text/plain": [
              "<Figure size 1080x504 with 1 Axes>"
            ]
          },
          "metadata": {
            "needs_background": "light"
          }
        },
        {
          "output_type": "stream",
          "name": "stdout",
          "text": [
            "Number of opsys:  9\n",
            "Laptop's opsys:  ['macOS' 'No OS' 'Windows 10' 'Mac OS X' 'Linux' 'Android' 'Windows 10 S'\n",
            " 'Chrome OS' 'Windows 7']\n"
          ]
        },
        {
          "output_type": "display_data",
          "data": {
            "image/png": "[encoded data removed]",
            "text/plain": [
              "<Figure size 1080x504 with 1 Axes>"
            ]
          },
          "metadata": {
            "needs_background": "light"
          }
        }
      ]
    },
    {
      "cell_type": "markdown",
      "metadata": {
        "id": "WB8C86pVDeI8"
      },
      "source": [
        "**Modifying Screen Resolution Feature**"
      ]
    },
    {
      "cell_type": "code",
      "metadata": {
        "colab": {
          "base_uri": "https://localhost:8080/",
          "height": 204
        },
        "id": "Yk2BjglIAsY2",
        "outputId": "bc961191-4f2b-43ec-df23-3a9cd9dd84c8"
      },
      "source": [
        "lp_df.head()"
      ],
      "execution_count": null,
      "outputs": [
        {
          "output_type": "execute_result",
          "data": {
            "text/html": [
              "<div>\n",
              "<style scoped>\n",
              "    .dataframe tbody tr th:only-of-type {\n",
              "        vertical-align: middle;\n",
              "    }\n",
              "\n",
              "    .dataframe tbody tr th {\n",
              "        vertical-align: top;\n",
              "    }\n",
              "\n",
              "    .dataframe thead th {\n",
              "        text-align: right;\n",
              "    }\n",
              "</style>\n",
              "<table border=\"1\" class=\"dataframe\">\n",
              "  <thead>\n",
              "    <tr style=\"text-align: right;\">\n",
              "      <th></th>\n",
              "      <th>company</th>\n",
              "      <th>product</th>\n",
              "      <th>typename</th>\n",
              "      <th>inches</th>\n",
              "      <th>screenresolution</th>\n",
              "      <th>cpu</th>\n",
              "      <th>ram</th>\n",
              "      <th>memory</th>\n",
              "      <th>gpu</th>\n",
              "      <th>opsys</th>\n",
              "      <th>weight</th>\n",
              "      <th>price</th>\n",
              "    </tr>\n",
              "  </thead>\n",
              "  <tbody>\n",
              "    <tr>\n",
              "      <th>0</th>\n",
              "      <td>Apple</td>\n",
              "      <td>MacBook Pro</td>\n",
              "      <td>Ultrabook</td>\n",
              "      <td>13.3</td>\n",
              "      <td>IPS Panel Retina Display 2560x1600</td>\n",
              "      <td>Intel Core i5 2.3GHz</td>\n",
              "      <td>8GB</td>\n",
              "      <td>128GB SSD</td>\n",
              "      <td>Intel Iris Plus Graphics 640</td>\n",
              "      <td>macOS</td>\n",
              "      <td>1.37kg</td>\n",
              "      <td>76549.89</td>\n",
              "    </tr>\n",
              "    <tr>\n",
              "      <th>1</th>\n",
              "      <td>Apple</td>\n",
              "      <td>Macbook Air</td>\n",
              "      <td>Ultrabook</td>\n",
              "      <td>13.3</td>\n",
              "      <td>1440x900</td>\n",
              "      <td>Intel Core i5 1.8GHz</td>\n",
              "      <td>8GB</td>\n",
              "      <td>128GB Flash Storage</td>\n",
              "      <td>Intel HD Graphics 6000</td>\n",
              "      <td>macOS</td>\n",
              "      <td>1.34kg</td>\n",
              "      <td>51365.43</td>\n",
              "    </tr>\n",
              "    <tr>\n",
              "      <th>2</th>\n",
              "      <td>HP</td>\n",
              "      <td>250 G6</td>\n",
              "      <td>Notebook</td>\n",
              "      <td>15.6</td>\n",
              "      <td>Full HD 1920x1080</td>\n",
              "      <td>Intel Core i5 7200U 2.5GHz</td>\n",
              "      <td>8GB</td>\n",
              "      <td>256GB SSD</td>\n",
              "      <td>Intel HD Graphics 620</td>\n",
              "      <td>No OS</td>\n",
              "      <td>1.86kg</td>\n",
              "      <td>32855.50</td>\n",
              "    </tr>\n",
              "    <tr>\n",
              "      <th>3</th>\n",
              "      <td>Apple</td>\n",
              "      <td>MacBook Pro</td>\n",
              "      <td>Ultrabook</td>\n",
              "      <td>15.4</td>\n",
              "      <td>IPS Panel Retina Display 2880x1800</td>\n",
              "      <td>Intel Core i7 2.7GHz</td>\n",
              "      <td>16GB</td>\n",
              "      <td>512GB SSD</td>\n",
              "      <td>AMD Radeon Pro 455</td>\n",
              "      <td>macOS</td>\n",
              "      <td>1.83kg</td>\n",
              "      <td>144989.89</td>\n",
              "    </tr>\n",
              "    <tr>\n",
              "      <th>4</th>\n",
              "      <td>Apple</td>\n",
              "      <td>MacBook Pro</td>\n",
              "      <td>Ultrabook</td>\n",
              "      <td>13.3</td>\n",
              "      <td>IPS Panel Retina Display 2560x1600</td>\n",
              "      <td>Intel Core i5 3.1GHz</td>\n",
              "      <td>8GB</td>\n",
              "      <td>256GB SSD</td>\n",
              "      <td>Intel Iris Plus Graphics 650</td>\n",
              "      <td>macOS</td>\n",
              "      <td>1.37kg</td>\n",
              "      <td>103057.70</td>\n",
              "    </tr>\n",
              "  </tbody>\n",
              "</table>\n",
              "</div>"
            ],
            "text/plain": [
              "  company      product   typename  ...  opsys  weight      price\n",
              "0   Apple  MacBook Pro  Ultrabook  ...  macOS  1.37kg   76549.89\n",
              "1   Apple  Macbook Air  Ultrabook  ...  macOS  1.34kg   51365.43\n",
              "2      HP       250 G6   Notebook  ...  No OS  1.86kg   32855.50\n",
              "3   Apple  MacBook Pro  Ultrabook  ...  macOS  1.83kg  144989.89\n",
              "4   Apple  MacBook Pro  Ultrabook  ...  macOS  1.37kg  103057.70\n",
              "\n",
              "[5 rows x 12 columns]"
            ]
          },
          "metadata": {},
          "execution_count": 402
        }
      ]
    },
    {
      "cell_type": "code",
      "metadata": {
        "id": "QEBXh80K-_0s"
      },
      "source": [
        "lp_df['resolution'] = lp_df['screenresolution'].str.extract(r'(\\d+x\\d+)')\n",
        "lp_df = lp_df.drop('screenresolution',  axis = 1)"
      ],
      "execution_count": null,
      "outputs": []
    },
    {
      "cell_type": "markdown",
      "metadata": {
        "id": "M5cRJjztDkMn"
      },
      "source": [
        "**Modifying CPU Feature**"
      ]
    },
    {
      "cell_type": "code",
      "metadata": {
        "id": "6-VB86jQBl4E"
      },
      "source": [
        "lp_df['cpu_speed'] = lp_df['cpu'].str.extract(r'(\\d+(?:\\.\\d+)?GHz)') \n",
        "lp_df['cpu_speed'] = lp_df['cpu_speed'].str.replace('GHz', '')\n",
        "lp_df['cpu_speed'] = lp_df['cpu_speed'].astype(float)\n",
        "lp_df.rename(columns={'cpu_speed': 'cpu_speed(ghz)'}, inplace = True)\n",
        "lp_df = lp_df.drop('cpu', axis = 1)"
      ],
      "execution_count": null,
      "outputs": []
    },
    {
      "cell_type": "markdown",
      "metadata": {
        "id": "X1ENWMocDz9U"
      },
      "source": [
        "**Modifying RAM Feature**"
      ]
    },
    {
      "cell_type": "code",
      "metadata": {
        "id": "kh31JeUcCHX0"
      },
      "source": [
        "lp_df['ram'] = lp_df['ram'].str.replace('GB', '')\n",
        "lp_df.rename(columns={'ram': 'ram(GB)'}, inplace = True)\n",
        "lp_df['ram(GB)'] = lp_df['ram(GB)'].astype(int)"
      ],
      "execution_count": null,
      "outputs": []
    },
    {
      "cell_type": "markdown",
      "metadata": {
        "id": "NcrHqmjKFoqS"
      },
      "source": [
        "**Modifying Weight Feature**"
      ]
    },
    {
      "cell_type": "code",
      "metadata": {
        "id": "s1zbYCOZEfKt"
      },
      "source": [
        "lp_df['weight'] = lp_df['weight'].str.replace('kg', '').astype(float)\n",
        "lp_df.rename(columns={'weight': 'weight(kg)'}, inplace = True)"
      ],
      "execution_count": null,
      "outputs": []
    },
    {
      "cell_type": "code",
      "metadata": {
        "colab": {
          "base_uri": "https://localhost:8080/",
          "height": 204
        },
        "id": "nNIr5RvCGmRv",
        "outputId": "fde8333c-7d04-43ff-8b93-f3f8d335b392"
      },
      "source": [
        "lp_df.head()"
      ],
      "execution_count": null,
      "outputs": [
        {
          "output_type": "execute_result",
          "data": {
            "text/html": [
              "<div>\n",
              "<style scoped>\n",
              "    .dataframe tbody tr th:only-of-type {\n",
              "        vertical-align: middle;\n",
              "    }\n",
              "\n",
              "    .dataframe tbody tr th {\n",
              "        vertical-align: top;\n",
              "    }\n",
              "\n",
              "    .dataframe thead th {\n",
              "        text-align: right;\n",
              "    }\n",
              "</style>\n",
              "<table border=\"1\" class=\"dataframe\">\n",
              "  <thead>\n",
              "    <tr style=\"text-align: right;\">\n",
              "      <th></th>\n",
              "      <th>company</th>\n",
              "      <th>product</th>\n",
              "      <th>typename</th>\n",
              "      <th>inches</th>\n",
              "      <th>ram(GB)</th>\n",
              "      <th>memory</th>\n",
              "      <th>gpu</th>\n",
              "      <th>opsys</th>\n",
              "      <th>weight(kg)</th>\n",
              "      <th>price</th>\n",
              "      <th>resolution</th>\n",
              "      <th>cpu_speed(ghz)</th>\n",
              "    </tr>\n",
              "  </thead>\n",
              "  <tbody>\n",
              "    <tr>\n",
              "      <th>0</th>\n",
              "      <td>Apple</td>\n",
              "      <td>MacBook Pro</td>\n",
              "      <td>Ultrabook</td>\n",
              "      <td>13.3</td>\n",
              "      <td>8</td>\n",
              "      <td>128GB SSD</td>\n",
              "      <td>Intel Iris Plus Graphics 640</td>\n",
              "      <td>macOS</td>\n",
              "      <td>1.37</td>\n",
              "      <td>76549.89</td>\n",
              "      <td>2560x1600</td>\n",
              "      <td>2.3</td>\n",
              "    </tr>\n",
              "    <tr>\n",
              "      <th>1</th>\n",
              "      <td>Apple</td>\n",
              "      <td>Macbook Air</td>\n",
              "      <td>Ultrabook</td>\n",
              "      <td>13.3</td>\n",
              "      <td>8</td>\n",
              "      <td>128GB Flash Storage</td>\n",
              "      <td>Intel HD Graphics 6000</td>\n",
              "      <td>macOS</td>\n",
              "      <td>1.34</td>\n",
              "      <td>51365.43</td>\n",
              "      <td>1440x900</td>\n",
              "      <td>1.8</td>\n",
              "    </tr>\n",
              "    <tr>\n",
              "      <th>2</th>\n",
              "      <td>HP</td>\n",
              "      <td>250 G6</td>\n",
              "      <td>Notebook</td>\n",
              "      <td>15.6</td>\n",
              "      <td>8</td>\n",
              "      <td>256GB SSD</td>\n",
              "      <td>Intel HD Graphics 620</td>\n",
              "      <td>No OS</td>\n",
              "      <td>1.86</td>\n",
              "      <td>32855.50</td>\n",
              "      <td>1920x1080</td>\n",
              "      <td>2.5</td>\n",
              "    </tr>\n",
              "    <tr>\n",
              "      <th>3</th>\n",
              "      <td>Apple</td>\n",
              "      <td>MacBook Pro</td>\n",
              "      <td>Ultrabook</td>\n",
              "      <td>15.4</td>\n",
              "      <td>16</td>\n",
              "      <td>512GB SSD</td>\n",
              "      <td>AMD Radeon Pro 455</td>\n",
              "      <td>macOS</td>\n",
              "      <td>1.83</td>\n",
              "      <td>144989.89</td>\n",
              "      <td>2880x1800</td>\n",
              "      <td>2.7</td>\n",
              "    </tr>\n",
              "    <tr>\n",
              "      <th>4</th>\n",
              "      <td>Apple</td>\n",
              "      <td>MacBook Pro</td>\n",
              "      <td>Ultrabook</td>\n",
              "      <td>13.3</td>\n",
              "      <td>8</td>\n",
              "      <td>256GB SSD</td>\n",
              "      <td>Intel Iris Plus Graphics 650</td>\n",
              "      <td>macOS</td>\n",
              "      <td>1.37</td>\n",
              "      <td>103057.70</td>\n",
              "      <td>2560x1600</td>\n",
              "      <td>3.1</td>\n",
              "    </tr>\n",
              "  </tbody>\n",
              "</table>\n",
              "</div>"
            ],
            "text/plain": [
              "  company      product   typename  ...      price  resolution cpu_speed(ghz)\n",
              "0   Apple  MacBook Pro  Ultrabook  ...   76549.89   2560x1600            2.3\n",
              "1   Apple  Macbook Air  Ultrabook  ...   51365.43    1440x900            1.8\n",
              "2      HP       250 G6   Notebook  ...   32855.50   1920x1080            2.5\n",
              "3   Apple  MacBook Pro  Ultrabook  ...  144989.89   2880x1800            2.7\n",
              "4   Apple  MacBook Pro  Ultrabook  ...  103057.70   2560x1600            3.1\n",
              "\n",
              "[5 rows x 12 columns]"
            ]
          },
          "metadata": {},
          "execution_count": 407
        }
      ]
    },
    {
      "cell_type": "code",
      "metadata": {
        "colab": {
          "base_uri": "https://localhost:8080/"
        },
        "id": "CAA_ggZpHdqQ",
        "outputId": "6fb07f25-204b-4e75-f67f-97f3cfdbf4c8"
      },
      "source": [
        "lp_df.corr()['price']"
      ],
      "execution_count": null,
      "outputs": [
        {
          "output_type": "execute_result",
          "data": {
            "text/plain": [
              "inches            0.068197\n",
              "ram(GB)           0.743007\n",
              "weight(kg)        0.210370\n",
              "price             1.000000\n",
              "cpu_speed(ghz)    0.430293\n",
              "Name: price, dtype: float64"
            ]
          },
          "metadata": {},
          "execution_count": 408
        }
      ]
    },
    {
      "cell_type": "code",
      "metadata": {
        "colab": {
          "base_uri": "https://localhost:8080/",
          "height": 287
        },
        "id": "UBCdjmgdH5T8",
        "outputId": "f2983619-a2f1-4e83-8096-219a5f60ee20"
      },
      "source": [
        "sns.heatmap(lp_df.corr(), annot=True)"
      ],
      "execution_count": null,
      "outputs": [
        {
          "output_type": "execute_result",
          "data": {
            "text/plain": [
              "<matplotlib.axes._subplots.AxesSubplot at 0x7f2cdbbd8090>"
            ]
          },
          "metadata": {},
          "execution_count": 409
        },
        {
          "output_type": "display_data",
          "data": {
            "image/png": "[encoded data removed]",
            "text/plain": [
              "<Figure size 432x288 with 2 Axes>"
            ]
          },
          "metadata": {
            "needs_background": "light"
          }
        }
      ]
    },
    {
      "cell_type": "code",
      "metadata": {
        "colab": {
          "base_uri": "https://localhost:8080/",
          "height": 296
        },
        "id": "1AML5oW7I7bE",
        "outputId": "559c7afd-3f86-46b4-8d23-23218e3df368"
      },
      "source": [
        "sns.histplot(np.log(lp_df['price']))"
      ],
      "execution_count": null,
      "outputs": [
        {
          "output_type": "execute_result",
          "data": {
            "text/plain": [
              "<matplotlib.axes._subplots.AxesSubplot at 0x7f2cdc039e10>"
            ]
          },
          "metadata": {},
          "execution_count": 410
        },
        {
          "output_type": "display_data",
          "data": {
            "image/png": "[encoded data removed]",
            "text/plain": [
              "<Figure size 432x288 with 1 Axes>"
            ]
          },
          "metadata": {
            "needs_background": "light"
          }
        }
      ]
    },
    {
      "cell_type": "code",
      "metadata": {
        "colab": {
          "base_uri": "https://localhost:8080/",
          "height": 204
        },
        "id": "yrlEjuLsN8Or",
        "outputId": "a7b30280-7e6a-4934-9e2d-41fd34ed0ffd"
      },
      "source": [
        "lp_df.head()"
      ],
      "execution_count": null,
      "outputs": [
        {
          "output_type": "execute_result",
          "data": {
            "text/html": [
              "<div>\n",
              "<style scoped>\n",
              "    .dataframe tbody tr th:only-of-type {\n",
              "        vertical-align: middle;\n",
              "    }\n",
              "\n",
              "    .dataframe tbody tr th {\n",
              "        vertical-align: top;\n",
              "    }\n",
              "\n",
              "    .dataframe thead th {\n",
              "        text-align: right;\n",
              "    }\n",
              "</style>\n",
              "<table border=\"1\" class=\"dataframe\">\n",
              "  <thead>\n",
              "    <tr style=\"text-align: right;\">\n",
              "      <th></th>\n",
              "      <th>company</th>\n",
              "      <th>product</th>\n",
              "      <th>typename</th>\n",
              "      <th>inches</th>\n",
              "      <th>ram(GB)</th>\n",
              "      <th>memory</th>\n",
              "      <th>gpu</th>\n",
              "      <th>opsys</th>\n",
              "      <th>weight(kg)</th>\n",
              "      <th>price</th>\n",
              "      <th>resolution</th>\n",
              "      <th>cpu_speed(ghz)</th>\n",
              "    </tr>\n",
              "  </thead>\n",
              "  <tbody>\n",
              "    <tr>\n",
              "      <th>0</th>\n",
              "      <td>Apple</td>\n",
              "      <td>MacBook Pro</td>\n",
              "      <td>Ultrabook</td>\n",
              "      <td>13.3</td>\n",
              "      <td>8</td>\n",
              "      <td>128GB SSD</td>\n",
              "      <td>Intel Iris Plus Graphics 640</td>\n",
              "      <td>macOS</td>\n",
              "      <td>1.37</td>\n",
              "      <td>76549.89</td>\n",
              "      <td>2560x1600</td>\n",
              "      <td>2.3</td>\n",
              "    </tr>\n",
              "    <tr>\n",
              "      <th>1</th>\n",
              "      <td>Apple</td>\n",
              "      <td>Macbook Air</td>\n",
              "      <td>Ultrabook</td>\n",
              "      <td>13.3</td>\n",
              "      <td>8</td>\n",
              "      <td>128GB Flash Storage</td>\n",
              "      <td>Intel HD Graphics 6000</td>\n",
              "      <td>macOS</td>\n",
              "      <td>1.34</td>\n",
              "      <td>51365.43</td>\n",
              "      <td>1440x900</td>\n",
              "      <td>1.8</td>\n",
              "    </tr>\n",
              "    <tr>\n",
              "      <th>2</th>\n",
              "      <td>HP</td>\n",
              "      <td>250 G6</td>\n",
              "      <td>Notebook</td>\n",
              "      <td>15.6</td>\n",
              "      <td>8</td>\n",
              "      <td>256GB SSD</td>\n",
              "      <td>Intel HD Graphics 620</td>\n",
              "      <td>No OS</td>\n",
              "      <td>1.86</td>\n",
              "      <td>32855.50</td>\n",
              "      <td>1920x1080</td>\n",
              "      <td>2.5</td>\n",
              "    </tr>\n",
              "    <tr>\n",
              "      <th>3</th>\n",
              "      <td>Apple</td>\n",
              "      <td>MacBook Pro</td>\n",
              "      <td>Ultrabook</td>\n",
              "      <td>15.4</td>\n",
              "      <td>16</td>\n",
              "      <td>512GB SSD</td>\n",
              "      <td>AMD Radeon Pro 455</td>\n",
              "      <td>macOS</td>\n",
              "      <td>1.83</td>\n",
              "      <td>144989.89</td>\n",
              "      <td>2880x1800</td>\n",
              "      <td>2.7</td>\n",
              "    </tr>\n",
              "    <tr>\n",
              "      <th>4</th>\n",
              "      <td>Apple</td>\n",
              "      <td>MacBook Pro</td>\n",
              "      <td>Ultrabook</td>\n",
              "      <td>13.3</td>\n",
              "      <td>8</td>\n",
              "      <td>256GB SSD</td>\n",
              "      <td>Intel Iris Plus Graphics 650</td>\n",
              "      <td>macOS</td>\n",
              "      <td>1.37</td>\n",
              "      <td>103057.70</td>\n",
              "      <td>2560x1600</td>\n",
              "      <td>3.1</td>\n",
              "    </tr>\n",
              "  </tbody>\n",
              "</table>\n",
              "</div>"
            ],
            "text/plain": [
              "  company      product   typename  ...      price  resolution cpu_speed(ghz)\n",
              "0   Apple  MacBook Pro  Ultrabook  ...   76549.89   2560x1600            2.3\n",
              "1   Apple  Macbook Air  Ultrabook  ...   51365.43    1440x900            1.8\n",
              "2      HP       250 G6   Notebook  ...   32855.50   1920x1080            2.5\n",
              "3   Apple  MacBook Pro  Ultrabook  ...  144989.89   2880x1800            2.7\n",
              "4   Apple  MacBook Pro  Ultrabook  ...  103057.70   2560x1600            3.1\n",
              "\n",
              "[5 rows x 12 columns]"
            ]
          },
          "metadata": {},
          "execution_count": 411
        }
      ]
    },
    {
      "cell_type": "code",
      "metadata": {
        "colab": {
          "base_uri": "https://localhost:8080/",
          "height": 204
        },
        "id": "eBqWMSmgMkuV",
        "outputId": "3b1e2338-0187-49e8-d77a-8afda4efd7de"
      },
      "source": [
        "x = lp_df.drop(columns=['price', 'company', 'product', 'typename', 'memory', 'gpu', 'opsys', 'resolution'], axis=1)\n",
        "y = np.log(lp_df['price'])\n",
        "x.head()"
      ],
      "execution_count": null,
      "outputs": [
        {
          "output_type": "execute_result",
          "data": {
            "text/html": [
              "<div>\n",
              "<style scoped>\n",
              "    .dataframe tbody tr th:only-of-type {\n",
              "        vertical-align: middle;\n",
              "    }\n",
              "\n",
              "    .dataframe tbody tr th {\n",
              "        vertical-align: top;\n",
              "    }\n",
              "\n",
              "    .dataframe thead th {\n",
              "        text-align: right;\n",
              "    }\n",
              "</style>\n",
              "<table border=\"1\" class=\"dataframe\">\n",
              "  <thead>\n",
              "    <tr style=\"text-align: right;\">\n",
              "      <th></th>\n",
              "      <th>inches</th>\n",
              "      <th>ram(GB)</th>\n",
              "      <th>weight(kg)</th>\n",
              "      <th>cpu_speed(ghz)</th>\n",
              "    </tr>\n",
              "  </thead>\n",
              "  <tbody>\n",
              "    <tr>\n",
              "      <th>0</th>\n",
              "      <td>13.3</td>\n",
              "      <td>8</td>\n",
              "      <td>1.37</td>\n",
              "      <td>2.3</td>\n",
              "    </tr>\n",
              "    <tr>\n",
              "      <th>1</th>\n",
              "      <td>13.3</td>\n",
              "      <td>8</td>\n",
              "      <td>1.34</td>\n",
              "      <td>1.8</td>\n",
              "    </tr>\n",
              "    <tr>\n",
              "      <th>2</th>\n",
              "      <td>15.6</td>\n",
              "      <td>8</td>\n",
              "      <td>1.86</td>\n",
              "      <td>2.5</td>\n",
              "    </tr>\n",
              "    <tr>\n",
              "      <th>3</th>\n",
              "      <td>15.4</td>\n",
              "      <td>16</td>\n",
              "      <td>1.83</td>\n",
              "      <td>2.7</td>\n",
              "    </tr>\n",
              "    <tr>\n",
              "      <th>4</th>\n",
              "      <td>13.3</td>\n",
              "      <td>8</td>\n",
              "      <td>1.37</td>\n",
              "      <td>3.1</td>\n",
              "    </tr>\n",
              "  </tbody>\n",
              "</table>\n",
              "</div>"
            ],
            "text/plain": [
              "   inches  ram(GB)  weight(kg)  cpu_speed(ghz)\n",
              "0    13.3        8        1.37             2.3\n",
              "1    13.3        8        1.34             1.8\n",
              "2    15.6        8        1.86             2.5\n",
              "3    15.4       16        1.83             2.7\n",
              "4    13.3        8        1.37             3.1"
            ]
          },
          "metadata": {},
          "execution_count": 412
        }
      ]
    },
    {
      "cell_type": "code",
      "metadata": {
        "id": "wqKEfYLjMxfO"
      },
      "source": [
        "# importing train_test_split from sklearn\n",
        "from sklearn.model_selection import train_test_split\n",
        "# splitting the data\n",
        "x_train, x_test, y_train, y_test = train_test_split(x, y, test_size = 0.5, random_state = 42)"
      ],
      "execution_count": null,
      "outputs": []
    },
    {
      "cell_type": "markdown",
      "metadata": {
        "id": "7kBseity9OjV"
      },
      "source": [
        "#**Problem no. 2**"
      ]
    },
    {
      "cell_type": "markdown",
      "metadata": {
        "id": "_YBl7FQl9q1c"
      },
      "source": [
        "**Random Forest**\n",
        "\n",
        "The random forest classifier consists of large number of individual decision trees that operate as an ensemble. For each individual tree in the random forest, it spits out the class prediction and the class with the most votes to become the mode's prediction. The fundamental concept behind random forest is a simple but powerful one is the wisdom of crowds. The reason is that the large number of relatively uncorrelated models operating as a committee will outperform any of the individual constituent models. In general, the random forest modelling is a classification algorithm consisting of many decision trees. It uses bagging and feature randomness when creating each individual tree to try to create an uncorrelated forest of trees that the prediction by the committee is more accurate than any individual tree.\n",
        "\n",
        "\\\n",
        "\n",
        "**Linear Regression**\n",
        "\n",
        "The linear regression is an analysis that is used to predict value of a variable based on the value of another variable, it estimates the relationship between one independent variable and one dependent variable using a straight light and both variables should be quantitative. For the representation of Linear Regression, it is a linear equation that combines a specific set of input values (x) and the solution to which is the predicted output for the set of input values (y). both input values (x) should have a numeric value. \n",
        "\n",
        "\\\n",
        "\n",
        "**XGBOOST**\n",
        "\n",
        "The XGBoost is an algorithm that recently been dominating applied in machine learning, XGBoost is an implementation gradient boosted decision trees designed for speed and performance. It is best use in predicting problems involving unstructured data such as images, text etc. In addition One of the most differences between the XGBoost and the random forest is that the XGBoost always gives more importance to functional space when reducing the cost of a model while the Random forest tries to give more preferences to hyperparameters to optimize the model.\n",
        "\n",
        "\\\n",
        "\n",
        "[2] Towardsdatascience, “Understanding Random Forest.” Understanding Random Forest. How the Algorithm Works and Why it Is… | by Tony Yiu | Towards Data Science (accessed November 16, 2021).\n",
        "\n",
        "[3] Machine Learning Mastery, “Linear Regression for Machine Learning.” Linear Regression for Machine Learning (machinelearningmastery.com) (accessed November 16, 2021).\n",
        "\n",
        "[4] Machine Learning Mastery, “A Gentle Introduction to XGBoost for Applied Machine Learning.” A Gentle Introduction to XGBoost for Applied Machine Learning (machinelearningmastery.com) (accessed November 16, 2021).\n",
        "\n",
        "[5] Aman Gupta, “XGBoost versus Random Forest.” Geek Culture. XGBoost versus Random Forest. This article explores the superiority… | by Aman Gupta | Geek Culture | Medium (accessed November 16, 2021)."
      ]
    },
    {
      "cell_type": "markdown",
      "metadata": {
        "id": "ITpNcEfSZahB"
      },
      "source": [
        "**Modelling using Random Forest**"
      ]
    },
    {
      "cell_type": "code",
      "metadata": {
        "colab": {
          "base_uri": "https://localhost:8080/"
        },
        "id": "-bJERMkvVnI9",
        "outputId": "f06576cd-1a53-458f-d8dd-77f1e635f0db"
      },
      "source": [
        "rf = RandomForestRegressor(n_estimators=100, max_depth=100, max_features=4)\n",
        "rf.fit(x_train,y_train)"
      ],
      "execution_count": null,
      "outputs": [
        {
          "output_type": "execute_result",
          "data": {
            "text/plain": [
              "RandomForestRegressor(max_depth=100, max_features=4)"
            ]
          },
          "metadata": {},
          "execution_count": 414
        }
      ]
    },
    {
      "cell_type": "code",
      "metadata": {
        "id": "FRymY8kNZIvj",
        "colab": {
          "base_uri": "https://localhost:8080/",
          "height": 359
        },
        "outputId": "60ba6b7f-a890-426f-9cc1-bf0bacb0efc4"
      },
      "source": [
        "y_pred=rf.predict(x_test)\n",
        "lp_df1 = pd.DataFrame({'Real Values': y_test, 'Predicted values': y_pred})\n",
        "lp_df1.head(10)"
      ],
      "execution_count": null,
      "outputs": [
        {
          "output_type": "execute_result",
          "data": {
            "text/html": [
              "<div>\n",
              "<style scoped>\n",
              "    .dataframe tbody tr th:only-of-type {\n",
              "        vertical-align: middle;\n",
              "    }\n",
              "\n",
              "    .dataframe tbody tr th {\n",
              "        vertical-align: top;\n",
              "    }\n",
              "\n",
              "    .dataframe thead th {\n",
              "        text-align: right;\n",
              "    }\n",
              "</style>\n",
              "<table border=\"1\" class=\"dataframe\">\n",
              "  <thead>\n",
              "    <tr style=\"text-align: right;\">\n",
              "      <th></th>\n",
              "      <th>Real Values</th>\n",
              "      <th>Predicted values</th>\n",
              "    </tr>\n",
              "  </thead>\n",
              "  <tbody>\n",
              "    <tr>\n",
              "      <th>479</th>\n",
              "      <td>11.467280</td>\n",
              "      <td>11.407587</td>\n",
              "    </tr>\n",
              "    <tr>\n",
              "      <th>1022</th>\n",
              "      <td>11.092152</td>\n",
              "      <td>11.270302</td>\n",
              "    </tr>\n",
              "    <tr>\n",
              "      <th>298</th>\n",
              "      <td>10.258110</td>\n",
              "      <td>10.331038</td>\n",
              "    </tr>\n",
              "    <tr>\n",
              "      <th>1265</th>\n",
              "      <td>10.846787</td>\n",
              "      <td>11.329603</td>\n",
              "    </tr>\n",
              "    <tr>\n",
              "      <th>774</th>\n",
              "      <td>11.171592</td>\n",
              "      <td>11.263331</td>\n",
              "    </tr>\n",
              "    <tr>\n",
              "      <th>115</th>\n",
              "      <td>11.289010</td>\n",
              "      <td>11.324323</td>\n",
              "    </tr>\n",
              "    <tr>\n",
              "      <th>582</th>\n",
              "      <td>10.623366</td>\n",
              "      <td>10.738523</td>\n",
              "    </tr>\n",
              "    <tr>\n",
              "      <th>527</th>\n",
              "      <td>10.174555</td>\n",
              "      <td>10.277731</td>\n",
              "    </tr>\n",
              "    <tr>\n",
              "      <th>380</th>\n",
              "      <td>11.128053</td>\n",
              "      <td>11.628250</td>\n",
              "    </tr>\n",
              "    <tr>\n",
              "      <th>101</th>\n",
              "      <td>9.900576</td>\n",
              "      <td>9.727950</td>\n",
              "    </tr>\n",
              "  </tbody>\n",
              "</table>\n",
              "</div>"
            ],
            "text/plain": [
              "      Real Values  Predicted values\n",
              "479     11.467280         11.407587\n",
              "1022    11.092152         11.270302\n",
              "298     10.258110         10.331038\n",
              "1265    10.846787         11.329603\n",
              "774     11.171592         11.263331\n",
              "115     11.289010         11.324323\n",
              "582     10.623366         10.738523\n",
              "527     10.174555         10.277731\n",
              "380     11.128053         11.628250\n",
              "101      9.900576          9.727950"
            ]
          },
          "metadata": {},
          "execution_count": 415
        }
      ]
    },
    {
      "cell_type": "code",
      "metadata": {
        "colab": {
          "base_uri": "https://localhost:8080/"
        },
        "id": "0q0WpYDeawjd",
        "outputId": "ff69f9ed-7823-44fb-f22f-d6155773318d"
      },
      "source": [
        "print(\"R2 using Random Forest: {:.2f} %\".format(np.round(r2_score(y_test, y_pred),4)*100))\n"
      ],
      "execution_count": null,
      "outputs": [
        {
          "output_type": "stream",
          "name": "stdout",
          "text": [
            "R2 using Random Forest: 79.09 %\n"
          ]
        }
      ]
    },
    {
      "cell_type": "code",
      "metadata": {
        "colab": {
          "base_uri": "https://localhost:8080/"
        },
        "id": "6zXl3EBTZJ04",
        "outputId": "1a6f0831-ccb8-403a-b478-8aaba9e4bb2f"
      },
      "source": [
        "rf.score(x_train,y_train)"
      ],
      "execution_count": null,
      "outputs": [
        {
          "output_type": "execute_result",
          "data": {
            "text/plain": [
              "0.947641617700223"
            ]
          },
          "metadata": {},
          "execution_count": 417
        }
      ]
    },
    {
      "cell_type": "code",
      "metadata": {
        "colab": {
          "base_uri": "https://localhost:8080/"
        },
        "id": "QB6usMnbZPLP",
        "outputId": "835b9847-0ad7-4257-d84d-706259d42924"
      },
      "source": [
        "rf.score(x_test,y_test)"
      ],
      "execution_count": null,
      "outputs": [
        {
          "output_type": "execute_result",
          "data": {
            "text/plain": [
              "0.7909398542882788"
            ]
          },
          "metadata": {},
          "execution_count": 418
        }
      ]
    },
    {
      "cell_type": "code",
      "metadata": {
        "colab": {
          "base_uri": "https://localhost:8080/"
        },
        "id": "9CPLlMByZUJ2",
        "outputId": "99e875ad-7186-4ba7-ab8d-5400482acb40"
      },
      "source": [
        "print(str((rf.score(x_train,y_train)-rf.score(x_test,y_test))*100)+'%')"
      ],
      "execution_count": null,
      "outputs": [
        {
          "output_type": "stream",
          "name": "stdout",
          "text": [
            "15.67017634119442%\n"
          ]
        }
      ]
    },
    {
      "cell_type": "markdown",
      "metadata": {
        "id": "boj26HrcdZwh"
      },
      "source": [
        "**Modelling using Multiple Linear Regression**"
      ]
    },
    {
      "cell_type": "code",
      "metadata": {
        "id": "gREEoGzeNH1I",
        "colab": {
          "base_uri": "https://localhost:8080/"
        },
        "outputId": "a9fcc129-139d-4a56-c793-5477be3e5dff"
      },
      "source": [
        "# importing module\n",
        "from sklearn.linear_model import LinearRegression\n",
        "# creating an object of LinearRegression class\n",
        "LR = LinearRegression()\n",
        "# fitting the training data\n",
        "LR.fit(x_train,y_train)"
      ],
      "execution_count": null,
      "outputs": [
        {
          "output_type": "execute_result",
          "data": {
            "text/plain": [
              "LinearRegression()"
            ]
          },
          "metadata": {},
          "execution_count": 420
        }
      ]
    },
    {
      "cell_type": "code",
      "metadata": {
        "id": "MbXUUbaDRbog",
        "colab": {
          "base_uri": "https://localhost:8080/"
        },
        "outputId": "b4fb1844-c2a0-453d-ab97-bd91f4fa631b"
      },
      "source": [
        "y_prediction =  LR.predict(x_test)\n",
        "y_prediction"
      ],
      "execution_count": null,
      "outputs": [
        {
          "output_type": "execute_result",
          "data": {
            "text/plain": [
              "array([11.10752486, 11.10478684, 10.6601872 , 10.90057273, 10.73410545,\n",
              "       10.76134682, 10.70061981, 10.69442957, 10.81281901, 10.16256894,\n",
              "       11.70160541, 10.89146618, 10.61266173, 10.95166228, 11.53220775,\n",
              "       10.68660198, 11.16908997, 10.96626507, 11.30108907, 11.89212941,\n",
              "       11.42179439, 10.53199998, 11.08151366, 10.47236885, 10.69299069,\n",
              "       10.73992005, 10.58172052, 10.54569009, 11.09702911, 10.93251632,\n",
              "       10.66475057, 11.07291748, 11.10250516, 10.88690281, 10.89055351,\n",
              "       10.61963069, 10.95622565, 10.68159775, 10.90969947, 10.16519981,\n",
              "       11.19540784, 10.88142677, 10.88142677, 11.37983158, 10.49551321,\n",
              "       11.0073152 , 11.71073215, 10.1761519 , 10.88233945, 11.17137166,\n",
              "       11.0423631 , 10.88872816, 10.55624023, 10.64823547, 10.87412538,\n",
              "       11.0144725 , 10.1761519 , 10.74491869, 10.70211743, 10.90057273,\n",
              "       10.88781549, 10.61963069, 10.36097457, 10.19540501, 10.21092047,\n",
              "       11.53996548, 10.78607563, 11.64224741, 10.95166228, 12.86148455,\n",
              "       12.85144514, 10.80662789, 10.60679886, 10.88872816, 10.21365849,\n",
              "       10.34500278, 10.9122763 , 11.06705496, 10.7722454 , 11.11847695,\n",
              "       10.65320202, 10.37315158, 10.69030147, 10.88233945, 10.16113007,\n",
              "       11.53419032, 10.38039946, 11.5376636 , 10.87230003, 10.8768634 ,\n",
              "       10.76279662, 12.81493818, 10.87230003, 10.40142428, 11.02502229,\n",
              "       10.72356056, 11.02958566, 10.8485907 , 10.86773666, 11.02776031,\n",
              "       10.16256894, 10.88142677, 10.70355631, 11.12530181, 11.09611644,\n",
              "       10.95166228, 10.91882621, 10.52371605, 10.96763408, 10.35781353,\n",
              "       11.65051586, 11.02600483, 10.86499864, 11.51302141, 10.15519769,\n",
              "       11.55365558, 10.83432035, 11.07474283, 10.97993499, 10.55304587,\n",
              "       12.94039047, 11.03458518, 10.5448318 , 10.96535239, 10.78837441,\n",
              "        9.85270025, 11.14178398, 11.22857188, 11.51167258, 10.63651515,\n",
              "       11.17646682, 10.66475057, 10.86773666, 10.83888372, 10.50228875,\n",
              "       10.34272109, 11.65870974, 10.13374985, 11.16277671, 10.55213319,\n",
              "       10.34591545, 10.8287908 , 10.97445894, 10.73347694, 10.89511688,\n",
              "       11.24251984, 11.66009894, 10.19540501, 10.44579268, 10.40281436,\n",
              "       11.84063756, 10.53063097, 10.12916938, 11.52810071, 11.00594619,\n",
              "       11.70479977, 10.83888372, 10.73378273, 10.86773666, 10.34229808,\n",
              "       11.04053775, 10.53930137, 10.55025346, 10.75399192, 13.18869404,\n",
              "       10.95622565, 11.03232368, 10.52743661, 10.34219489, 10.38335218,\n",
              "       10.22766085, 11.88117732, 10.88142677, 11.12197262, 10.89694223,\n",
              "       10.02069162, 10.54298539, 10.52287324, 11.16224579, 11.11807465,\n",
              "       10.69442957, 10.73347694, 10.5297183 , 10.86499864, 10.45537575,\n",
              "       10.88142677, 10.95622565, 11.00275183, 11.01279125, 10.5448318 ,\n",
              "       11.02730398, 10.41067492, 11.56659024, 10.37999751, 10.68614564,\n",
              "       10.69628824, 10.18355647, 10.75039438, 10.89511688, 11.54133449,\n",
              "       10.40281436, 10.46860952, 10.88142677, 10.46176447, 10.52338397,\n",
              "       10.4854738 , 10.98449835, 11.90808101, 10.47180388, 10.35823655,\n",
              "       11.11810723, 11.67878856, 11.10529722, 10.44196457, 10.41980166,\n",
              "       10.97265378, 11.07877563, 10.96580873, 10.80206452, 10.34500278,\n",
              "       12.09100626, 10.96071916, 11.12720139, 10.68015887, 11.083339  ,\n",
              "       11.15833112, 10.55395854, 10.33587604, 11.02502229, 10.89827395,\n",
              "       11.69247867, 11.03232368, 10.88233945, 10.8978549 , 10.73410545,\n",
              "       11.00671477, 10.45263773, 10.46313348, 11.63000089, 10.52743661,\n",
              "       11.13017086, 11.49205009, 11.39808506, 11.65644824, 11.14726003,\n",
              "       10.34272109, 10.88142677, 10.35869289, 10.94566004, 10.44196457,\n",
              "       10.2063571 , 11.67331252, 10.97993499, 11.03141101, 10.18627827,\n",
              "       11.69886739, 11.506652  , 10.47761324, 11.54587767, 11.13722061,\n",
              "       10.97993499, 10.54751544, 10.01753455, 10.70716971, 11.59395027,\n",
              "       11.85581569, 11.06515975, 10.69453712, 10.67028409, 10.81971757,\n",
              "       11.53220775, 15.65689887, 10.76642056, 10.65820066, 11.07258015,\n",
              "       11.46284453, 10.45537575, 10.72539718, 10.64883625, 10.98906172,\n",
              "       11.79497002, 11.08613106, 11.01133218, 10.8768634 , 10.88233945,\n",
              "       10.70290149, 10.95622565, 10.96905747, 11.41723102, 10.53385865,\n",
              "       10.96926182, 10.63637071, 11.15376775, 11.64960319, 11.53363027,\n",
              "       10.36051823, 10.2640941 , 11.69704204, 10.96254451, 11.0095767 ,\n",
              "       11.17958572, 11.66509846, 10.89466054, 11.39352169, 10.45218139,\n",
              "       10.74811305, 10.58172052, 10.1565667 , 12.86055169, 10.89511688,\n",
              "       11.10255919, 11.32304763, 11.76127531, 10.55167686, 10.79914909,\n",
              "       10.84248091, 10.80890433, 11.70618897, 11.69247867, 11.58119302,\n",
              "       11.69247867, 11.39352169, 10.52743661, 11.04920815, 10.61129237,\n",
              "        9.98374852, 11.30793413, 10.89602955, 10.54846143, 10.60679886,\n",
              "       10.84344709, 10.9790425 , 11.82605497, 10.35412952, 10.8768634 ,\n",
              "       11.85535935, 11.19555839, 10.87230003, 11.65051586, 10.97217726,\n",
              "       10.36097457, 12.51486913, 10.52743661, 10.36051823, 12.86055169,\n",
              "       11.08242633, 10.87230003, 10.99362509, 10.19540501, 10.87366904,\n",
              "       11.23313   , 11.46558255, 10.34797389, 11.02958566, 10.53199998,\n",
              "       10.40281436, 10.69058039, 11.12197262, 10.55511285, 10.54556706,\n",
              "       10.46392313, 10.11813814, 11.54133449, 11.16224492, 10.63507157,\n",
              "       11.08613106, 10.62784475, 10.53199998, 10.55058677, 10.40553131,\n",
              "       10.54526707, 10.68614564, 10.53063097, 10.18929522, 11.71073215,\n",
              "       10.74577697, 10.90098344, 10.68537216, 11.46284453, 11.20922743,\n",
              "       10.88142677, 10.62419405, 10.95029327, 10.16386809, 10.80827583,\n",
              "       11.08330079, 11.09611644, 10.96535239, 10.89055351, 11.82466577,\n",
              "       12.86328971, 10.79293778, 10.8928352 , 10.54112672, 10.93251632,\n",
              "       11.05240251, 10.71994715, 10.51590516, 10.67487641, 11.11259861,\n",
              "       10.37674876, 11.6879153 , 11.67878856, 10.8978549 , 10.50228875,\n",
              "       10.54939517, 10.14971235, 10.8055378 , 10.60809801, 11.10752486,\n",
              "       10.02209792, 11.10524318, 10.95022341, 11.57158976, 10.97080825,\n",
              "       10.28571935, 10.90057273, 10.38696559, 11.68706103, 11.06191136,\n",
              "       10.74583136, 10.50372728, 10.17341388, 10.50190193, 11.74463592,\n",
              "       10.33819104, 10.905119  , 11.65644824, 10.18583816, 10.45218139,\n",
              "       10.53385865, 10.8287908 , 10.16113007, 10.72356056, 10.96945942,\n",
              "       11.50024397, 10.18627827, 11.00001381, 10.46176447, 11.56659024,\n",
              "       10.83946396, 10.19540501, 10.65006117, 10.72891357, 10.54372065,\n",
              "       10.89055351, 10.5448318 , 11.02588093, 11.15376775, 10.34956615,\n",
              "       10.36051823, 11.09657278, 10.35086529, 11.67422519, 11.53220775,\n",
              "       11.72446047, 11.15468043, 11.16772096, 11.68109044, 10.87230003,\n",
              "       10.66418708, 10.89237886, 10.5448318 , 10.8116305 , 10.63363269,\n",
              "       11.03232368, 10.96535239, 10.19540501, 11.08353224, 10.72571922,\n",
              "       10.49551321, 10.88781549, 11.12093168, 11.77679077, 11.32989269,\n",
              "       10.55100582, 10.53199998, 11.08242633, 10.84248091, 10.89694223,\n",
              "       11.49048075, 11.30291442, 11.53728096, 10.7302624 , 10.88142677,\n",
              "       10.54024737, 11.01726456, 11.01219082, 10.82975698, 10.67103213,\n",
              "       10.87230003, 10.5448318 , 10.53930137, 11.4072118 , 10.89511688,\n",
              "       11.31848426, 11.10986059, 11.34982742, 10.8768634 , 10.34956615,\n",
              "       11.67331252, 11.57115361, 10.98449835, 11.06242173, 10.89466054,\n",
              "       10.8287908 , 10.34043941, 10.55852191, 10.02069162, 10.89446294,\n",
              "       11.01361387, 10.36097457, 11.41699248, 10.62282504, 10.97265378,\n",
              "       10.88142677, 10.67387731, 10.00840781, 10.61364392, 10.61963069,\n",
              "       11.16772096, 10.90592488, 11.22856663, 10.37101398, 10.99401157,\n",
              "       11.04852036, 10.53614033, 10.01753455, 10.72315336, 10.61964947,\n",
              "       11.00275183, 11.16277671, 11.52450353, 10.8768634 , 10.81971757,\n",
              "       10.6258047 , 11.07793719, 11.52764438, 10.95250509, 11.67422519,\n",
              "       11.48331856, 11.35042785, 10.78881365, 10.59851493, 11.73989734,\n",
              "       10.60809801, 10.59904585, 10.49916391, 10.68799774, 10.88142677,\n",
              "       11.22856663, 10.29285154, 10.89055351, 10.71659248, 10.62450595,\n",
              "       10.55943459, 10.03969746, 10.49316167, 10.84248091, 10.62145603,\n",
              "       11.68335193, 10.40142428, 10.88142677, 10.93251632, 10.82240208,\n",
              "       10.97993499, 10.34500278, 10.34591545, 10.99362509, 10.96535239,\n",
              "       11.56702639, 10.64093408, 10.96078902, 10.46313348, 10.55100582,\n",
              "       10.68799774, 10.96535239, 11.64777784, 11.79497002, 10.34812727,\n",
              "       10.00840781, 11.13267743, 10.76010171, 11.31731872, 11.0423631 ,\n",
              "       10.95622565, 10.82975698, 11.12035634, 10.97993499, 11.5377373 ,\n",
              "       11.23313   , 10.88142677, 11.13995864, 10.93881499, 10.36964101,\n",
              "       11.79542635, 10.62784475, 10.72356056, 10.76271583, 10.69162168,\n",
              "       10.62158441, 10.59904114, 10.96626507, 10.19996838, 10.60771154,\n",
              "       11.57115361, 11.53677112, 10.92795295, 11.13995864, 10.53656335,\n",
              "       11.08320952, 10.3435639 , 10.36696134, 10.97445894, 11.09982117,\n",
              "       10.34272109, 10.34956615, 12.88517369, 10.54939517, 10.78376137,\n",
              "       10.16647837, 10.27322084, 10.22580218, 11.12530181, 10.62510673,\n",
              "       10.01753455, 10.69299069, 11.78215437, 10.75450176, 11.67878856,\n",
              "       11.81145219, 10.33587604, 10.96254451, 10.6258047 , 10.34363377,\n",
              "       10.34043941, 10.54751544, 10.89466054, 11.87433227, 11.09206344,\n",
              "       12.81582847, 10.34089574, 10.64179359, 10.34956615, 10.36964101,\n",
              "       10.832495  , 10.36051823, 11.67878856, 10.86089161, 13.09657455,\n",
              "       11.16680829, 11.11810723])"
            ]
          },
          "metadata": {},
          "execution_count": 421
        }
      ]
    },
    {
      "cell_type": "code",
      "metadata": {
        "id": "m3jk-_eDRfmO",
        "colab": {
          "base_uri": "https://localhost:8080/"
        },
        "outputId": "59955da8-5552-427e-cfff-e751d98fbf0e"
      },
      "source": [
        "from sklearn.metrics import r2_score\n",
        "from sklearn.metrics import mean_squared_error\n",
        "\n",
        "score=r2_score(y_test,y_prediction)\n",
        "print('r2 score is ',score)\n",
        "print('mean_sqrd_error is',mean_squared_error(y_test,y_prediction))\n",
        "print('root_mean_squared error of is',np.sqrt(mean_squared_error(y_test,y_prediction)))"
      ],
      "execution_count": null,
      "outputs": [
        {
          "output_type": "stream",
          "name": "stdout",
          "text": [
            "r2 score is  0.5567171231099346\n",
            "mean_sqrd_error is 0.1668503973177133\n",
            "root_mean_squared error of is 0.4084732516551277\n"
          ]
        }
      ]
    },
    {
      "cell_type": "markdown",
      "metadata": {
        "id": "wKwfZzMU3TLO"
      },
      "source": [
        "**Modelling using XGBoost**"
      ]
    },
    {
      "cell_type": "code",
      "metadata": {
        "colab": {
          "base_uri": "https://localhost:8080/"
        },
        "id": "XdYSup7m2scj",
        "outputId": "1fd69dfd-188c-46d4-8605-e6aa73bda624"
      },
      "source": [
        "from xgboost import XGBRegressor\n",
        "xgb = XGBRegressor(n_estimators=268, max_depth=40, eta=0.1, subsample=0.5, colsample_bytree=0.6)\n",
        "xgb.fit(x_train,y_train)"
      ],
      "execution_count": null,
      "outputs": [
        {
          "output_type": "stream",
          "name": "stdout",
          "text": [
            "[13:29:06] WARNING: /workspace/src/objective/regression_obj.cu:152: reg:linear is now deprecated in favor of reg:squarederror.\n"
          ]
        },
        {
          "output_type": "execute_result",
          "data": {
            "text/plain": [
              "XGBRegressor(colsample_bytree=0.6, eta=0.1, max_depth=40, n_estimators=268,\n",
              "             subsample=0.5)"
            ]
          },
          "metadata": {},
          "execution_count": 423
        }
      ]
    },
    {
      "cell_type": "code",
      "metadata": {
        "colab": {
          "base_uri": "https://localhost:8080/"
        },
        "id": "oX4NiVFH2uhF",
        "outputId": "c98c2d66-131f-4a8c-9b3f-5b44da743202"
      },
      "source": [
        "xgb.score(x_train,y_train)"
      ],
      "execution_count": null,
      "outputs": [
        {
          "output_type": "execute_result",
          "data": {
            "text/plain": [
              "0.9622778015269198"
            ]
          },
          "metadata": {},
          "execution_count": 424
        }
      ]
    },
    {
      "cell_type": "code",
      "metadata": {
        "colab": {
          "base_uri": "https://localhost:8080/"
        },
        "id": "2qI6NsQO2wep",
        "outputId": "dfec0f51-346a-4a5e-d07f-bbcbeb052044"
      },
      "source": [
        "xgb.score(x_test,y_test)"
      ],
      "execution_count": null,
      "outputs": [
        {
          "output_type": "execute_result",
          "data": {
            "text/plain": [
              "0.7771891427285043"
            ]
          },
          "metadata": {},
          "execution_count": 425
        }
      ]
    },
    {
      "cell_type": "code",
      "metadata": {
        "id": "jB7KEtCv7Vu6"
      },
      "source": [
        "y_pred_xgb = xgb.predict(x_test) "
      ],
      "execution_count": null,
      "outputs": []
    },
    {
      "cell_type": "code",
      "metadata": {
        "colab": {
          "base_uri": "https://localhost:8080/"
        },
        "id": "qgB0eNOK7ahT",
        "outputId": "182f44d9-7f25-4f02-d9f1-b2f49be52af6"
      },
      "source": [
        "mse_xgb = mean_squared_error(np.exp(y_test), np.exp(y_pred_xgb))\n",
        "print(\"RMSE with XGBoost : {:.2f}\".format(np.round(np.sqrt(mse_xgb),2)))\n",
        "print(\"R2 with XGBoost: {:.2f} % \".format(np.round(r2_score(y_test, y_pred_xgb),4)*100))"
      ],
      "execution_count": null,
      "outputs": [
        {
          "output_type": "stream",
          "name": "stdout",
          "text": [
            "RMSE with XGBoost : 22973.41\n",
            "R2 with XGBoost: 77.72 % \n"
          ]
        }
      ]
    },
    {
      "cell_type": "code",
      "metadata": {
        "colab": {
          "base_uri": "https://localhost:8080/",
          "height": 621
        },
        "id": "_s0ttzqG7Glr",
        "outputId": "3702f5a7-36ad-47d4-dbbe-0267fb48df2b"
      },
      "source": [
        "plt.figure(figsize = (10,10))\n",
        "plt.scatter(np.exp(y_test), np.exp(y_pred), alpha=0.5, color='red',label='RF, R2 {:.2f} %'.format(r2_score(y_test, y_pred)*100))\n",
        "plt.scatter(np.exp(y_test), np.exp(y_pred_xgb), alpha=0.5, color='blue',label='XGBoost, R2 {:.2f} %'.format(r2_score(y_test, y_pred_xgb)*100))\n",
        "plt.xlabel('Y Test')\n",
        "plt.ylabel('Predicted Y')\n",
        "plt.title('RF vs XGBoost price regression')\n",
        "plt.legend(loc='upper left', ncol=1, fontsize=13, fancybox=True, shadow=True, frameon=True)\n",
        "plt.show()"
      ],
      "execution_count": null,
      "outputs": [
        {
          "output_type": "display_data",
          "data": {
            "image/png": "[encoded data removed]",
            "text/plain": [
              "<Figure size 720x720 with 1 Axes>"
            ]
          },
          "metadata": {
            "needs_background": "light"
          }
        }
      ]
    },
    {
      "cell_type": "markdown",
      "metadata": {
        "id": "3j7dv9wT9Wyb"
      },
      "source": [
        "#**Problem no. 3**"
      ]
    },
    {
      "cell_type": "markdown",
      "metadata": {
        "id": "kDvG17Xa9eGc"
      },
      "source": [
        "**Machine Learning Meme**"
      ]
    },
    {
      "cell_type": "markdown",
      "metadata": {
        "id": "Kgb9mtc3IbR0"
      },
      "source": [
        "![memeko.jpg](data:image/jpeg;base64,/9j/4AAQSkZJRgABAQAAAQABAAD/2wBDAAMCAgICAgMCAgIDAwMDBAYEBAQEBAgGBgUGCQgKCgkICQkKDA8MCgsOCwkJDRENDg8QEBEQCgwSExIQEw8QEBD/2wBDAQMDAwQDBAgEBAgQCwkLEBAQEBAQEBAQEBAQEBAQEBAQEBAQEBAQEBAQEBAQEBAQEBAQEBAQEBAQEBAQEBAQEBD/wgARCAH0At8DASIAAhEBAxEB/8QAHAAAAQUBAQEAAAAAAAAAAAAAAAECAwQFBgcI/8QAGwEAAgMBAQEAAAAAAAAAAAAAAAECAwQFBgf/2gAMAwEAAhADEAAAAcQEz9RVQBXtch7mLFvfG6LegJgAgAAAAAAAAAAABUBqrVBQAABgAKrQFEAUQAAABAVqoIABa88EjEv0L91EtG/QhK1ZrWFK/BNDB4MsUvQ48io6Kc5rk1BUCCAAAIqMAAGqgAAAAIAAACACAAbDNC1oAZuyoigr2KhzmOTc5iokdGsW8RUwAAAAAAAAAAAQAAACiA3DQHCAKIDUQBRAFQQFEBAICoALBPBJYd+jeupnoXqEJWrNawSvwTwQeDNDN0OPI5joJ7muTVUVCIDAABAAABEVAAAAQAAAAEAEAg0hmha0AM3YFQBQAVWqh6sVEgxyb1jVORWOTcIqAAYAICMchg5xPrypbIAAgAQAAAAAMAEAAAACAwAARBugmglHFvUbt9VihfoVu1YrWB6EE0MJYMsUvQ48jmugnua5NyCIAGCKAgAAIAgAAAIqAAAIqAAAIqCSKSNq+oZuyiVswW4uEo9wwxG6YQG6uCBvrgAdC7nlR0a84sZdGc6B0RyWRC/0Hz3GSvVr6mQynU2zl1Ls3cdH5Lt68PpRylmuvojnVDoTngOhOeA6E50DojngOhXntlOcVqBEBqmP1U6c6Fac4Z97So2Vvoa7YupPbyVLahqacTmn7VjXz8N2nZSxXT5ydtKvSBjJqyBjJQuBIWqwIljDDTLdMFRlsK6bKhjJQ64MFG3xUibRDHKN0SRyxNaTldk7WZjbuNZTYltWFPONRE8s1EDMTUaGaaSBnLoODOdouTyuW0uez9FZpJqNp63q9pzbfnnkfqiqXfI1T6m5rbi+f9n2Wzuw+XdOye7JGmuKGQa4GQmwDxzXUWO3YiChv5+nFtjlijNAQXG/cnw39n6efcwtrCto0cjcwQtUtPKDiOF7LEUp9pvHi9H6nj+ra4aCHoAk8K+ivmoT/pH5z+gw4/2/wP28fEu7CuGZ1nJdOHnXzX9TfNQvrr5w9c+dg25YHi9L9l8M9kJcb6fi3w893tPMDqPHvX/Kg8fZJGQIpYmtlVdh7WZi7mHdTr36OjGc6OjrsERoOa1rT0jRqV1dwWCGjGXnj4DN2NGBm5E+krNKDz3Ss0/M+P2R9F5HkO234dqtV4iyr2DyTpKPTxdgZd6iiYhETEIyYhEMzblGyubTzNNSbFLDFgAsye2TqrY/Q1bKsmL0+W7N5vF6Vgp8xL6vyoczj+t0U/N5eV9xto8m2O/2ovyDG9OtB5do+r4Ied6HbbYeZ5/f9EHkSentDjaW/wA0J2FretB4e/1zQH43ob8oc9T9GUODj9CwA52xFIRz74CSOSNrcUMPczcTcw7qNjSzdONkkckdVjUUcWMkZNRorWkc1WPzdHOhLzxGtzdW93PDeyZdPo+dqv4/Qbjd94r0uTxXa/O/0npr4bXsdAjzzmqfb9Tnu0o5Kq1QAAQFVrghp26c4z6WZpxbYpYYyAJRAGF+hpzz/TfNavJ6MW5Tm50Olr9FyAVbtXoQ+FftrxT3Fp278Q/X6Mzku/5Me9qXMkG129IHyv8AQ/lfrAcvmXuqDiPJ/cvnkjH9VfKn1eHmPt3ivrhLkJezohm9zxGuHndTrORDyOaKYrAASORjNpzVw9vPw9zDto19PM042SxyRVzQCSax7Go2ubJIqK06pbuQngavout5/wBH84+z8f005d6x0vOtfxmvl7qfDvec7qZw4S5p8/fT4P68/V6/KxAI0ADAABUERU7dOSn08zSi2xSRpiCSSoAOwN6EjwNrcuX089B19OEuVv8AQ2Q5ZvdR0W8C/o0VGfk9S7oc7lo+wcnxtjqwfLs6tBYdXpkDnKnXActf2mhlaHS9hg6vzXL6bV118dH7N5q7Md9veuwcpd3khQCKAioAx7GbLmOw9qhh7eHdRsaWZpwtljlihNEBxRj42MarZIVBp2jnvhP1alcZ5X1nk3V1ei0w6OxnLi0VMe3g6Z6PT8j2kKYee6Dm5p9LAOrgiah0eEogoqgAK1URU7lKUZ9LMvqTopI4tAJIBAdBNCLIuU7d1VincpwlNYrWR6EE9eqeLJFJ0OPK5rknuY+LUAAR0ZKy2nL6tVJoehzizS9OVl7it3j+X3KPZzVLaIfIu8paacfZE28gAIAACCArHNZrvifi7VLC3MO2jX0s3SjZNHJFXYgDi1jmSGNc1xRUVjnsfF9h1vlPdcTu6ZWtc3tMjtilgUOjhtKtTepuHk2V6fzfV4lSvsVd+MmRbMYAogACplKb6ul6lz+n51znrGDC7jLnofmezm6xG/RlAAWCeAWRcp3LqrFK7ShKaxXsD0IJ69csSWKbo8d72PgOc10WoAOtU3Yd95MPQ876N9a72Xe895b6dy3LaOv3vV4mly5RYun38X5Bhe3+Q9jhZoGjAAAIqAAAiOazTdFJk7FTD2sSdWvp5mjGyeOSOuaAjTY5I5JiK2SFQE98b4uShfVT5j3nwj3Ph+jtiO5u+nWby1x1POc/p7cLsC5h7ecu35L6FszbDHNllABAIEGfN02XodlB6J5Vy9l/puM3I2+PeiDOnj4a5s4nSwOQSql8E0Asm5Tt3VWaVynCUtmtZHoV7FeEsSWGbfx5HMfEe5rkKgJlG8E/PNvWjp63W+5eCepcrRk+d9VStt8x2vReQ0x69fF9gu9Tl8U9Rvw87FNDdwwASCKAACNVGaEkT8vYq4m1izq19DPvxssMcyqYgkkkb2NMa5skCKJz2Oi5HNVST0Lz7ped1uxkrScL0FeG8kovq2KpLGy9/O34sOjtUuzx6CBZzgAAAOX9v8O9ezdvqcXom+c6Cc30/nttWtPQxtktbmtaPp8zCQW/lOgmgaybdS3dVYqW71Dy7Hd08NeBX2cfXbiSRS9PlSPY6I97HJqAgBATK1q9G2n695L3mHrz4VdJ19rep7GHZy3l/qfkHQz7NvK19fHALcQioAAAioA1UZdcx2br18bXyJV6t7PvKdpqNrmqNRpWjWDRGhUUTnMenIrXRkOaJ7+95q7i+i9al4Po8XQ1KLM5N+fQyehzdarmWuxx1AeUBAVBAzO/5PpcnU7fP0V8735cHT4zXyuK0erk6dF6G9C7+BZfobuEsM0JHIuVLt1U3a4PZcu6rBJR2E2p5Vo15+q4X0vzjRlHMfsoe5roigJiAA+17Pk2eDzb/OZOvLZpWZHdV+YxqrLNeKXq8NwFuNAEAACCgiKjEFGWlauXr18fXyJVadyhdJWmokLFRABBGkRWicNcDnscnI5j4yAQNzM6K9wfT+YP63h9WTaq4LJx0c86C/JT2Q04hWK4qiAKgoJoUEhd7FoczveU9NfhkFkzobudPZXzJMfs46OFqHU4kjnbWKzIvXa1dlGapkzh0/N9Bfwcqp5h6L492rO2ivWrsXPvY7VTI5joigJip19dnX9hXt+b9R5l596D530KK1ToMbXlqzRWNXMle11uZwixARQRRGAIAIAABaVFz9atka+Q69C5TtkrDVSMwQBUATUcgI5rmOcx8W9zbEZRN6/Mp16et556ZwvT4PC+gcXPPyTLLOrxtPUil1YQEdYqAClxlNNWKaz1tSiT0nxbquT6P1FedyeLu6TiMfm+hk15udh6nMt5HM2u3zOs7TzPv+ZPtsePFxa5LEPV5uXPE/ludz8yRvkvpdHU6vKe127eQTsazr5d2lnaMIAoTe28h3vD9ERS5ODrVvOO14bdiqU4bXb4ea+QtwDgQCiEUWLaPbGbUc2ysVBioAWlaubrV8fYyHXoWas7lYbAQlOQATpABOkIyZa4Fl1Xo4Th9Fhuc3oL4v1/mF0tTpt6PzfrFyOb5Tp4Omj52r0+PvdT512kcWkufNtx2SsiNXRzNKnT0WZmrppgp2Oe6OGPA0KWfpdFSq1M/Qt1aA6Isbp+3uo8m6v0y7kWTNrX+PTzOxczcPPtlZ1NLuB2cLrvO43Zzepv7T0rk/UMPRd02nDh0ZeH1UF1nn+D6hx8+P2Ftj8PfixNHFk8Tgev4fpc1upQ0eryKaCWYFAQAASJZ5/RRsyec79OKWL1/lVRUuoEALStdm69fJ3BxpzXnJ0DQE6BfGUC+qM9NFzMxdN0XleoeYuw7u+yeQzlZk8l6l5p0Of653XkdnyPoKtDXXTXxFfoWdOUHS5Wpq4eP1nCdLfTsP0G5o4HZcd1+WPCaWpxfVnrO6nveNj8axe9j39PkdzvduGvztvrOvlflW532Vys+HZo18cZs+nTshNBFJp5FkixJHMbGRs+h28DUsVZz9Z9w+WvqDm9LdKjseh+bp8nOfLI0x+c72TMsXepq4mlgaIYHJb+B0edbuV5OlzahAlmCwQIiwkAyeaktNuuyjBxepdggO3yp0gS2uwQAaDmmbqyLGDmIRE5ABOkKBOQgTOruRO+s5PSwNnjPN92H0rme5w6uu5zpOt6nF+Oua+zfM99HLy2IeV1cR0slUtHj+lw+zy8zYZTrfSbvA+k5sD5uit83HiL0di/o87fl6Ho25uzzkWnL26cB2EHsJd43zOrIpaDKb6NZ2Bs597Mcmjn1pmLKDuG7Dhdktmw13a6fnuZu8wU6P1j8YfReXd60/laPO6veYlixB8E6C1h8pa3OP0rurc57V57ob+fzLdTo4b8sWZfitpkBLXMcDXMhA2DHUNYyANdMhBbCZChrGQgdGqEpAKCAAACBABj8dxsP+gMKVHjlr0Px6Mu1533nleN0/Ie+6fp7YfIen9GVunzfB/onnOez6dzg/ccmizynN9i3ra/mZvulyo8Ou+y5EZ+R9nxX0gZ+I6fk63Jxeg3uO0OVZQV+l6ayXpuR1NUul0OCv59fRZ+fmeezwebri6Pc09jNwNnS9ui1MPn/Mclyu0ZOboVNzs6la+HbsyfJfaPPp5+U7HhkdX1frfPvX8/tes6fmexm1bUNXlaOZ01CxSwcuapn5XR1yxZrN0daos1+egXzTqoF9Aol4CiXkCiXgKJdApF0RSLozUVqqQIAKgAAAABjbOY4fZGb890LcfqniXTchm0/S03hXOkfqTofjfv7avZa3ieI167keebDPpPynzrGhL33rvknTT+i9n4+S2v6Eq+UPhLyf6y8D6PPo67yTsOR1cbarx7nlfcbfWee+havPwvtrvqo3NiTNVSyNWn5+3yrH73zzb9Qdzel02qHeULNTD8xZz0mf0pQ3o5evrbBJASY1yzhxND1Lcuq8J7PYhrcroCu3ThpJC3TmxiNWhmqVUUJrJaSLCXWzEIyUhETJCrJSICVIgUpEBIRASkQGwA5AAAAAAAAAigKjhuztCli0/QGB69Q6XF8I5f0/z+ufoUknQ2Q4Kz6PZDja3o+qz5w9B5v3QPin2X5l+pIy4jzX2nx3mdGfueG26Ne5wPYXNfn8C3es8HpYnsHivsVG3T47p+az8brzJv12xU560o14ZobYQx4XnvUt7PM4M7+r0Y5PdLr7ZGVKq20+2qvcJ767F2hZtOMRj8yBEQqIJqIAAoAIAAAIAoDEASEAAEaVEdGSGnTy6YEczZl2wCQAAAAAACAogCuao5K2ht8vblY3rMPU4/CdPLzFTu877DpXQ8Jp+nNsr4mH0LUqu8bv8Aq1WcPLU73pZLwSv7V4rzOjNuc90WTdV7DkdHXg7ifzq7x8fdXcHY50L2OnOaLt3pKuZfu1a2PUKrPJdba36fC2+5cL17OCqamTug1GMtje3+QR1+lXPLbZD0ibz+dx9CzePr2G9K1eTARxEaKAgA1QAAAEUBBUBUAFRUEgoCNcjI0FzX79WPO4Pbmq1q/oOR1pz7hbxz6C6E55Q6AwAe8YYjcMQDbXEUfQ9x5tuYbvozB8Ql63F9Y83xkzavRPcvjHtZx9dx/J7tlfsXY/Klpx9ao+c1o2dj638q6d+f2P5y7Lh8mzV2M+Xgdy8YKdvBb5XZwt89r1DkvYeZbyXU6c+DRI1jab4adutZCvTmzraY6qVbaG81uUb6+HwfRod1XmCeiZemHILu17o510lsWnUNqhPIm8bZOlcZYKyonIBEywKOZIgJSFqLBArJh9iUahqNnXW0a9rMZ1TRp2O7ZpWMk1igs4b4c7qKF1eG6wbboXSqpROcqaOUTRRQARpRAJabM3KrdBtecO96/wAu7zP0dHmrvmLXR0qlfv8An7vofOdDwPQWYpa2XXL5N6/5/tw4GljdB3OBv9Ep4n1uBm2qvf5ZzvQwbab/AKz8/esSr9Bm8szsd3sjPAsGyn6Xo/KuHfn+oOZ+fk0ZfXcHgC6jp6OStld+XMUXQavEorPaG+Vd5k2dAuGxRvMr2VaiqZOi1HoJqPAYOAYPRjRwDRyIarhp8lccbjahJSLEIkIgJXQASohnufPU0raYSylequllWVFtIFcsNCBJQjE2djI3PBY9/Ztc2zk8nsuQthf6Pl+stuy+N9i86nVUhgg7vB6XuPKtbldb0NeOjw9DsvJJ6Ha4Z0uRqxr77Pzq/mO+I5O1mQVQqyTJOHAYXrnHbuTxTmrs56ujUHrEo5licm9jgTEkcFd9y7NanV8P33P6zVkZi6EaOFJBQSCgICgwcMQUBBQAAQKiARGnIgDhqCeMUHDQHDAHjFZqNWKrTIkQKVI0ZIRqD0YArVBNckyexn9dh+c6WBzvYcv3OLZ6Sha0W28bGwYvYrUJfQ+dtVqle/O2EcnPPXvBe0ZIfNdvRR97FqppOm6cKTARJYATmev7erj/ADY/tuP7GKEC2TnRAWCogXWVBj4JCUWSbXXqrz3vOqtY6udje/D6qqsoXREioiSUCMeAxHoJFBggAK1AkIwHkYEiNQHjFEo0BwgAAAKDsCKrGigIAIBQRUUAQBb+ffql2mH13Pea6/H81r4nf416rZLZZ1LUzr8rIrOZ3eJYqS0b881qpbnFJJokdYs17yPpI06TJxbKyvOnXGSKOJJlCDveK9Mqz26tTVwcTkMP1t0a/D6n0BXvfgKe507F5Be9FgcOR2Z8uZZwnS9Gxtx2Vt00ktR8nuV0cwAEByNVJREY5EUBFARRQaOBMVQGjgTUeg2K8BiSgokmQISYCBZxkiW0jdWLIFUtKFVbKhVLShVLIFayaFM9/mfQOQ890vK76R+g5Ogmx1NOnzTP6XnteKLneisdvi9H576tzuTdwW5ndd3fO08/qOXhZ1+7jdr4f2FblOw5zHoZIxexkcNbOUhCC6z1zzb0umfP0919lXLNszQyZ7UdCiGgkNlTalvA2WyUev2LpcP0/VoSv8xswdbL5CybO892J6ghAUHFRBCiKCijaKCBUUAUBFVRtHAMHoxoPQxXkXGriSaKNIig5lhlhbM6EUpyAFKkQEqwIFhIECe/k9Blv1eV7jjOJvwcDqsTv8r2OqzzzF6H1Pwn2PyW/kZvZ8Z2HU5N5kRRq5DoOQ6P0/k7PL9LzZHt/TfK/QfBe4mwpcvJZnS1Z+7znjCyb0aD9C9R8m9ZzvFdYrC5zJ2eN24+1i5XWrtWlXzLa6HReRfTt2bZZqUOZ0YsnUzbilBLT7fL4nmu243BshHGa5FVQaj0BiqwTlaDcIA4QAUQFVFBFEBVaIcgsJtRy1TY2VL6Wo9JJo4ByTEL67LSIrrM5quTqOutgRXSdzUPSYfU87Uyjp1eXq4S1Vud7l2e280rQ0ekeSaVSdVDruT6jZj0RUq0eb9FznSeq8jLhbeIjrvavEvffJep57hfW/Hcd2HrU5tlMqRtssmSMDsfYfEfbaZ1qWjkxMbkOy5Hfh5i7SzN2LoKNZ2TbyH1d8/e21y62nZr4r6+Zr5Vk83O1snrc7I8+9I8/ZUS0c/ZXLKiqrZUKyWhFZ0yjrNtgqjrLQgJgICcHXWYFCsqBGkrU2o9E0QWSRRBKIjLrej22uDm9CWynzN3R6Vd3FnoPMDxRFp0o4QRu4XbczZmVbmNhsdzl+D1fnI86znZOhLBTuIqdHgbN1W81xVp8w6PA2PVeOu890HNi7r0jz/a8Z7PqeS0uXx3Utapd6uJquC5oCNL3HwL3qty4O9iKOZyfXcrtxchn6lrp8+ijjjd1vpHnPWRPXI1dSocu/TtWdk7GV0cWfwndcVpqrDW8royIOAGgOGoDxoIa8CNHxDciEWopJIKomjnBEkyBCSo1ESKEKyIEbZWhMoV3zQBKDFAk5QSUBAoNJ24crXDjhgu8/1Q9Jwl5cO7yquiFczpw5XYvAU6PONMPVeQv8yDj6L2weS9p23nwRtxKwa8iKFNiAAnvQVlvGCCzuaDbiw9IO5zOSUPO+hNkBe3PChQUwtjm5YbsmZyAbs9BgcbqucEk4CLGAIAYKANQIyUCDRQmgCUWACEBgAJEBgAJqAH/8QAORAAAAUEAAQEBAUEAgIDAQAAAAECAwQFBhESBxMhMRAUIDAVIjJBFiM1NkAXJDNCNFAlJic3Q0T/2gAIAQEAAQUC/wCze+n/AGbCwfdsECD/ANP3L+cf/aPfT/s2Fg+7YIEH/p+5fzTB/wDaPfT/ALNhYPugF3IP/T9y/nH/ANo99P8As2Fg+6AnuQf+n7l/OP8A7R76f9mwsfdASCD/ANP3L+cf8ha0tperMVsfiARpLcpv+Q92/wBmwsfdASCD/b7l/OP0ZIZIZIZIZIZIZIbDYhsQ2IbENiGxDJDJDJDJDJBTiEFNlKluxmm3F1CGzHCZLzJprk1sRa+Tpsy2HxkhkhkZGSGRkZGRkZIZGfYyHvp/2bCwfdASCD/0/cjL1Z93Ptn4vK1HPMc4xzjHOMc4xzjHOMc4xzjHPMc8x5gx5gx5kx5kx5kx5kw5UkoDtSlLDzq1BqQgIKE4FsqIG24YU2sJbcbNyS4sMTzeb80Y80Y80Y8yY80Y80Y80Y80Y80Y80Y80YKSZmzlReipy/KMf06vRQpllXfWIZ25dTlZkcOr1hs0azrpuGmz7GvSlQoNg3bVoKbAu7zcuDUbfqdNpVauh+Rw9vNht/h1d0df9ML1ynh7eZyi4bXkal2fc8SlxnOa1ypM2afDK9TP+nF5c3+m97NFRKLcFzv1y1bmtenVCybqp9MrFnXXRKVVbVuK3YKluSHJ1kXZAfqtDq9sOqPCKbaNx3JDVw0vRpBcM70WVw0a4rSa/preaxAtm4qpVG7Gut2pRbNuqXVI/D67pINEyBUPA/DAk9iLqlnI5A5A5A5A5A5A5A5A5A5A5A5A8uFMpSmRJ5hkQU2Yo9Kcq8+ZZNJfEyxZ7IkUqtQguS6kHJMeZeWGaXVZCKI0pReXHlx5ceXHlx5ceXHlx5YeXHlw2x1bLBH6Lm/4jayS1AjphMUpKfjdJedddtEsUqgPvSrctlt56yLFplwUe4OIf734T/ql20m5k3HxVkyYls2w/Ifs3hDPn1GjcNpriq/xPe8naEIsRqgTqEcOZUuZaHDGoVCdWmGpEeVYjsebKvpv4tYNzfsOTCaqNJ4oEabQnNqOn0aQ3XqTe846peZllNoSqjGvPjBUKjT6ZMYlSaZxCkRVsLfJuVRYhxeIMH96ogtt1Oz/AN/XT+//AAPxk9k/U2XQiGhjUxqY1MamNTGpjUxqY1MamNTFVlGaz6JSn56k55YrSpiafSjDiRykiXTor4VbVJ2+GxmA22QrcFcV2DLKY3qY1MamMGNTGDGpjBgyx4EEdj9Fy/8AEluclrm5qtKeb/EFMjPRnLOWl2j0eG9TqBbiX12Lw5pN1U2q8QrcuOZcnDWg1yiTrznVIuI3Fz9p2n+yOCv6BYFIkQajeDBV2y6Y8S4s5RHF4Y/svhR+uU915dWoURqJHcj06pWtcv7CkS/JtcRafNqtvzIlRpg4WbfhFv8AWt0i2Ot+8a/0qtuvMUOsxG5T0hdPTUkxCbueD+9adM80VoxJaL2ukj/H/gfjJ7F9Tf0tkMEMEMEOg6DoOg6DoOg6BaiQg1G4ssG7HXh1wlTqo0RITjooOLJJVS4oMQqXXpk6Qb/WPUY7z7iG5DLZLpNT+Uxghghghghghghgg9giIJ7o7H6J0UpbUmu3tKT+IL5KQ/NuJNSfuu85zNOr91UeHKuW9JsePdF50+N+ML25irqviQj8W3sbkx6pzptQrN0VuMxdF2QI9KnVqgIK8752iXJdcJlCaE0RfA1CnV+6KXEp9QrtHeTdV6supu6+Upg3JdtMhyLku+ZCmXHddQZp963Giq1aoO3FWolauiisNqgqPahht5MOZV6jX68y/dN5SWlXhfJm5cV2yJn4wvjdq47xKZHrt5w3WrlvpkIRJdkeB+Mrsn6m/pb9WRkZGRkZFQXiEg+qD+VvvbjXPuRJiXUI8FqdemVS5Nx1Em6YveKzohxehzmFtu0evpfF0Np2hO7xNhkbDYbDYbB4+iQnujsfroFIjXTcVV4WUuGda4Y0SkUal8LYb1MuLh0VFkOcJLYQqocOWYFfncN7MpSaXw7o8u3ES1fD6Tw0oFTolQ4W0+K4rhJbKF/03jt3TWeHllUWOjhPbJxbh4axqRHunh5T6HR2OE9JTHncOqTSqmvhRajbFO4Z25UhTeHNpViPW7Ip1v2tHPLLLEKbWW+E9pyWYHDSzqotXCWhG1ZtkRbmi3dYtOtti4eHFGpFOr/DKnU2HV+H1pUZy8bPh2hFQeyPQfjK7J+prs2D9J+qp/8ABI8AuoYPIseObtSSJRbCPROW3V26ZTYz1UgSXWGNo888ORbekPN1G11oVUX5x0+m/wDB9bvZISEdj9fDn98GlElV1r5lo139BvH9PuH/AD1/9avqiW3WY9B/YLZ/+KtyN5yyKicWnxJsOHJlOyH3L/4m0S3J8a6MlYdx/oV5/pd8zH6fTb/umsV+k1wv/QOE/wCzOExueX4vE58GYxyaw0lcS1C/9I4KfojDLEJNhKUm17tbOoWlfH6C+yiQzxO+jjB+gsf4fQfjK7F9TXZsGD9B+qp/8AbdWPqsmLyqYkhGIimuPHi/1KOJzF82gmcilIjkuu3jUX4FPgVl+FLuVDbrDaCbR63eyQQR2P18OkGV7xHMVGpO+a4ewpUC66De9YgtOT6eU5yvTIx3Pe9l/jFmkU427Yb4PuG5Tonl7OsaFpdFeI/i8sv/AHK+7C/Fj0mmpq1v3dLjxKTf8hMO3lph3BG4w1aFIiV1J/gThM8yu1LPoLttUy5S/EXDmFLbKPUX23YtqpMrL4LJMqHREmmTBL4dR/MfiC1r2I1UKrVDyE69KJKrq+Lqm1UhksNeg/GV2T9TXZsH7c1O0Ol2guTHkcPoZpmUw6TOtrUqQgO5SrzSForBMyWXKE0h+kRfLQZuItYuaCdTpyKZL8zIjktj2HeyQkJ7H66hTWZQ+Bxw1QY2XqBFWCosZJfh2Oo0W/F1K142XLZjArfjkE0GMk3IDLjXwCMPw/GwVuR8qtyOYbt+MkkUKMk3LfirNqkxmkfA4271EjOgrejhFGjx3TdZIEtpxEWy0SmZ9NNlyFQ23kFb0Yguhw8ooMUfAYw/D8cRqTHjK9iV2T9TXZsH7cVon34DCJCjaJpd6oSmTaZ7UhIX1JZFtJiIeEamQ2lpMVWGUplpyUphUWapxcdSWPYd7JCQjsfrd7fdsK7BIQCDvY1DPvYFIppzXp8hKEzVJdDLJrN+ls0+mc+IlqJM2c9uV2L6muzYP24StJTBeXjsyHX13u7tLtE//DEobCUrA5wS6ezH0KDzCm3PMGQce3Cuh+t3skJ7p7H63e3+zYX2MJCAQe+n7l7OvpjR1yXnEopsSY/oSEqcVAjIilVJypLcmA8hyDC5HuSvpL6muzYMH6D9RHg4xpmQkdGbit8pyqXAbpsPINfSSvIUfVlJmbeqW3ZcRoS65TWyRVfOOrfwNtvYd7JBGRBDjZg/W72+7YWDCQgEH/p+5ewQwNQovBS0oFvxWWIkx/mOauTX2YLcRD7hh97c8e4Qldi+prs2D9J+uhTOWpTWTkFlfgrIdQZgmerTWBP80puT50j0cWcdjltuLPLP0+t+UgQ2nJ0mq0NmnMNMT8vPVBhMaUmQn0u9v9mwvwSEAg/2+5esgkvFwGeCJfzxG1w6e7zZC4sRqnsyHQmDNqRy6NMhl7snsX1NdmwfpP1EG1m2qDV23A4+hx4hgGkKQNCGME7gPtpUHGySppRB5klKJOpeqW5hul0rzQisRW01AsimUddRN6kx0CoQXqU+hRLT6He33bC+wINgg/2+5exzTITHZsNUWWiU2vBi26KUxdy0N6nuw65KiFRZ0BbT7whxzqDsVxg23zSpdRaJiX7J+Mj6S+prs2D92cy66xatWnP1dHi4eAk8nIlxoyV1iEoKqMQSqpBQGqowtWxKUrv6X1GSDa51TgUnZNXnRaI2y63VYdENlql1Wg1RVZ8wzKYm5hVP0O9vu2F9gQbBB/t9y9iVzEFNqDz50hLrKaZCdqMk0pgRZ8jmnNo7Eg34k2nOR684sHU2DiwK7BgNfHIkw/KMVEnG1NL9uR9JfU12bB+8cbyddbPoXhOc5aXai4ltuLKeV5J8idjukH2nDLR1h6GtajPv6ZLmrsaCr8Qc9lhm54EGri14yIjLrSoq5VPlvmxA8sKvC85HSeS8Xe3+zYUDBBAIP9vuXsqhxicUk0HSqrIgLaXPebk5Q9nZXKJxE+20KCilwHWZjKWIJm7MYmaB5fNd9uR9JfU12QD94yJRRHN2y8JDROpiQ2WEapIOlknWCUFxUhcNsxyOWr1TFGpyhv8AmYDzb2DpT8hTbTbDVYrMaIVPqTcopDhJNTpKEprlPeLvb7thQMEEAg/2+5eyosk5sYbMW1LU7Fr5kme2vKo3VKmhMjMPIdp8BE9EZiKEKPHtkJH0l9TXZH8CmyQShsO47DIWoKMLCjDis+uZ+XItY/8AxW43CkrU2q13n3WGKVTFTZiFv8syTORvH8Xe33bChTaf55z4LCIlUVsguBIbEgjLwL2loyEpMzpc1unx5L633WD+eH2UeEzXkJKpIfN6EUpTfuv/AEl9TXZH8AjNJxansSJSTCXEn4GYWoLcC3gp3qs/XUInmmrZMypO3Q3j3jyEqOvVGgQW3rwbQIcRdZNDaVE6ynVaDQrwd7fdsK7UhhUZiW6pxx6I75aDMNSnGWHhctHZiGXtI6rUhTa0LwFnkR/qYWTaJU4kJfkKeUXvv9v9m+yPdL0PNrSbcxaRFqGQiWkyOQQefIiXJDkkJe2POfYoDhEEpHl8j4RFS6/ZdHNflIsImWJJqJOA72m9JHg72+7aTESly5jkyQl0E2Hq0bMdj4gs2npRIVMTUIS06L9iHFcmSGKEw1EqMQ2VYGobeJBqn9HZCnDT/Ae7f7N9kfwWGScjvwAttbRonOIBVXAcqWQqWagt5RnFbcV7NNc5NQaUCPwWkjCmyBoIg4WA4JMfnOklSjao9SdI4EBAbRTUHz5xBxCnVqfbIJfIyepLz7zX9pH80aZlKVuiQWHfWRZFGpnkIqZi0tVYtlOFoeVrM1GOoSC/gPdv9m+yPdL0Q0/kKbIylxSMn2zQrwSg1G1FbbL2cmg4cpLzbagRgwsOPtpEiUjHmSUJtQOnu/H5jpI5EgNNsJSZBfQOLDzoiMKaawJ0vkFVNmJ1vQzdYqsJUb2Lep/mH0qwHG477VWQ82p1ZbwVEb0lPLfIF/Be7fdHZHul4ykvxmKbsqCaRI7Ti6n4RGvcpc3y8hp3JJcBukJEpKSk1BSCVLPCHhW5STQ05shuW4gUyabgcdSgnHMh+TgUljmrDzqWGlrU4uVLp9HZcu6pLV8VuOa0hiSaTSpPpZaW+5DiIhxQpeolrJZTo7SVsrwqcnMkk/wnu33R2R7pBtl146SwUV24qop9Vv15JgtVplI6S0Bwuracm3gk+pTRMIS04olxFEER1LPSO2Ku63ikVgn0ecSRPVMS6gowt5SgSxInpjodkLdXCkEkNvIdXToDjAccJIdeNQZpjzwabQy2KnJ3caW2w1MkOz5FHhFMqCUJSRoPCk7B2JgdvG2oGPAw8sPL6VF4NOfNJ6uYGPV3Bl4Y9h7t90dkmNyG5DcbjchuQ3IbkNyG5DchuQiRJM1VM5MJqoxCNqbSXn326KuAI0l2KhNVbfTIU24H09W1paEd57YnCMtyG5DchuQi6rfNJyKqqOTZzUqaePoHBKMlNsLUkJrDxIXUUqByW1BcyOgO1Iwpa3FIjvOCHa8t8QqZDpyXXw3BkPhqMxHGwyH3uS0pXOcr0gyja/NaTW0gywKdSjWSWGWicYZdJ+36e8HbUyHaHLiuxG+VGDh9HTEtYmrM1Md5H1etJDAwFew92+7fhgajUajAwMDAwMDAp1Ek1BFKUimJq0cjalXItphNSfjz5SW5YfpORPbkQgqpScnViNK6io0xnl77tRYjLiJDOBgYFPb/ADmXHmaxKkpNa5K5CnF4EiT1+dw0oNC8BxkjBwHFj4S6YTSmyFLoMVAZp8WOvYJp77obisMBxYU4CPpkVaTqUYj1qiuZP/8A0sePzm4MLnycA0jXAx1mzW4aHJD0hZdC+zqg8oS1h/qtgusn6/UQLHgYX39b3bUzUhIwMDAwMDAwNTGpjUaGNcDzLdNK4Twp65f7ByoE6tx5Ti7eqhzTlVKPFiy5Dst2XDPBw8pU1qmAw4w/cPRihukh1PzlqENGocw0uRnOaxUVrRLjzCNEmVkfD3m2VPpjt/MtaUmI8GQ4PhUwJpazNimIbCID6gmmoIatMpfkJabN/cnHAXVQNZJJ91UuSksFLPM4/wDJYEtLIphETGfBacpUsm0OOqlPmeA2rdKzwTqg+oS1hfU2O8v68jPhkZGRkIWMjcgsyGRkZGRnxUnYJZIaENSGpDUhqQ1IakNSGpDUhqQ1ITSUkKedS3VLnN9hMSVNZi2c/Ijco0HatRZp8tdxNv1mbTUsPc9xkOkaHjV8tNYdVLuUiQ1Rl4qTK1MrRotMj8uC2ybhQCwxU6WckGzJjHRKMlCUtoxWaR+bFobJCOxGZCIdTfDNACaVGaBsttk/JZaJypbNMuK822xIXFSZpQowgZFWkcqNCQCErpNUfW2pPIqcBf8AZ7jYEoVpRsxWvoMU5zeM6oOKElQlK6fdkTv8mRkZGRkZGQR4BudNjGTGRkZMZGfRkbDYbDYbDYbDYbDYbDYNJStLy8BqJGkIhx8poCCU9I4fQpE2sUiXRpajEh34lTnIeRIh8kkwEtlRopolXJI5lTQnStOllMKSkxVUaQ/h6ihMNktBR5BDyrigilylBuhSlhu3khqjwmx/aMA5sQhHfZfN1ZmqRJU6GPMqlGbflFEgnpCjWa/AhkVR7ny20aIFT+Ses/kiSCYn018lwScHMCXBXUm7BY6siE/yHVqDqhIWJSuoY7ysG5ghgh8owQwQwQwQ6DoMEMEOg6DoOg6fwXoJLjKkrTHpCULpiYMYhQJsbltSWZCa1SIVZjPcPKZy49MkUWGcuMYmPsaKksiLUIrAl+VkSmo/Ne8y86mnEmMdRLmR2u2iFBDaEhUdt5NrzHjW/WoTJ/HZUg0qqD8FuDNfKJQjMeWjww8/I86cFO60IEiSyyF1VkwT63QoseLznKaikbj4MV5Gp7havktOqlKpsiQ55alS5WEvBWrqI7C4qg51EaZuTyg+oPnlRBo9RLeMneeoc8xz1DnmOeY5yhzlDnqHOMc4xz1DnGOcY5xjnGOcfuKcS2XxCLk50Yh8QihuSy4HKjE5brsVcKly0R203FHabXOMnKdcNQpQlXdV5jrFZiSIdVrUVcMqjDD64biXpLKDlSGzJuQ0YTPaaDEmKptSkIb+Kw10+LVIroQsjJJhBiKRsXK3CTzWIcZAilGajIkNoJMw8eYU4HHBUqrFgIlVupywfmEqgTI7jjETIqLZNOGfhWHtW4berYUJ8fzUXZSTNWRbFVODKanEY842aUSg3IIVhfJc2S4hZhZgpxh55KiWfUlJIc3YPls5oNBoNBoNBoNBoNBoNBoNBoNPcWSH6wrh1Y3mKTw8tVqDadu2FdUapLok+4S4fWU29Q+G9Gben8O7aTMe4cWS+ulcPbOTRF8ObVauwre4eP3bXKNDgXzWLGsmn05dscOm7c/Blq1C1kcOrKYXb/DqgOJPh5a6ojdp2Iu6LrtC3LZtmiqpsmtr4d2fGX8GtqbYdIq6XaNSKqipN/GYDUyary9f2UlxSzQIj3Lhtv7uLkkoo7uyajLUw2/rzVrNRmvpM+UWm4dRpM13zEjA7E8vzsxJYIwfhXacba8glGk6bXVGhistLU3ODU4hLdKVChy1RT5iHUrMOmHFBTpjczDQ1Gg1Gg0Go1Go0Gg1Go1Go1Go19wv3Iv9XhLJuNwzqMWqwU1aHOvy4KKdarlEh+Rpr/SA6rzMiibUy2nYqW77brEGTxKqEY5PGGREddZkpUnhHQelgyCP8QUd5LEyp482zFW7xS4pxU1C01vE5GvCsOO8N6OX/wANW26sotJWcCu1ZCloelnPt59f5q/nbitmwlKEMmluQ+G2+QmcjcVDKJOQZievIphrpVumMCpyTwy0TSSCgfgoiUUu3W3FJtSprCbdnk7BpzEIskCWaQ3NWkGtJqSs0DzgW6lQcGizCGQRkQ2Gw2Gw2Gw2Gw2Gw2Gw2Gw2Gw29x9Lrcn+pl6Zh37eNPaa4iXeTjUFwyc4lXa3Hpl1XFbrs3iBcs+pove71u/ja5GY07iFdTFQ/qheMtTXEi8nlfj+6Ibkm+q9PpC75rjFDZ4qXayxDve4aVTF8VbmkpTxNuQnKfxEuSOLkrP4nrkup1+o0CoXJcUmlw0+Un1HLK3UEorUw9CjRzOMmIghy4zIQxGQFuGYUoL6lVaaqSTxuR1G868dIoCmnVZMLWhsnpy3Qlskgi8DB+GpmG2MiGnAfPL3sZGRn/opeSkucPLHJ6k8OrZORa9AsS6KzV5lsM1NFu8P5Fv0+0bEqVGn2TSo13XXZluUqky7CtJExrhvarcti1LRp9of0yswn7VYt2r3RP4f2XRYFy23brNjxGucyww0zJS/hLn9xHnuEiVUU7RYqzehUhflbkSoJUK98siOveOowowowYPwPBFMr0RlRLKWNRqMAwoYyCQENBJYDSdEmeVf9ZOL+6f8A1CndJ/D2qw6vX65Ni1ipRS/+KLQeXGsdyll+MqvDeXRJ/wCpKdQ61WIvneGCySpDL7tAqHF2cpm0ri/+oqZ/xHHUNvk78sB/85cBpcmqQFSBHp3lqZGYkvVxJhJi4C/KpDvMpyjBhQMK6CbXYkUTapMnA0hK1INmrPIDVUiuAlJWRjXIJAxgJPwmr5cYjyX8hPdLBGlSMGZYGffSWyqgpyMX9Wro3i8S7lpzlM4l3LMmxGIyGDr9TKkO33cFAgf1fujmxeKdytpf4oXGqTH4kXGw7T7/AK5BpbnFS5vN1i+11626zd1TuGPVL5q1wwoMdJsm02h5lh15rc0nCnIkFqRjuSGkJMjBGK4W0C3XMw1GDC1JST08iFTj1Gcl1t6OvoFAxkbGQbkqbNiphuYSgT5EPMsGEOtBLrO1XmpUTf0fyM9WF/ItSdnlkNvfi/57SpNLuSrVvh7aqqJcVscPbbpEe3LIo9mWixTLluOfYdp+Ud4d2Mci2uHNsKO07c4eXUiuWJajdOqPDe2nKrN4c2fPiUC1uHdxUiHb1hS7Zh2BZ1WhUi1LHqVdjJKNLddbS6VScOC2yahjAfqcuAiLdcRYYqtPfBLSYkVBqMnWTUXGYuW3YTyFK86Q8u6sJigmCIPRmXkTbbaEmFNiGfUH45BLUQRLfQE1OSPiSx8QMLdU6f8AHMGCLqlWEqM8u5MFkcxI5iRzEjmJHMSOYkcxI5iRzEjmJHMSOYkcxI5iQ0o1q4Z7fiGZ+hXxVYdHthVRi0rhnw4Ul29bkvx2LXnH1Jl2hERTnOHFXhVuLWP2q8sirL1sfE6hwv8A2JbX/wBO2m0cC2bSgrgXty0qrimEoRhvHNQOagVFaVRsEKLG81USgBundYsMkBJEkKwYU2gwbKSBpIgs8A1haw5gxLpsN8PUVZB2JJZGRnxIRiSp6alDbMNs1u7DcbjcbjccwcwcwbjcbjcbjcbjcbjYbBothyUkHiIgk8m00hQNhINkjHktgqnmQVHNJ7rG6xusbrG6xssbLGXBlwfOPnHzj5xhYgbFLbrVUtqdVL9vKpU/+qd3pEm565VqNT5Um250l6ZUq6u/7wVIi3vd0CT/AFDvZLlUvi8aoiVed5z5VRu6+azFo9eue26ZTLor9sUtfE66HQXE+6CfiuqJ9S1rKK3LfY+cfOHUrW3kWekstaKCUIIZwNhsFGFKC1hagowZhagtYUoGYcjsOhdIiqCqKsHSphD4dOIJp84KpslAZSSIuBgajUajAwNRgYGBgY8SIJaIwmOQ5BDlEQQZIM1ZCkZBtYNGSBmeDeUg2pmB51KifcQoajUaDljljljQhqQ1IYIdPDp4IcNkecdcckTciK+pEgqqpw9HzLynz1d5yI6c6UsLmyVJjpkTJCG24bWJCkIbkOPvNMPlOjuQ5XTZptxxEOJLeKPFcjSag0TcvAwJzPLVab2gadwaXBuNhkGoOPIQUmu0mOH7vo6A/ezYdu+csOXDVXAqq1FQ+ITQVVnpDdfnJDFwmtTa0OoJ1BmSiBuJSHpHMCP8Xu4GPAlqIc4xzzHNBqMc1Q5qhzDHMMhzjB/MMeGhqLAx7sl3ltktSUuJUTcfOrJ9eeYdl8ps31yXjP8AL/8Azt0iIIS4GW5DgQw+4G222Grm1KoKwSoqnEopyJSGzOU7OlOKU/sMh1BOopr66fObqDZJO8qSwHuIkFoP8SJRh2/K+4JFyVySFyHnRkZGR1GDGqhoMEOgMU1R+cS2hB7mD2MJbMwRY/nMLIYGPDAwMezL3NTTD7rb0VxJILUI7JcMxP5i47IP6P8ASkyyiyEqNIZcViOawbrbTc6YqZLNSXHEINpqLJbSl2oR2pBlkajUah2M0+lLerUuC7GW6ghqNBoNSGCGED5SGw2MZGRnwJJqFJbioPljlg0kXs4GBgYGBgYGBgYGBgY8MDAwMDHpI8DBDAwMEMEMDBDAwMeltglpioImpyflV8q0rIMN9apEisHUY6WTW7lpDitUJNRR6jIjE3X4gfuCKkpFSk1AEGWyNbzLSWo3KIlqLnZGRkZGRkdxXISljqOo6jqOo6jChqoamNBoCbCWTCWUkG+joyDMZ8MjIyMjIyMjIyMjIyMjPp6+PUdfZyMjIyMjI2GRkGYz4pirw0y7zZzGGkNllDeTDrzromIbfQ7HabRqnO5IJbgI/lWlZGn5U56Nflk482bbD7RI2y4Oo6jqOo6hps3XblhvR3ijEY8ooeTWPJrHk1Dyhjyo8u2OWyQPkkDcIcwc4EpxQRlKqUxOUSkJyaBqNRqNRqNBqNRoNBoNRqNRqMeGPHAwMDAx4YGBgYGBgGft4GA1rzG0kttDZ+bqacNRTy+xG5ofNqOUiokYcefcMvyzU9kGs8rc6GvBFso+ohtFIflkRA2yMoJZaPo9j09BHUSH5cBmdHqFpzmVOR5bCsvjZ8bvjZ0fmDRY5ShyTHIMcghFo82UGLSdSUaHRoAW6pwEfXIyMjIz4ZGRkZGw2Gw2GRkZGRkZGRkZGwyMjI2GRsNhuNhkZ9nHjBLMryDCm0RE8yqNEltHLimb8t0tEhZD7u9gYV1NKDWZElBdxCUbU2eokk0tpQhuR0MyJTfN8MDUYGBqKXPaW1hJh+nRZRP2fEcDtmyCC7TqaQq2qoQ/DtUH4cqYTa88wi1EBu26S0Go9OiiXLeB5UZaJHNZ5Oox4YGPHAwMDAwMDAwMDAwMDAwMeOBgYGPHAwNRgdB0HQZIZIZGRkbDYbDI2EI/7jslsVaaXMbRgEQV0JYV3V/i57Y/Mca5mRuowhORqQMtXZqcogRW1iLFQhMzo6MDHhgYBINR0+hIYY/OjOtyUGCV0I/BRhRh00KQRHqogtxKQ5KIgt43DbjrcDtulMbXBegHgGQPoNhsNhsNhkZGT9HX0dfDAwMDUYGBgYGBgYGBgYGowMDA1Go1Go1Go1Go1DDSXF+XlEUh2ZGhoPmLIJ7KLKT6k4C6o0U64zEbbjTY6o0hAYbMcjBPlg5mORSFM8opMdKp0trdBmpIx6Lejk/UjLAnxUrQ6wRGbTzIKXgOTtSRJU4FuoIKkIByHAo1qDjhZ5S1m1EcMQomDiEylFXiE8z0BmQPUwoiGBgY8On8HAwMDAwMDAx4ajUamNDGhjQxoNRqNBqNRqISfzclo8wiVAkxfJuEKRTXKg4q19WZ9NkU43CCBQoeXOgrMUnmGGTMRY/R0sIkmeFYci0uGwcXkNJkVAiIEfTYbDYxkbC0eshZBayNcptLhc7krW224SoZJM2Cw4xg9AZEROyFPLhUo1NxaYSk+QS2OWlJ7YC1bCa1yJR+rAx4YGBgYGBgYGBgYHQdB0HTx6DPr3Gxjr6Oo6jHpisqdccVVG0+blsxJCDkpTtsh74ZSWay7yJDMGrRHMZR9UVom4+ApGyY3yqaUaUurJZPl81OR5huGzo3IZ5T8xiLqmWy+XptH/KRZE1HLDihMIlFHm8tROBawtYUsVCdlVDgcw2WCQiMgksu9SWFAzFcbxKx44GBgGQwMDAwMDAwMDAwQwQwQwMEOgwQ6eGPZIyIcwhzSHOIc4hziHOHNHOHNHNHMFNSvMhX5U5P/j28cqSjByEPTqKtwyFvqUVPmuNOyi+phf5W5jYwlRlJZcMwfyh8zMUlKXEoiJIS4zYksMJDHRHUdR1HUdRaav7tPaf1jPCR2lEIc4wp7JLdD7+EeY2rNFjE3GINp1dcCwsGYrictevGRqY1MamMDHsZGRkZGRkZGRnwz448OowYwY1MaqGqhqoaKGihooaGIUxcUpdWgrYmSac42482TqUkpujVP4VJ5dGmN1OrtQ2sBXQ4hEqPoQ1If/0x+xnkn+9K+WPCgc06zTDSxM0SIz7aljoOg6DoLYViopErrHd+l8SSC+htzskp7IeVlMuG8ibTzI4xBfSS6FhwgoVMt4R+xn159OPdyYyoZUOo+YfMMKGFDVQ1UNVAiPwgl8s1CcSkoEnHmWVkSZTClnnoDLBuCB1j6mNQX+ZnseSJ/vASSoUPoiaskRlRWdWiIj1MajUajUW98lVT2eLLX1MPF0kkHe6+5IWQw4NFCgu8ynkH+hukFhwvlcEgt43LHLIaJHLSNEjRI0SNUjRA1SMJGEjCR8o+UdPRkZ8cjPj1HUdR1HUdQnmKLmGEmtanI8tkbDYbDYbDYZGfCHUGWRMkxViU81rFYYbpisYZ+YllqoL+p0hSz/IGAn/NHMjDoeyYhFrDizZMdVUkvyozi0IaRIb8xj00xfLnoCuzX/FeEog93JJrc6+Nru/lEYkFswv5krC+zg7hScHgYGBgYGPDHj0GRnxz6cDAwXrwMeFGKFknKYsk+UZWycCW7KRGNxRR+btSUrqZsLGBgYHUYMQUJUzOhxzdlRmkmqX/AGSC2aS8TKEPKeBSDU6r5iX2pJ/l58FliXGVgnA/nMZJeVix0vOP05WrsNKEtxOSefSyrR5o+hhH+J4Si6uoMzYY1GRsNhbj2swuwaybCwsOD7yOjxjJ+jPpwMDAMvRgYGPHUYGBj2Mh2VJkEhxbS8jPpIY8IX0TP88oO/VTv8E5JafSR9DQs8J+dyLGbYT4Sek6KHj+V762v8duISp+U0gTW07SPq8cDHhF6tH2Ls6JX1YLcv8AD40dRlUU/SEBwKDo/wBpn/JGPUfpz449nAx6sD//xAAzEQACAgEDAgUDAwQBBQEAAAABAgADEQQSIRMxBRAgIkEUMDIjQlEGM0BhFVBScYGRof/aAAgBAwEBPwH/ACT2ixosf8T/ANKPaLDBH/E/5A9PTf8AiH7h7RYYI/4n/Cz6c+WZmJQ7ymoVnmER1zHUqfLMz5ZmfQ9wTgw6hTBcohvWLcp4ll6/jMTHliYmJjyx5YmJiY9Dd4PXpqABvaN7VM09IVfeO8OhrblTiW6C3PBj6ZgfdGQj1L56j8vQhw2Y3J8zB6D5D0nzfvF9OYvJg4ExvwP9x1xPqUQccxtTbc38Sx5YQRkTPoaL5tWr949aIMzKzKfxAU/ibk/j7B9WfQ/eL6k/ITM065dYz7QTDdaVy88Os61pQw+12zGdXPHoEbvFh89R+P3DB9l+8X1INzAQaatuDKVCW7RP3S7RMR7JpNE2nJsfvNTWRYcfM+nfJOOB6W7xfQwyIEWFFgrWCqv5E1FtPZB68zQ6PqDq2dprNobYneVeHHGbTiX19Jto9T94vqRtjBpW27kSqtusWPaGrMf2jE5xGKEe+XXZBAjcH0GLD5ntBDBHPth7+hBubEs8MY4KS6o0ttM0umbUP/qXv012p/6mn0vT9795q9WFOB3jMXOT6n7xIfV4fqMr0z3idoHxGXMdfbiXIUjNG5PmqbppdAX957TUacK+BNTWFOUOfM9osMEs/H06F0D4InWVfaeJfT1L/wDUGKhgdoqj8zDX1RNdphQ3t9b94sPqBxyJ4XYbKiD5NaF7x9RqX/Cvj/cvv1H7kn5ejTV7kB/3Opqip6A/+wK2oVer3i+ECt81iX1mp8HyPaLDBLPx9NdhqYOIH667ppKQvaM248zBESzJl7CzO6H1P3i/Y8Jt2WFD8wibR3gEuQGW4HHo0J+B/EO5hiPnGFi6roLtc5M1/wCpz5HtBGO2C9Yzqy8erR24Owyltr5jnL5EUcS0hZfeMbV9b94v2ASpyJRrW2jfEtV+Y9gAl10tfPPo8Jf9baZuCy5LLW/Tg0jg7m5MuGU57xhg4h7RRzDpzchE1FfSrCiWaJkG8zUMjWZT06XTG0784AhG0zEazAmp1HVO0dvsNF+zVQHqWWI1J4htcy5wveM270aazpWq8tXPIgyDEJM1rDtHCl+TBSp7TYBGfZNVqzZwsTXPqR0rPiX0srbvj0UVG+wIs6aUqEK8S78p1ZqLWY4z9lu8HrAzKqBjc00zLZUGWaocRjiWHLefxme7uRNwnh2qFidNo1aDky7U7faksb5MtO85lG/Md8S+/dwIxxKK9g3/ADK6TcMsY+hx2MdCnfy8L0+xOqe58r+ZquBx6FG44EepkODO3oaCZ9KKXOFlVYqG75jWLuBPaaZa6K9ijiapqmOO0ele+6ajBXd/EBBmYF4GZqrQwKCCaM84j2WYhez4EdHP5zpKOTLNUicLLLmfv5VJ1X8qV/TETEamu38hNdptPSPb3iLsUARjxL2mq7ejQ6fqNuJllSYziX/3D6CuZtm2bZtm2bZpK8DIi5Z2Cy3esq8TVNICT7u0VzjLy5FVN01RPI+JpU6imXHpLNA7FyDLq2V8xmwcLNE1SJuxzOta34rj/wAzqlPzMa534rEGjtuP6hmo01VNOR38jNOm1c+Wl99e2dOKdoOZrLN9v/iVPvQNLDLJquRNpm0zaZUz1tmW69hgLLC1jbsTaZtPpz6BV0dMP5mioXpdSY3942kc/hNG5avY3xLFE1NZscASpcWtPEvyGJRaaWyINcD+2fVVKgdpb4nsGVWde5+5AlP6nLRtXVV25l2vts4HEYluT5KNxxBwJmeH24crDYobaYyBhLl22HM8P1QA6Tf+pYY0d/eFnE4nE4nE4nE49TNtGZ9RFv55jeM7127YvjLpV0gINQw7SjXtWTui+KMpziN4g7HM+v8A9RfEPd2mubdZO0QzpdQY3YlOh2tudyZXRTQnMF/VTeJ/T/8ATNOqpGq1vY9hPFv6d8PNJNSbT/qX1dHKny06fu8rB8xHKNuETVKwzFtmvp3vuWdomscDDcxtWfgSpWZt7fesGVmxpptK97bRPpLR8TpNOm0FbH4gpcw0OIUKnBgqfuBLq7LMNiaw+3An9A106qu+lx7uMTxHT2V2PXXwwORKLdUP7qf/AKJZpHubN78fwIECLsXtPAv6g01ukSmxtrqMf/J4v45RXWQDmW2m5yzfMroLcmBdsPkyCKgEDkdp1s8NH2t8TpCCofYzM/YpyK7GH8TcZXkt5bjMmZMfvPDskkS3gzVUZsn9Lar/AIfxAW2fgeDPHbqb9a1lByDH/GZ4hhi0M8TThJiEQwz9v3VG44EbRuozCMcfYSxaNKzsM54har4WV2KnOIWQ/E4gar+JlP4hK/E8OsAOyWr8mWorw6dx2m0iV0tbwIfDyq8GDSN8xNKF5hXEzDDD5dx93TD3R39uJaqM3edAzoNOgZ9O0+nM+mM+naXUMdHtH8z6ewfETw69kLYjeHahQPbDorx+2fSXf9s+g1GM7Y1TIcGeHoTZuhpNilZ9O0VdgwZVUHGTEpCeRAjeWIRMTExO5CifTLPp1n06z6dZ9Os6CzoLOikK1iZrma4CkDIO0B3RqUmybJtE2TbMTE6u32wL1T3lOU7nM1F3G3+YWP1GwniaWlEXeByYeccTX1jp7/meH/3GEpqRV3Sz8jiMu4Sh9vtMOspHdo3iVAjeJr+0RvEHbsIdTa3zN7n5m5v5gvcfMS+tkJPeZZuwlGmZW3NMTE49PE2rOms2LNizYkwB2ljYHE2TbNsxMeddA5JmVrfmI6v+Jly/vllq9feDxKPFqU9pn/I6YDO+a3xbq+2scTQLkGydY9PzKKZqdJ013j0c+WPLQ7XXBECgf42IFyY1YUTVJubZNHpvpkl1y4ImowG4EMxiJXvbaIidH2CftmJiYniRw6/xBtMwJ7ZxMwwsBDew/DvKMmsb+8x/jV/kJYOIygvmESwTU4DQkLy0NkRjvDQJuuxL6+msHbyxL9ML1wZZpXr5gYibjN5m9jOlY8GjH7jNNp6y+FEx6OJxOJx5Z+xsm2bJtm2bZWPcJfwnESLQ9i5AlileDLaDfeqzX6UPT7fiKsPE0qb7t01g4ikYmRNwghXnMfS13dp9ANuINEo7zppVBWzz6bHMf9J9wgsyMwtmZmZmZmfLnz5nM2mYM5mDOfVphmwTU8LDhTKQhXmeIgcGUgdQzE+TGnhhHTDTVMuO0Q7piYnx5OxU7hFsDjIjNNP+vaSfiZ5jCagTSndUJiYE48szMzMzMzN0VhMwmZmfLExMTExNIcPxNQ/tikHkynUsg2kcTUWG05MTiyZn7jGlDslKgQMXBBlfE3TMXtDLO0VyjcQ1sZpKTUTn5h4jTUCaLlSJtM2mbJtMwZtm2bZiYmPRiYj3lGIxDq2744nX47Su4ucYmJtmjHvmq7RtzXgCG5A/TzzN62LlYB+oJgTsxEaaZV2BGl2ypeJV/M48hDLJ+7zZZ8S8cTQfkwmJiYmJibTNs2TbMTExMTExMeQA7enSflNR2lX96a0kag4nhrHJETkwx/7pjSj4mr/syr8R5iGWQ/l5mfEu7TQ/3TD6h5H7H//EADIRAAICAQMCBQQABQUBAQAAAAECAAMRBBIhEzEFECAiQRQwMlEVM0BhcSNCUoHwQ9H/2gAIAQIBAT8B8z/TDvGgjRe8+Pvj04/pR3jQQxe8+Pvj7ufujvG7QQxe/wDQD7GJtmIWAjEntPmKYqqy/wB5tmJtmJiYmMeaoWgrIhXM2GMsSs95n748lh9dj/AnczU6tjZ7DwImvcflzK9dWe4lV4btCfLMz5t51dvQeRB2/oB5JG88TExCIYx2Zb+0AJiaNz+XE6NdS47ykRRxzCPPEWP5q2O0VixnM5nMwYcffHknaN6j2neatttRicmUou6a1OmgYQHIUCVKVSH0LG9Fff8ApB5JH8x5sdqkxtZYG4M1DmygMYOJRqFB901mrFw2L2mnO6sN+otybcZ5PoMWNB5jvCYCYSZY744mmqv7ufsanUlDsTvKrd6ZaVWLbyI67e3oHknaP5jzcblIh4yD3llidAKPKtZbKGsXhRNPXhhmHg+ZixgYPMd40EaDvPj0OdozE8TQEh5Tb1RkTUW9FN0oTedzS6/f7E7TSIyCE59AhiRvXr9MQ3UWHiZiviK3uzKnDxU+YfMkAZMt8RNPCSvV2OmXMod2/IeYhghi9/TrKbbVxWZqPDtTRhzyJpbxXRlpcPq6wa45YeydTo9u801htr3H0jySN6+88SQLYCPJKi44iaehPzeVU0/DRfbx6NW+wD/uVrUX/wBYwsK3ZElfiJZdrR3WxFceQ7wwQxPy8z52W/7JrCSR+pXmvlYNRXbxaJ9Ap+ciCoUEIvrWN9jxGvcgb9eW44xBKWIlY3Yb0eLqDp1aKxXtKNm/dYZ0Oq29BgTSHK7fId4ZZatKF37RfFtO8ptSw+w+q5f901A3piIMJiPwZoyTwTFQ5y3rWNMesjIwZbpRn2x6isRDKa4nC+jxDLabH6gMoahTloNWpG0cCUcPx5CNNeOsnSWeE11L7W+BLvBjff1NM2P7TR6gWjpn8l7+nU6lafaYG3DMzxEp3GVVbB9gRvsvcVsMrZbe8FSiImYOPRYm9Cv7hG04PkJoQccy3IVSBGtebi3eBN0fWtUxFM8G1D7s2fM6ZGqexexh87bBUpYyxzY24yjkRq8KCJSgC5h+wIfWeIHZ32JNVW9FpV5pzzFGYP7eYGTiFFzhDmdJ/wBTxLQH+cn/AHFrYynTY5MqXnasevFIX9TUIFXmIk1eqQJ06zzNPV1XxKkC8mNf0uFiagP389dqOo2xewneabI4lXK8+gnAzFsVxkTv6BDMeeJiOwQZaXW9VtvxKqNQtbNX3+J/E+sf9fvKK9w3JK8iL7dRs/cKkTEsO08fqaGkowc/MtYCVsHyph0NJORxF0VY+Yz06NdwlviBb8OJdr0U5zuMs1Nt/ftMTQ1YXMJl1nvMa1icyvUWDsZdr7Ur/wAzsIolCyr8fRrtV0VxiV6t923Mo/AegHE3TdMzdN03zXOoC/3jKunCHUcCG9ScVmXeFdfWlQML3gboEBPidfjM0nu9575E1t3RYS7UbUBX5gfJlFw2zX+Mndsrmj1emSrqf7pZ4nY38tMf5/8AyWeLGke8yzxZ7PxEsuss/MxE5mMRF3tiVLtWHvNWu1s+ScnE1T7rMfqDmIsqEq/GZnE4l1a2LiafwhOS8qQVLtmRMj0YmJiYmJY/1N7Mp7cTX6lncVMT3ju9bnbKtahHv7zxEEMGriNZsGZpdStVGT3lpNmnrMsbGwfomJrGqbM/ig/4xBZb+Ii6OxvyaNp61/ZniAzewHxNu4YEppxO3lo69zZ8sTWV5XM6RK7op2tmXjbaZQ3xKxE7TdgBZzOZzMGYM5mJz6hzNkZOOIvguw5DQ+Do9oseGhT3l2iVwNst8LW0AExfDq1TZP4YMYzH8M9m3dE0PWrGf3Nf4YdON68iNS4bbieH3HoA4luoLLgDEsL2tNZTt1TJK6lr/wAxR1faYueoVPx5aOvYufJYy7hgxtMRGplukNybl/IRVKnBlLkd51v0JTk+4+eZmZmfLPqEyJqtSumTe0+rqOOZ1k/cFimdRRGvRRkmDUVmBgwyI1qDgmUMqZGZfT9RoHsX/wBiMcMtk0N9Omsaq08R30h/B5Z4zTpxtoXJj3NdabX7mV+7tFIp9zQDJJ/c02kJO55x8QeSKSeYTCoM6WDkR9Oln5ifRqOxi0KJj+g1RG6tD8mbR+pbhVzMCbRMCYEXtPEztUETR5YZMp8U/hyvpnXKnkf9xnU1CaxeV/xNP/NEK7WIgizTeHX6jk8CVeGVVD2941Lp5ARQInLgCHg/cZggyYutrY4gOefsahWv1aVr8czbZ+5fS9uFzFRweTOYVs+DMPFz8zxNW27xNIzZl+lXUjmWeF6heVGRHrdeHE0ulsZg/wASzRixyQ0Tw859zSmuvTnKjmVa1W/KKwbt5YX5E6FJn0yfBldCVvuzCdxz9zV/hET3SjISdcTridcTrifULPqFn1CwalF1oLfqDUVHsY/iFKuFzBr6CcEz6yj/AJT6qn/lPq6c/lFYOMieIkrVtldnSYOZ9QJpbA6zW3EWYj3F/IZggiEr2iah1i6ofMXUIfmG1CMZnWFNRXOTOuZ1zOuZ1zOs06zTrNOq0DOZh5bXeT7TFFoXGZZTqG+Yy21ynWXg4M3TdMzMz52KC27EUrWucS6ut8bVAlNAzuxAq/T7gOZqbndthPAgOJorDv2/E8V5pUy1y7sMjEoyK1z+pp7ek+Zq68tuHzPpbT2EXQ2mL4efkxdEo7wUVr8Tao+JgTYDLT0jiCxjHuUKVEz9jcZ1Gm9pvaGxoctKqwTzN03TPpu1GOB8SpmuXiOjJ+QlT5GJXU3Q2HvLvCrX9wn8P1BONs0fhPT91h5nitmHWj9QVJ1DnzFjDiVakMcH1hczWDptxNxmf6YnAzK9Q5ZszQWsBumr1P1Dyqs5zKSSvMEzntGfYNxmosFlm9plA54mZmZn1P09oJ7Su9bhlGmTPdOZiCNqK6/yaWajrcBYZmZ/pbuK2lNz88ygt0vdAYh5mnyVg93aCuOo2ETUOqpkyuxGtMHbzurW0YaWaeyj3LE8Q1CfMHit8Hid0+vvb5gGou75mn0mBzHH06ZxM/Yz9nM3TMzMzM1D4qJmmt3H3/uEhuR2jX1ocExGDciU39GktNFqSlvu+YzTOZ4kypXhppWTfxE5ExMR+8VuMSyhG/MT6WrbiJo6x3ldS/7BOqqRdTmVEX1bGhTacGY8sTExMTEx6dw+zia1+nQTNEwfhgO8HbAlFS2A5mlGx2T9Rz/piCfEE8YXNpUmadBxzKwAMDzs7wHiVjeMGNWUODFWag9CvA+YDEM0bTWrtvP3GBgEHnmZmZmZmZ4ljpYYTTrWuMAxR2xLaOdynBlFYq7T/wCfkfxgmqqS3UEtLa66iMcSs57edveLKYyBhzFdRNXYLFGIsQzSNzPEfzBmZkTMyJmZmZmZmZnywPQtQYZzBQO2Z0o9QUZz5ZnijAV8iUdMhe8pCrQTBS5TqfEKmtsNAfYZmd1EWa4Mz71/vKqnt75M2bOPN4spg/HybtBF4M0x5niIyqn15m6Z9efLPPp8U/ASn4i/jNIM6cZ/9zPEFXAOI/A8l/liLL/xM0P5iX/zD5vFlPeVfh6B3mn/ACniP8kf59A8z5D7H//EAFkQAAEDAgMEBAgICgUICQUAAAEAAgMEERIhMQUTIkEQUWFxFCAjMkJSgZEGMDNAYnKhsRUkUHSCkrKzwdI0Q2PC0TVTZHWi0+HwFkRUYGVzk5S0JoCDhPH/2gAIAQEABj8C/wDvjxPcGjtVmB0ncv6I631lvI/d1f8Adi7nAInFwcgg0ke9Wjbl33XkpC1ZuD+8LDJB7iuB2Y1B1/7i6rXxdVqtVqtVqtVqsjiPYuF2Adi4nkntXEvPc3uXk6kkdq+UarZK9k2YR4HM9K6DufNarVarVarX4wvW8btDZdjn8rJ/Im10FVQRMLnswyveHcLi31exP+DsPg8s8UYklla87pgOlyRf7E+pEtDU4RfdxSuxHuu0KPalDVUMUchc3DM94eC1xBuA3sUta99HVNiGJzIJHF9u4tCp9p01ds1sVVE2VgfI+9iL58CNB4fs3eNjEvyj7Wvb1OxDZW1JYJJjEJbwuJFjfrA6lVQbHqKWM0mHHv3OHnX0sD1LeS7R2YRia3KWTmbep2qFj6/Zl537ttpJNbE+p2L/ACjsv/1ZP5E+jFTs/gY15k3rsOd8vNvfLqRaNo7Lu3Xysn8il2zU1dBuIGOe5u8fiy/RQeoNm0bmNlqHYWl54V/lHZf/AKsn8i3P4R2Ziw4vlZP5EX+GbNktnhbK+597FWUlDJTU8tAQ2YTuIsbkWyB9Up21No1VFJC1waRC9xOfe0KbbEtbs4wQQmYhsj8VrX9VS7YqKiilhhaHObE95db2tC/Cm0auhfCHNbaJ7y7PvaFT0sUjI31L2xtc++EE9dlR08lXs9xrptxHhkfYHCXZ8PU0qnZtarpJHVN8DYXOJy1ObR1rEvwhsyroY4sZZaV7w7LuaU6R20dl2aL/ACsn8iDhtHZdjn8rJ/Io5dq7iSKY4WyQvJGLqzAQeNobLAOdt7J/Iq7Y1PU0TKjZ2Hel73YTfq4VPsptds7fU8UczjvH4bPLrej9Eqt2Q2ooWTUIjc9z3vwvD72w8PYU90dfs3ycjozeR+o/QU+ydoNaKinNnYTcaX+74nRaLTo0Wi0Wi06NFotFidkAsMeTfv6MkynYDg1kd1NV4o3Qn6BWKkqmSDqdkV5SkkI628X3KzwR3jowi5WMU7rfSNlKx4s5pzBWi0Wi0Wi0Wi0Wi0WnxEIPpAD7E2lHW93+1f8AitsvtnvIhf8AQW0N7I52Crc1t+QwtyVQBy2hW/v3qOWpkdI8skBc43JzK2dFTvwSv2cxrHXtY4FX0Pwi2qa6fwSGRr9++WzS54td/cmfmTPvctt/Vg/vqk23Ftks2SKqkjfSiokFyZWjzPN5oVNHUSwTMqGYZI3lrh7QqKonqJJJn0Yc6RziXE21uq2faNbPVSCqwh80hebYRlcr4U0Ds2trnSjvL3D+AUkEWIb+Zkd2/WufuTO5eE08z4pY82vY7C4dxVLUVtVNUTOdLeSV5c48Z5lfCBtdX1FSIZGtj3spfgGJ+l9FW1NTUgwSFro2l3yYDc+5fCDalKbwz7RIY7k4NaM1WSNP9U2f9V1/4Kv/ANXn9lSUEwuyog3bvaEQdRND96ZJGSHMzBGoWy9rOAxYWzdzsJB+8p8DSd3QMEQ6sWp+8e5WWztnx7RqW0kj5C6ASu3Z4HejoqF2z6+opi+ZzX7mUsxDDzshDRT7mU7sh97WsRf7FszZL3g1FXtCnwM52DsyoKb/ADjXH3W/xW33XyqaenmH2j+C2r+Y0n7Uql2i0cU8LInfol1v2ivhT9aNbU74v3Tfm3gzTk3zl2nILAEYRqVG8t8tON48/cOnMK0sDH/WasXgMXuXkYWM7grL8J0vCdJP8VfRw1HzKhd/bRt94shD6tOXe9w/wW2afEN4HQvt2Fn/AAVc6YWE1SZGZ+jhCmkjN2vrqwgjn5d6bTVQwyMY8uF9LklbPZTX3p2awMsbHFgyVbJ8Kt+ZpoGCN01SJiWhx53PWm7V2bs/e0+4jhx71jePEcrE35hbTO2qLwd1QyIs8o117F1/NJ61s+gFfU+COno3GDend33g9HRH/wA+NbP/ADEfsqt/O/7jV8I6yrpZYX1O0H4cbSMUdyQR2cSr8FyWsdK3D1xuv/dTblPseSo/rzfvHL4S/wDnN/bkW1InyOLGOiwNJybwclV4IhG2SrnfYD6SnpNm8VJNTSRM87SxHPNV3+rj+wqJzjZskjIj7Rl9tkNn7Oh3tRLOzAzEBe2epy5J2y9rU25nDMWHG12XsUbSfNmlt+stpyPOZq5sz9crVbKI9aT925bP/OHfsreQSOY8bqxabHzgtmY4g4xVgeDbzbNcqQTn8bc2QQedpli7OrVSVoGc1E1h/Ref5ltX8xpP2pVO2/FBO+J38PsIXwmq300rYJXsDJCw4XEa2PNbUPbF+6b81c/1RdFx1cUOpqDu1Rw6mSQD3lBo0At03KLQ/G/qapQ9nkuR6uh8LHcTEQ4XBFiE6nd5od72q4+YGMpscu2iWMe2RvkIxYtNx6KNUNt+Uc0MJ8Hi0/VX4ddth7a/Dg3jWtbdvUQBYp9LVfCF27eLOwRsYfe0ApmzdkbZENPHfCzcxutc3OZbdPpa34QHdSjC4NijYSO9rbqGioduBkEDBHG3cRGzRpq1b78PjeWw38Hi0/VWGfbwc0ODv6PFqDceisY+EAxWt/R4tP1VHtes2iJK6EsLJMDRYtNxkBZGi2vtTf09w7DuY25+wKPZ9LtsR00TBG1m4iNm+1qf+A9qmnEvntwtcD7HAo//AFAM9fxeH+VCkG3HNpXOcX/i8TzxG7tR2nK6wN2vtL/2DP8AfLCdr7R9tCz/AHqZQ7K2wIaZly1m5jda5ucy26qajZO1BDLVnFOd0x2I59Yy1Kkmbt4B81sZ8Hizt+irfh8Bpv8A9Xh/lUez6DbYjgiGFrNxEbD2tUmzqrbYdTSx7pzNxELt6smplPV7cD2MeyRo3EYs5pu05N6wqWbbm1JKqjheXujigiDjwkDkOtT7VfDumOAZGzmGjrQo9lbV3FOCXBu5jdr2kKWbaO0alk8ry87mma/ETqfPbZf5Y2l/7Bn++UG0Ng7Tn8JixWfNTMbhytpicDqUyDbu0xOyN2Jg3TG2P6IC3Em3Q6PLLweLl+ihfb4OE3H4tF/KoNoTbbDqilD2xO3EfCHWvlhtyC3n4fGIC1/BotP1VJXx7a/GJmNje7cRZtbe3o/SKqJ6XbGB9XJvZjuIzidYC/m9QCcIttYcbi934vFqf0VJXV07pqiY4nvdqT81m+r0EoKH6F3/AGdGOofYdyMdDTlx6z/gruinwHswhfjRcT6qDWNwt6grFeGUZs7UtCEU3C/71DWM+of4KJ30fmcuyK6oqIomUzprwuANw5o5g9ao/AtobRImqmRS43sPAb6cOqr9p0+0dpukpaeSZofKyxLW3z4FFV/CDa9VHNI0OIhe1jWX5Zg3Wz30W0KmWhqauKmnDy3eR43WuDa32Jok2xtRpkOFt54+I9Q4FsuhbtOqfs/aD3xuzbvWOEbnDO1uXUhJtD4S1lLj83f1cLMXvaqbbcu0NpCWWkbUOaJGYcWG/qre3zVHtis2ntGIz0zJ5LSsDW3bc6t0VHLR7WrHUskzY5g97S7C7QtIbbW3JNa/bG1GuebNBnj4u7gTdjVO0qt1DPSPnic0tEgc1zQQcrekpHVPwjqoZ9258Uc1XC0vt2Yc0yrn2rtOMFgc4maMAf7CgrNnbTrHw7+KOdkmEuwveG3aQO3qTq7ZdbXyVRliijbLIzCS94byaOtRna+3K3fuyJjexjMXULgqMbU+EMkOypmOAkkmZG9sotYYiLG4xcuSNZJtvaTYGtxmU1EQaG9d8GinqKbb1ZPSNdhifDPG6+WfFhspanZu2tqSsjkdFfG0cQ72Jm2nVta+twxXY57cGNxF8sN+vmmlUtFtWt8Eo5S7ezbxrMPCbZuy1shVw7a2jJC4YhI2oiLSOu+BS/g/b1bVQx4eOGpieMXVcN7lL+DdtV++ZdoLpGPa13aA0KtftisrIpaOqdTWge0DhAvq0qgmoa2vkFTWsp5N49ps13MWahWwbQ2k5xqIIrPkZaz5GtPo9RUdVQV+0XnwiJkoe9h8m54DiOHtVH4dtnakcdXNuAcbTxnQZMVLX7Pr6qVss+5cyctPIm+QHUg75vL3dBb1oKpqzpGzD7//AOdGDrQe9m7Dv1inVNXiwj6RuSsMEckJ9HHmCmyWtcKy3j2Oz9i3kV2PHNuaMFXDfA4eUGih+r8zqfzF/wC2xFrv6iUH7L/xW2Hf6FP+yV7YP22qk/1lRfv2rZH5+z9ly+Dv57J/8eRU4+EW1/AREXGLy7I8Zt9IZqi/1Y392itn0mPBvtnMjxWva7FszZZqBvDPBHECc34T/gFQzVMlpaaUyQDFbE7AR7ciVSQPpXxxxbNnLJCRaS74727rBP2htTa3g9dS0khpYd+xm9Oo4SLnPqVcRr4Af2V+nB+21Uv+saP981UtbTUMlZLDWRObBH50h6tCoKbaXwRrNlMjqBIJZsVnHC7hzYOv7FWD/wAMd+7TP/Nl+9babbyf4Qdbvtn/AAWz8LfJCsGL9U2TbdScSFQD/QR+yq/86/uhVs9CHVEkkrpZGNeL47Dh7NAqjaM0O5knqaqeRh9E43ZfYqaoYMRbJST/AO22/wBib+eUn79idBJo8LYH+tolQfn7f2Hpvd83l7unJPm5yyn7Ohjjyuh2KnkHmsm4vdkji1uo3O1soI3jIHF7lHFSvLHTuwl41ATZoHuydci+Tu9OfTtsyoLHNHeU2MeiLfM6h3+gv/bYtoxdRjf72/8ABVtQDi32zZZL9d2EqJ1HVtwvEZdbMscCDYj2LZWx9811VU7SpTuwc2tEoNz7lSPMmHwWcT2t52RFvtXwdoBK0z+ESy4OYbuHi/2qmi/CXgngzi6+53mK/tCptk77zaQU+8w/Rteylov+k2UbWuv4Hre/0+xQ0OLFu6DdXtrZllsh9v67+6V8Hvz5/wD8eVbNP+gVf7cKirvwr4L4LE5uHcY8XP1gjsuV+BtTTiNxtyso4JJG456mnijbfNx3jUKx98NPV0srrdQlaVR1dJWNfFHMyoa5mYdbkqXYtPM2Sojm30gab4BhIz/WVa3n+DH/ALteCtkG9imeHt5i6q4ah0bpZaqWdzmE2N9NeyyNazImljrBcZ8NnH+KaHHNOa0rZ7f9Cb+yq6//AGr+4Fta/OtJ/wBhqMhbfAJJbe0uTawQ7s1tK2YMvfCSL2umAf8AbKT9+xbJB82qqTTn2xuI+1q2PBSPiYaeubUOMhPmtGenNbPpt43eGtD8N87Bjs/tCaOz5vMPolMqtoVbaVkmbW+kVv6TacptqLA3TYC8vaRcEqEN63ff0B7dQrjXmE+Cdocx4zX9Ie9nq2zTIyM7XKp6g5NvY+1buJw3sZxsv9y3Xg0jXXtmMh7VBGcxFh+z5pdw6L9GGyusKurqyxLdEeNdXWENWPo1TZdxHMG+g/FY+4gqw+DWzv16n/ep0f4AoYsQtia+e47c5LJ1U/hyyW6miw2WN/R5yuDfpxAfOGRO0cc0+rnbi4sLAeQCxx5X1CpX8yHJl/Xd9/icT3BB/nEdfRpmFuXcRbovkHI4tbfk25HA3VeDw5Nat05ocO1COJqfVT8T7I5+UKMR+dxu+knX0aSUOCzOtQAHzWkJn13ff41+jeR6cx0WR/JbYWDNyFNF53MrtKsNSt7LqjC/zDyXkONp+xY3+cfnd1f122KY1uuntVO1k+7wk43WuXXTKSJznBvN2vjAFccgWmNOtHgaNOi/xWZWT2+/5/dy/CDjcu0TnkqzBkruzcszksLfnxp3HI5hXj55oX8fyL7LyrXLzSu3mrfE8GaZTGpEePnZMMLJKuZxzucgrkQQ9mEFXkZG9vrNau0a/PLrePjLsWTQmUpfc+cUKaLnqvpolxVqdlmesVic0OA1w/Pg9uoWCTJ1tEMJ+LurePvHeZ6I9ZCqrriP0Wda8hAxncFdOmkLsF8mt1K8HZLC2T1DJdyFQ1tmOyIGiDhz+bhrRdx0Cu4j6qxjXmOg1FS3yWgvzTn043kHZ6K3bjvGdR5IyMkDpnajmFiJWJ2UDNT1rDBbC3JYToVJGNAfnx8HkLJW5scOtCmrJi7gcLHr8a80oauEuPc1Z7z9RXs/3LhGXxFm6uOFNp3C7IybjsC3k4L3H0RyTXVFo8WgC8JpyHAqNrPOBOP3p9VHVANxk4i7VNhljD3jUnmsP9VPmO/5uJYtWricUXyHzuSbE0cPpFNZG2zQEc1ij8k8+5XcHN6nt0TYa08PNwQjongstqEWPxySONzh5I7iTP1TqsL8pSMnJ0btWm3z6l2jGOB78L+8+Jdfi0Ze8/YsckN3dbjdeYvNRBavMcM9LJuLx4B9O6dwOwOu7FbLNbsNCaajHwi2RUzKduGC4AHaiIzaOQ39q4JGWV3vxOVm/KM4mIH5vvBC3F19HkX2x5FXfUmQEc05r9R0YHtDmnkUZKI4D6h0WFwdG5PxC73c0CDk3NXunPPM/PrOQPTYqwbrmtPEvbNX8dz/APNusopHa4bH2Lyea/GJMLOoardRNwtCFPbG/n2LA3VZrJG3mv4h863T88BtdWb6uaAVugsniDh2rc7yTdHt0RbEMvyDuifmMjTo/MKPvPRqjg15J09XVZuNzhWFkoMnZxFbpsgxeqcig5CT1Df2fEHE6zG6rzT+svJSkd683F3KxHxlwsgrN4nnNOlkPE4+K50bC5rjyX4zy06/yDdpzWF+oQzWvx3B8o3RMadWuIPRZCPEMR5LDtDaEs8v+YiNvu/xWDZuy44m9pzUW1Nowbnd/JtHp/8ABWKLORRYeXjslf8A1/EO5YQeFqbOCc14PKbn0SgyZgIK8IpI8LQcLmj7/iwOtEWy8XVa/kTesWazK18TX4qen6n4/f0aKSpja5ssos4h5Rld4Rc5nj1WDZ2yImEem4XKxzOJcek93i6JrRC8MJ4nkZAJsMLA2OHJp526H01tAQsbXkXNxbknzeEPc6N3E0nVAPcMD2W7UW9R+JbBHq5GOCEYrZu5otI8XP8AIoush0WJ8XE4WHxLOqUYPibN87ASPYsLWknsWLwYsb1v4R9qtVbYgxc2QgyH7F5DZVVP9KZ4jb/igIG0tIP7OPE73lY6mpnmP035e7Rc0MKc8yhrSboCKmDyFOxwticclI0+iV3/ABFghK5vlX5u7Ai1p1TiejCwE9Gv5GZ41grkXd8UJG6sOIJr2nIi/i5lXDuiCqaxr7OIs7TMLDHNFTD+wjAPvK/GpZJz/aPLlaJjQOwdFz0WGqG88/7ujcx+edexY+T80XPu0yG47k197jT4jwmQcEWnaejLgf2I7xvD1hFMsPSvdPZ1O/IzpnQuyGVwqdz/ADjGCfGxn4w0bzkeJn+C16dVhx3ssIPQyK+fnIPBWqsSu1XcskaqTRuTe/oMruWixON3OQlrWCWZ3mR81+KNjp29TRdBklDvY3Z4rYVifA5p6lxNI8VsUYu5xsEynZy17+jXoLsAVmgBOPX+RMMUZcexGaqYA4eaCpaeme1giAx9ZXgdW7zPNf2LEwgg8x4thy8cPkzcdAuIAK9wrXXFd3tUc8DMDozyQY88Y+3oyK1WvR1u5BF7zclOZIbcwhHHdzj1BbyY2PV0ZLFOcDermhGzIN6N2Dws+9OrJvNYLhOq5Tm82aOoKOEi7BxO7la2SuMwrWurty8Q1sgz0b4/s/IZFPEXYdT1IUsjbPPnHrK3gF2lP3EvsPUjOJTKHZEgad63kE2XNpVpGFp7MwuB4PRc8kTe2eIoHr8Vo9qZANGsxK0jmt70YXej0uZ1hBzTYhYZRftC+UsvlW+9fKX7laJlu0rE43K4Yyg+d4hb9q8kzi5uOqs1Xk4G9uq4G59Z6XP9ywX7SmUzP6w59wTQqmT1Wtb0b+oyafR61hjiaPYrPha72K+7LD9EryFV+uE3fhuA8wUxg6vEPSPq/kIytc1jO3mhRP8AOJ16yhOzQ/evAbeUcM3HQJlQ+Yus7PuUMbeF0p4nDqV2tHe3/BZEEnSxz9yzzVnRm/YuFiseYz7FjmDrt6uSE8TrsPib8uGXCAnTx/5jDdbsv4jmUZJDxc+iy4QSnMI0PTwxlcRAXES5CesZlyjGp70ZI47XOV87LCxpcexXmdgHVzXAzPrPiiPqzWM6uWH/ADbQF+iq1w9Fzf4riHAzM+JdX1efNCDpnezq8U9I+r+QczZUtONNFjZlcXCFHbHMWXJOl1L4Zrhuwt5FYgmOnYbwMs5w606pxggaWQqXSZlyMuBp67IyDkr4dE0n5R+otfCFA5uWJgvbnqpYMrPZi9oV2m/R1AZkrG3LNb22qLkHnuKyXhdWwgHzWc0OHN2YaEXu1d0XipnHtsryBrPrOXE8exXbHc9ZWTLdrleVxcsg1oW8IOHS6Dg4FrhcW8QuOgXeVZTn6VkO4raMJ9IRuH2ov9c36Si95ybmjM/n9g6AfEPSPq/kGLA0Ou7DZRbx5fuMmdqYHU1nW9ZRyse0Etyuq2YzCSeJtmRgWz9qLXCxGRCkbUPwslbqetYT5KjeN2SGAnvTPBp8Qx2uNPcsNTFl1hHBfAcwgGMLpB7gnPkDuBt+Hl2qDP0LJnaCPNuv+c0HN5p7h/WOw+xX5IM6lji84IskicPYm1dSLvObWn0VxALeU9ji5LFWVH6Mef2q1JQXPWc1pgHuV55blZR3WQDUTe9uabKA4Nlu2Ph848tVUPkD93TXzsMOQ6zmhHMZovLiYvJzF25/amx4sWBuG/Xr4mAHifkjIefRN9ZNPanMv8rHZQ/V8QtHpOsr9DetuXiHoCb9X8gvva4GSkf6nCFJLOTlp1XTQyxAVaeKwc1mF+rSBoqio37mslF2NHouRpapv1XcnDo2ftB0Lo3uIZJIzR5HX2r+kSIOimdcnD3XVt65VEsT+JlPezj5wvmoadovhGijOA2Ivwaq41GYW7Ds3DEAoWDrUWBvE0XcEAxwbK3IsdldcdPJ+qvkX/qrhp3+5cQDe8ryknuC8zF3rWNq+VCIjdfDqnMa4NIF1HPvXNa0x3GHFcu+5Nmle0wjf2y04uZVJFm90Ba7LS47U6dsYa5+Z9JXeS49vi7tvocKDerof9KxXdmqee+Qfn3FRHst4hc3VhBQPRgJ4X/f4/cPyC2ZkhZJrdbupYQTni61MMjmU2TCWWzJYbZKoZJVRGbeuc7izwjIE+5Y4ZWvbpdpujBVMF/QfzaUA2rmD+ZVXs+qqTu8QliNrsd2dhXyrUCJW+cF8oFUMmvicAGObyzTatoJkaLaJlVvt0YRe6tDH+kU6SQ3cCRdQu+k3o4mgrhYAsLwq2gqZS80z+EnqQaH4iTYINpYcs79lk6eWRxcW34RorN3t93r23V5ovVvc6o7oC7synbsNcx3C7rGZTXkYcDQ3M3vbQ20WfF3rysjWq0bXOXydln0ukPohGR3f0xT/onot1JoLuJuqk3B48OSMVWcR5OPQWO0cLFTUshvgkJHcendSHiH2+Ldez55dxVt4F8oF8oFdrwt1vRcCyYJHDzVPDHK3DrYp73YQY23te+LsUhZM4CTXPUI+A1jmA6t1CZJLtB4waYclHPvhmwEqeNj45AW2c0/wXygQZvA5xzPU1ZyN9iDw/RDyzVk8dR7UGtfmAnknVxUd5RcBv2KzZAr9NbDyqIMQ+z/AIoYpG4GOuGByGFsmRvqnhlwGagdq8nLiI1JOi4Rf7Ai5x93RiqJM+TRqV+LsFNH2+cVje8PPahBMN286dRWiaz6PS2EHzsyrn0ul8XO2XerHUdG6ceGRXuhYC/WtVqoqsaHhd2oPYbg6dGSwy59q4T0ZlWGnz3Z1DM3FFUVUUcjb2u0uAKFN+Bnh72F4PhMvK30u1VP4SopKt9LNKN4ZntcWg5ZBwF7Ks2hS7DnbTxz7tjZZ5A4cDSdH9qp9mfBiCegp5ZGUrt8S4iQvsXecctOai2bJQTyVD4XP3xqJLm1hfI2vn1LabtsyzVkFJK6OKPGWcGEOucNuLPuWyq+ggkZSVMrY5qZ0z7OaWuIN74r3tzUtCzZksUu6xbxtTJw3uLi7tcuYUVRtLZZqJmeTkkE0jcZxYb2xZKCj8Bc6jqKGaTcGZ9mvY+MXve/pda/6KU+wKhs9OC+Zzp5MDhgBFjjvzC2f8GNlU+6o52xOkj3rzcYjjzJv5oVTtF+x5C2kZvpMNRKSWjM2u/qQ+FB2BUeC7gVGHwiTeYe7eW+1fhWg2e+CWqixwvfNISzEeEkYrKDZs9BNNUSROdvXTyXOG1zkbel1LbNBXQuq5KSsMUMzpHtIaYmObcNNssS2Q12zXxS1EjBOWzyZ2YXEZnnZTfBp2wS18dK2qa7wubjzseeVsvep6+n2fas3uCN5mkNrv6sXqqgpNrM3lJNLu5BcjzshmM9bKqnm2WfBo4g5o8Ily1xel3J/wAKtl7LloKhsTnt/GXyWLXW9I2tl1Lw51zgGY7UXYcD26tvdChfNaU9i2fU8pAYj/z7U6PE3XIYLriDP1bWU/pHAHd6s76xRazDfnduid3rg892idLNxuGl+vosVdRVc3oXa89yfKNCcu7ouUXDzf4eKayFvC7zx1HoDhyQY88QQZj4jyWq1To+YzCLdWHksTDfxNPn+x/z6D9sKL83f+01bSkewPDZ5SWnnktq7Qo9mRUEMtbw00dsLLRMHIDv05rZ9dTbGi2dHHUtp3Rw2s5+MjHoOv7FRQ/hTaVDgppnY6KfdOPEzImy2rQtqqmq3Usjd9UyY5X8A1PNbGBb/XQ+zhU+zn3EZgBxMcWuzuNRpooWRuMu4cY8UmZd5S1z2qkqg+QmbZtQC0vJaLSRaDlqn7Ii2JBDU0zC6StbbHMDG3I5X59fJUDr/wBHod6f9sfxVfHIW4ahtmfqWQY9pBGzGgg9y2Zlf8Xg+8KiNsvBp8/0o18I53Dhjrg4+yniWy7aeFH909VFWPMg2W1p73Py+4p1XHid4FUtksO8sP3rHCSx7DdpbkQU/acLbGupoQcXJslr/YVIP7Go/euUlMTk117Ld+hO0p9XHlJfE5Uu0dZIXNcT2jIrGDYPAePajmxOE82T7M7kRcvJ1LlwA2+xFuK5Qd1KRh7+nAoNljKWTjl7L526fBIc3u87sCsNfFscwVjpZMF/ROi8lu3/AKSwS4Y7HPO6uDjf6x6Mis13q7XWXFmtejRcSy+e09fTtaZaWVszA7S7TfNW/B2y/wD0pP506NtPQTGSR0jnyRuvcnscE9/gGzPKni8nJ/OjW4hFPvDOCPRde+SNNj2fiDMO/wB0d5f1tcN/ZZVFTTVsNT4W4yzMqG3aZD6WViqKunNGPA37yOBsZ3eOxGI54tHdaNVHT7IJLQw+Tk0H6favAmx7Kw4sXyb/AFr+uodryUmyy+GKSBuFj8NnlpN+P6AUczdl7OO5OMWiktoR6/amudRbIFs/k5P51VVrafZbjMWueN2/KwtlxqXYk1Ps5tPLGYyWsfiA/WTfg5HHQtpxD4OJA1+8AtrfFr7E2nLdnSlrcO9fE7Ee3J1vsVe0GkqvDpnSTvna4vu5oGViBbJUsRhoGGlka9j2xuubZZ3dzCNczZmxt9K3A54gfiIGlzjTIKujo5KZ1QZZS2J2MBz8Rw8dsuSlrXRbmPC2KFh87D29uaZ8GZaekFJHHHGHNY7HZlrelbl1I7C8C2fSUb24PxeEt4erWy3XKVn2qCsbrE9OYdHKt2TKfNd96jgqrh8Iwh7cw4LhqrfoFYZK+MH7Vjw4z29NlvISBK3S/MLDUQPYe0LBTQSSO7GoVu0bGQZsj1AParlY3uDQOZWGlGFvrn+Cy9p6/iHd6efpH8m0jC4mOaWNj231Bco4X7GfilBI/GZeX6a2nBX0b6lsFT5EuneC1hjacPCRzJW02UmxZ201FHCwMlmeDvMUmI5P0yb7kKPYmzauGGhnfHXNc8neBrgOG7z1O6k74UfgOp8HbC6ctNRJvLDsx2+1Q7Z/As25n4mh1RLisTl6a2Vs6lhf+D6qKZ89OZX5YByN76uHNCt2bQOie2qhY87+Q3a6QNIzd2qihGyjhqHPD/xmXPhv6yrxLsxzowGyQjwiTgGHMed1i/tWy9tbS2S6slqvB9691TIy29Iz4TbK/wBi3n4I8ju9PCJdf1kdnV1CZdnVUkraZuNzcPNtze+gt7VtTatXsd0kdPeWJvhEgs0MHCOLrvr1qn+EuydnvoZpWwy4RO+QWfbhOLvTXPe43HWuBgGXQcI4mqlIPFjUrTyCp5vWZb3ZLDyqIz/z9nTHJ1tUb+to8fNbuF28d18gt6+be/cPiu/NE/k2h/OYvvCo/qyfwW1z/bt/dNW3qii2RDs5jGwRGOK1nODpeLIDVVwpNhwUPgUs8Uskdr1DsXnGwHV26qYf+HTfcVsyZgBIhZr3qDagklP4jKwtLiWjiZp1Ktiks44nStt1YsQWy/ryfuyqjDqy7D7lsaiz/GGUEWXaWhGjxZujPu0RDZLzbNrNNMWB3/BMiazKsnYx3Zbi/uqg/N6T+6mIYnDTowH0kJMA69ERGSMetkynHnMuVTT4cIjPTC/qJCiPVl4t1hjO9f2ae9Wkfhb6rdOi7SQexWfZ47dVxExntV2OB7vHkd1Nsr/Or/Mg3rUT3Bj3QybxhPYeawil2Vbtik/nVVKPAJ31c2+dvWO4cgMLbOGVgpKgU2y2vcxrD5N9rAn6faquprZI2yVr3yvw6Xcb5J/wcpzQGjdC6DEWux4T+lb7FBsWnptmyU0LQxjnMeXG36S33gOysWHD8lJ/OpKaKi2Y7wiRzzeN+rv01A80+yyYbubaOTmLeuqyVsOz3eGSbx4MclmnAG8PF9FU2yHU2zKqKkw7o1EBJGE8Ojhom1XguzcTYzHbdvtmR9PsQ2I+jjinmldLUv8ANjHHiAZmT71TwbSh2buqSZtQA2N1nEDR13ZjNDYMkNBS0UZbZtNEW5N0GZNh3K2NxsetNLWAJ8obwsVxqFx8L/vV+jEBn0l3qEFPafXy6buNgsMDMR6zkFwVX/49GrBUxFh7fGuDbuXHJ7xdZYHdzlxMePYvlQvlG+9Ab1uvWjBGbi93FDu+dZ/Mm+9VtJtelM7IImOYN45tiSfVIVfUbKopKWppmyYH7954m95OSG1a/YM8jXYW+SnkJue94VH8JtqbGmlJpoHzGKeTE5z8OdsYGpU9BVU8j6DcSzQxGRzS0Y24bkHqPWqh9DRTU76WQYiKiQ4rWJGbjkQVHBJsZ5fK1zgfCZeVvp9q2vTbTpH1poq4xRyOlew7vdscBwkD0lU12z9gTxwwvEYEs8gde1zo8qi2ps2ilgBqqZrmb553jJJWtINyba8lQUlLTvpoiJJpw2Z7jI1tuHiOWblXQ7LpJqOppiWCUSvdZ+EHRzjcZr8M0uwJ2xjECJKiQO4ddHqs+FtJsCd8DGSSxwy1MjHcA0yceY7Vs7aNJsxzYZwJZB4RLxMLDlr129y2xsZnwdMf4MMYEwrJTjxDqvlayraJjnOZTzvjBdrYGyZd/PkhSNbgB1J1Ku7IKwW8jIe31XICphfEezMICOrjJPK9isivXfyaEH1Zu0HKMeaP8VZEse4dxVt6VxuJ7+nBLG146iFio5TGfVOYXloTb1m5hZHxciuGQrN1+9ZsZ+qvMb7k1vrfO9fE16NVqtejVarVarVa9GqtE+zrZLamNmEiFn3lbX//AGP4ptTXbHh2jGSxm6ltYEjzswVQV1bsuLaEUdHS3p5bYXXwjmD36KpmZAIWyUcr2xDRgMjMlN8FKbZEbS+ohjfUmTzg/DfhtrY21UNNYYZGPJPPK3+K+EFM2SWVrNpON5nl7s4ozYk5lV9bs/Y0Gy4t81m4hthvh1yAVD+dUP8A8iNUzOboJfvYtsVzvhBtyiAn+SpKvdxm0Tc7WX6Uyq/zar+9y2RSz8LzTxtsfWw3Xwpjde0pgmaSb3DsR/xW1A4f9al/bKJa0AjNCQjpIHWOjTKJuJXstFp0aLTxyTCGu625LyMt+xy44T3+M1r7WPXosD2sx4srLeW4WfNc+jL5tHfrVTW7IgppHVADHb5rjp3EKeglhoads7cDnwxuD7c7XcVuRs/ZeQt8lJ/Om7BrYKFtKd227GPx8JBHpdiO09kNgfK+IxETNc4WJB5EdSl27UxxeF44pcLGOwXba2WvJNmGztn3jBaPISc/0+xVb4NnUJdWy+ESYoX5HC1uXFpwhOmGytnYngA+Sfy/T7VTwVNLQxNZOye0cbuMsOIA3ccrgaKmqo46KGWlJI3MZ4wdWuuTknUDvA6Rj8pHU8bsRbbTMm3szQ2PRUtC+AFxxSxPxZ/pBO2GKOiqqN+LhqYS8WOoyIuFT/iGzW+DvxMtDJ1Eev2p8rdl7IbNIAx8ggfiIGmePlc+9OqJ3F8kxc55tq45rhhPtyRj4Bhy6S3onkPNwC0Wnx3lImn2LhxN9q8nOPaFlgPtXyP2r5G3tWKZzQO9YW9fzbXoyK1Wq1WfRl8eZmsxYM7IYoTw5nNfJuQkMd87lMaIAMwr+Fgd0YRk8NkxOyOQUXg9e+9jiDuaa/wmztL2QvO8plOxzi555nRbqmbitbE4+l2lYWcfrXGFgVsXaSHKSIDEwcJPWnQP5adyx88lwdeSBshi/rBn7E8Dv6cY0cpWfS8e73tb3leU2hD3B11wySSfVYvIUZP1nLycMTftX9It3NCzq5Pev6XJ+ssql3tXFgf3hBssDRfniW8jlY4dYKsHj39Fyei3b811+cYfaUb88yi+2gugTzQ71qnSE+aE6V5zcgLc1y15Kqm9Jsdh7UcPpuI9yYwyDC9x+wIASW3uIHsARaD/AFRcf4Jg54BdNTnMcBY9SAFQ0WHqLCav5NnqDmnlz8Wdr9JY7mt3JkHLE51gsOOSS3qtVo6GZ/eQF+L7Oib9dxK4ZIY/qx/4ryu05u5rsP3K8kz3d5v4+q1WnQyO5wu1VwSsujiKt8+z+Ps2NxyQcIWAO6yiySTllZW6ujJOaOY6NOaLbWz0VpPk5RhciBpqpGFrgPOHepZsOWDA0uy706eV/khxPcfTI0A7E+pcNTl3JrRrknYnDMrORvvUxEovYWsr+JaRt1unPLh2o8JLORWIustVqtVqtVzXmrTx/wC1PWuS1/IOXx7HdpTo/UcQg7qKKsmR31IF03wZxPouzvnZb9mV9VbDz0VsFrrMrAfKMHIqxE7D2FB7KeSU8t45Y535cmjQdADgiQxDgb7lLYDUfENqIrWYMx4+i06dejRZlMDNcQ/KVmTOZ3KZvhMmTk4mR59qeAO1YwMhxdA3shdbrQjMls7q+/aXerzWa1RRKserpY95tjzRGMaIcV07DE43t47Y/WKja6+6I+1ZOWvRqtV5y85a9GSyHidq3k8d4uQcc1wafk9uLS+axsINypzy4fuTu5W+irBpe1ugH3q81RG0+qDiK8i1zu0rif7k0rJZ9AssR6BG52WvemWGiOSabcl3jx2OPIrdTxYmn7EZKM71nUMnLBI2RhHIrznLzz7l5/2LzyvPPuXnlalc1zWa/F6SR/bhyQdX1UVOOrUr8XpjNJ68iucu5Hv/ACfHfrQcAW3Homym435G2vYjZ7z7Ve2KQ8lZ85Y31WrzbnrPS0+Jc5BWWSjPWbJt15496sZRkSm7trnZW0WYt47IHus9otnzWYWGaEO7wsUDnM9q8lM097VlHGfav6M39Zf0Zv6yziiHe9cckDfaV5av/VjV5DNL3my8hs+IHrOaykLQeQVyuN6fgcL2/KA7irKd39oVu487Ze1YjmTr4pPUtUZmMOAZXVrLX3dGijP0gswvk2+5SgMGUh5Jnf49gMyscovK4e5bsHLkCrP4D2+M5juaF+jzlk1aXWZ9ysJHxnk4FCCVxNtD1/lDC5eTrXW+kLqSYzttiPo9qMh6SOlw7EImjNxQprXFs0WHoAWYQ7FiKBMrfepgZm+f19iZgxO4uQQcW4ezxm4hcRgvVllqSAPet3KO4rybsupWlaWryTwSuPIrN4WVyuEWXE5YWcRV3LzVxBFj2DMJwA4mZt/KF/8AnVaIwv0cTmO9YAbt5How5tZzfZOtUYpPRyTWT4eLMW6X1b+XC3o3rRxM+7pd2dDe0BMxRNOXUpwI28joh2OCHjTu6mgK6iB9cdG7fpyPj7uHTrWKyblqtFl0yR9Ry/J4wSlhBGaPyD7exRmSFlndqxHXksFs9FE6eMY2sDcP0lv5mst1AITSNJAaSOtqNuhjW9XQWnmnx5ZFXHLVW6KeO9rgIxh3mGyxl3ytm9yO8m+1CONumpGnjVHcOhko5SN+/p3Ep7j4vg7D3oPIVrIfRJHuV+i/QJPXb8Xr+QdOkPIyJyTj2KHssrkrwiI6FRSHilwtky5q7SnyT5NJJ9ilkgZhjLsuhvd0v7SrL7uinD0/y0os7k5McXSEYhq5cMYRA6/Glb1s6H9lj9vibqQ5jQ9JIQadPMTTbomb1kOHtH/DxY39Rt+QtFotFotFotPHDZYC5gbkWi6LWuIJsM2rc3GHsW6hcSLc+h0NS9+4eOHnYrw60dhqTkmwUYjkxt5HIdLT0u7z0lQPvz/iiMONzrEjFhAyRkiyMZu5hN/cs3ge1GNl3ZnPl4mvRbrYeiT6pV+m4VnnMK46G1kLcQxBxsoyPVHQPpsP2eK/sz/J4J6gmNNjeQLQJ1uoK3M8k04tMyrX6COj29GqKxI9vRECLg/4olrsn8Y7ipXyHgax1/csW7B71I0C3F0a+JH2gjocOwph62joPQFl0xX1At0Rv6n/AH5eLIzraVqtVqtVr8RotFotFotFotFp8XqtU5zYyQ3ziBp0BjGlzjkAOaJmppWW1xMI+KMdS10elnWyKhwVDD5Qc0fKt96qtoOwvdNIKeLsyu4pxaLW06COi/QR29LkMkSjdRfVTI4XNcxwvhdmE9szha3mt0TeIDJOaziueXTp0wO+nbpj7G26D0ADxHxHk7ofbW1wr9fiWRH5Bk8KEOsdt5b1s9VhfHRgHfA2a0Gw81MqWCkbGKlrY3tDcmYeZ/xzUIf4NK/DGLZH1rqldL4MHN/pG5LbYcXZqbdSkJ/BuLC/wfDhtrli9HTrTA1lGQ6e0mTdMGduy6p3wtiDjHxiMAZ37OjRadJDgOX3KDyDPP6uxZQtt3IUgADY5nO94Tmtz6yi4gk9SL36ogadLx29Mje0/f0d6N1Gw+oE1sLHiw5ORa5sxy5vQDoOIDmboPccyNFp4rHdTgekjqc77+grJXtyv4hj9ZvSAdW8Pu8V4+l8dr8fqtVqtekCeokktpicTZB8by1w0INj4+vSfrKH9L7kU/6xX6RQRA5rLoaw6Eo4L59fTL3nod2ZIpvcpCeQC0WiHd47O7of9c+I7Ll4kNuvpk+v/DxZO/8AIP8A/8QAKhABAAIBAwMDBAMBAQEAAAAAAQARITFBURBhcSCBkTChscHR4fDxQFD/2gAIAQEAAT8h9J0If/MjV06eo1zT0t/WQ9Gkf/C+h+gvoQf/AHX9UNXTp6jX12/z1kPQ/wDtTTpcuXBl/wDwL9Z0jV06fUbb+sh6H6r9F9A9Fw6XLgy5f/luX6bl/TjV06ehp9AN/UQ6H/jx6X6C5cGXLly5cv8A+G4h0t3TpjGia+q39RCEI+h+i/Sfphly5cuEIetYQ6qoitr7cfLEDjvEQTZnVa/+ZcW4dM1dOmMaIs9e6+shD1X9F+k9FSooTuTvTuTuTvTvTvSnM7k707kOSdyHJO9O9O5O5O9EBwzljhVGtsIIwLWaRApIuTZW0xNB7t/qA6C7/wA0uTjlQ9p3J3JTmU5nclOZTmU5lOZTmdyU5lOZZ1uXnpZyQA5YoNUQaspWIgyZomqYGYh1TfOcQhCHSnJLNbljozTLLHT6F1rKOjLOSXLOT03NvSYXMusOad/rN3p3p3p3uox6lktsb2SLc+6fmagPlcKzlVndC64mJbZXu1FtheGBCyWcCBGpJe2tA7+tJ5LvzuzuTvTvSrDFYYxete6xZgKhkqM2cY4g0MpbGdKgeZNJfBbNaCfhjgr8RNPvB2viIEiGVvHyLoQ6paUbGeLgq0IyYAEXnmV/fR11e5cAVB2PALReW0MojVroeWy1o8kGPlCX2zVqvClNZM7vBi7iu0zdGTMx2bTkkU/MwjRAxtrGZ3+Jnl94DS5QX7S6BkOdi8uCrqNLf+FBQfeWLi/7SbZsgk9Q1VGAV7xDaHqOAEl+8uV4TNC6Fi7c6RYxhdDowD7xDcAhOiwWrTaISKjMvXNGwuMNnFtWygGG+8vuBcukYrYVOAfeIDIdaBNB+AuFHEJZ0u9i6F02l4YAKyHmiD+zuJdNwh6KjvEAc71sbkPeOESkhrpNhmD4rHLWmoBc/OlgI8KH39GugRZWpUuoQ8U8U8SeL0xHh6KEVQLViNZ9+L8whhoWyomNb3JoZ+uH4Yw8IL+4ibVOyjNe4hb0+0KPZwtlMTWaj2Yl8s1Q/TqqomAGiab0PodoCfOX6mIhrnZX6JiRdfYGj7sLQTauugcGWFjYAnQRcQAy3fBMh0IWyDZkzxH9OrLGgEy8aaRYo7/ybxfjjOQ4FixvE0rXS2NZDCnvF3ZXbeyyveVFaT5csrVrjvEpVv3H9pUGNIHA5SaDY963hkIDZ++TyGSE/DqWMtFwBArQhWh3NMGnETGSigDXiznEPMV5gOnJazaNC1xP7KO0nJuqTxTNAoH4yrKzVIaI7QeLC63le0Hsz7kLz4IJO2oKyApbs2tkHSOF0OCFhZK9asNCNHISHsyHNbj2A37y4GRpNI4TjH5X0cGLGXm5FfX/AMsbX6JVKhkdBv8AQR2Og+gAOHpEOY47niLQ1YXjsEwc02Yba3WfwEHEt2l40yxJdhjdYPZLNFdsg4LWhQm/EU0f5TOxOxOxO1OxO1OxO1E1Rbmv1ELgTONCz3v2jQ9w9gflG5cG+cQflQVLOo2hvtkYC1vlga2FfoaOgLMbxwjrrw4O2d5kFz8SlKwdPdnc/wC2AUerNVZlZ+vj+CGjWGNFG3YttlYOm0C1f6WBoiFWyE1axms7VXyTQj47VlDzh7xjyBCkLgpdGCXRMtP4LBfZmXADaGrF96uWRbsVvkV6y8UZxZ/vkFUP+sxWUGFqzBHu+N0202d4gqoZ4LP5WBbXcajDsZuASyv+zKNH/ihjftGREdZSrOOI0YAd1Fp4H4JmkPc3SRlgA2HtxTcAE5Pl5TQRvWk4T9EqgQ5dcsnYjBhUJFRXCeHQQQ/dEXtMnz18rFyRj2IbZevpVHDLoQJnaMGouQA3YePnLPmaULdGviLqlhVKT+IORp25EpdF3NIAGg5Po+v4K19Y98iENXSsi2cgxo7zwgVaqFYarMCDqoWxC7JxMSDJceKfMd2718Mi1LvFPUqgalAfMw0HRLQtFwbsHsredrqRRKZThJjmEKS81508f7j4mKnkl3+ZpjRs37zFcEwCguxx3mHMGwxvQD3JpjYUOaUADoa2UKDbBB9McTMlCzQZL+D1mDItS7w8z8ESrpzLSrWMC5bDUfCICoSa15fvn3Vp0RF92Mx1lxKbWGOGYKj3Z3AcA/mNuuXWEeYXnS4hd1m9C8nL71nWaBX5irct+8acmjotL1C4Cpmhllbzq3QyQ1Kr8bJF0ZV3smLm22LqE05BFdTiVqvzZXNKbwVZe4PaNVWg7lT+JB30/wA1ZrAp0TeNI7AM00MLFaQWsUhr1mf9uCsu1ehXQZ9SMWLFixY+k5LuHVHzKiyjgy2GDfLL3sv3URnZ1qSs4gwKvwlDLYfzp7JBg+YJiGgUQk2JaeDul8kswaPaCauv7f2jMuo+gmujf6AvS/QOQRheGBVPaaaqDhWamrBls7R49SLQAA1ZzMa2HlKbeZ1xKrm8gNaFrXBrWUKWpWleQ0LXaLFh0qMsgftd8ZxUuCjYruV+yhqvAb1feOS0JbjsfgotoZ1ZpS9EU93AsMeQYRUF0NWC5ea79ltaNVga9s2LHSAYpFyxiWcza8G7hLGSptSIgmWV9svJ2+zQtfKWqWMktCcvvmW6f1aFpVjAYwe07Jd8WGbiQPSXUrQllSgxUO1KrtFKF1icYNlgV0BdD5S6CrIkQRgMbCRgM8ztm96aFE7yt0RnxdpJdaO8pBVBRNGHGLGKey2zyEyzV9e/bQKcatkWWYStRg5trvzMBzZygg0ha8mNIDX6dsN5q3dxAUT1wkDzO2874H0Gr6VHokeh9BHXifmXBntZqWXwXDCwQ93BxGrllVEYw4gPkYxWKaiNADeB01wYjhdpz5FcR3O+IaP1ZanzmMg3qDfepmIOLyrPzLF/F6XM+g6W6avoHbplqaUbyAQZOlPwP6mh6IcyutvGvnuRm+HQYKL2nwYcCXW+srRysVSteRmCpd7K8eznmMXJMTRjjkczSsxuRC1eAyiREDCbPVkHsBJdqMKT7MYrwuNKVbpOvhCNkTAIy5RRV4vwIMW0vb8bX7dJM0YhG2iAeBNPCwOGpdGGBi6l4W0zbth7Sjup4yvk9Dmx0f7n+n39KYn0tT6Gh6GPUgun/LIMABEsgLmhGpd5lPbD+ZihoXRHmooFs0EbJ0juogTKNSZoVWXkEs8L/M2FC0JbXeY2yS0eI7Cm8oxNAkB7eq4dLUzX0NcfU8jDHvR0nxTJhYGDYLr7x7bHVSbmG6QQlMJRRbGjy+Y/81C1jeMbvaXDTw2G04yPvxPhrIFVtTVY8Qbt71cGiPigq/1cRS0tFvFbRCc2zBiHf/x2icaQp3vJW7B8MTgLNkQvchfDHIzQN6LXsQA1XS22fiPDo8zPLGsqYt9SAcVyDggq+AfdLi9iNVZjwxx4GhU2DZbGt+YbhfFwoLXWge8EWAlitqOQyyKgq5XQadHJid03dD7y2zurycBdO9EEDMze2vx+BEOiXgXkFHw27wWUSquS04v5CdgOi+j1E1/Su9WMepCYp1/FBhlgWHOdIbH5fBFVK1A+pqbWizzeAgc6WyFkVuNSVQSBl8LHFFu1zDZgOFhy2WuNEHAcFLuvJMDWs+b7IlFFfp9A6W+avo3Ca4WViZEEzgVMbJqCaAmtIbBmoIJwxDAKJrS6kJa4prKM5mHhmycZEzAsRrKmwINyJbmlrjtv2hJoTyWRyh1eF9juJGpNa+7FSNMsw+GKMA6RC1uAyBKVC08U40lQSkKMHpZiHXNHrvVjGPUgVWUHJvDSJWUHViBKTgRhhgPwGI6OHDqDzwWWHmD14RlHXOF3CqiPNUOIUTrL00XKPfSDfNf0GdPf1zrNM1TTHU54NhCEPpU4IBrZ1UK0ArEv9wKXO30AgdW4DoTMW/BGFWajx08SvU9CavSXWsvoxjHqQ3tAQAYeyruPV7LORMmB71iULyvRadYF0Y7WbjCt+8zGyVrygjzKzygpd/om/qWv1HS3dRqmjEvc09J19BCHpq5olSuqalKlAgiTLm5UoWGPTsJkWKmNdFYznyi59+svowYTU+hIehjDoSqG03z+VqoGggMYRjkbQH8S5K7isrbpMWVwYSLgQjZGmGCaZqigsjYmG/KSzr6BfoOhumkh5glKYf0v0TV0a5p6Dq6Doek5hhGROhFlEqOH7SaO5M2G1FQeRBVtAlxocwB6a6PVh0avp8er0PoIZ6GQZ3oXyg1eblRGGnQkcyIbqKtZNuZf+51JgtWJUGWYyaK7vrsC2GK9xwQGS6AviUNFCgK1oz95jimlh+IW4hRXmql2MaSX6vdNU0R16Nc0dHd0kIeg3BlRJhCd7TP9sssTsu7YXsTWE7WxBlgqXxE9B1wDHuuIrr6bBgzX9Pr1fSIdCUZbJT4+3d3mZMqZQmwhbzNpAwYKgLiXAgMMoAlXx9VwbWkpZs1XtBsUUjhPLwQziuG5e7CER3H5jsRnEW9DxLt62RNHsX6s19Q6zTNU0HR3dZD0DUVWNrkZn76qMQ/jGOBlCEhQI7kSVbY6vInFEmr4M1m8ULbiXrYgWZTiTCXRYJtYP0xBmt6SHoxjHqQhCKmR4pOHhgkpAAUf8ylEOmtejeLuWO15cY8sfNMw86yFveXAmpq+rYIB5Wpi8dscPzU3mUaR4Zn1OdbRviUXE3TdJGaxPlb9QYi5LKiV/sTGc1bCxt5gVpx2xu+/56sOma+odZpmqaTp/t0EIelXFq4iOwsckbXFDZXwEEnRFR9VvaJ0OEZe0LVVzMvebyeh5rvN4DDMF8EftFBh9mFoDvHfeE3mL0X6GMITW9LD0Yxj6CEOmEoZmwVfvcJPUnEiwTKs07opv3JfiakSbW+ZfjKqpYUk9hKJJQGZr+fRfQm9Kv2mHYMOhR1mMTGKjqwbevN/7zFBkgVvc29piIENiFCTuufgnwSxCs934953NLly89c1dGmaunXNB6MOh6fMzjnCXmOqjqC67w1ftQKjw0kqFy2CeQsZz7u88O0RE2ps/wAz8dzSg0tmeJkXU130iE1voNMY+ghDpXqyx+JkPUj6VeigNpU2xg0TIMsXGscFHZFtv1X12BwS92XusItYebC6dmVtfxBBg0BHfb0DA5NGjrMmRoFmUYV7DyfP56nT39GmaunXNPowhCHpsQhyOp0GWZU7JeA0e7oIciYbqOE+w08cQwywtZLzL2jkuWJ7X0PpehFFl6CriPS4x9JCHUg1RpC5mXQLpi+gDNTmVM+J6+Mclq7/AN5d0YuMO8dXMshVAftihPKp/ZIIA1foGcuawgdS/E/7t1Oma+jTMjtq1XiNbX3tGL7FlLHAG7hNoeEm/QQhDo+hbF5muOL6NGOZZAsMsDBZhZIptlwygi6hip3dneFbfUGa3QwhS4y4sWMfQQh1GVBpMpVrR2gzNFhSrmGV3BLzAYTSYPVcbRmR89oMtAnDCA7tIbRKxOa5nOEa73P2jh2zMviPXS2Xa+EqLmFSWVPiajDroa9PfNXSw85n2NRgjQrvB0LZwzvFhv2l6EBmV+bYhx0DoesoAuiXIRuGCrIcGDLcxZvivZBX0bl+geiQ4cuLF9DL6kPSO351lBZEgViUlJrHGSBnMysbpBZdbzLz0Xp2Qh4H8ktlV3SpSJZjtxHKuUZ/JgQGKPdeYv16XHMzg+QH/fHoi70RtU32gG2WJum4IW1bUMRH3lbjS3sxbJQIetGJodyV8HT/AJrZBHbEB7QhD1Ctky8EvRmYWnzMtsZXSAM9FV4szZBv1emvp19FwY84Q4cuL9EhD0U4zmUqwxVSN2EJpG4ToZpE3QzOTu7w0xL9GnXuoryZP3AQhJAxBMzizYIEOdqac2MfeHFrAC2KSZq58kY8x9gcPCz/AICLgOL/AB3+9oEGm86PZ+kGRPKaprMR90wVbUtuPe7NXzF7QFWrXvLx4XDoQ9CIC1wEC5qkr2pgDCUz1hLmN/TgiNJnAroNel+nWXH0nTOgUWX6H0kOq4ytO0zQj5COioxIS34eDzMviX9Cslk8hLswhO5LYopYmjrjSYZJzM/MtH+uiKM1Ms1r+UDEZvq/tDiBuHqp2JU2SyUussATGtWv6TKZk5XCLU6AfubC+CKDv3atIQh6bO62qOPLaqd9DMrR7gxiQLygXYSjjCV4l2GHqvpj1k1fo4+kh1ArQWsNRvdwz8+lUlJKiICmo0Za6yrFppMeunqTFzqPDr8oZJGDLDEXXNIAaP7ixiEetYK8drtxEyQmYrvlZPre1tEu0II4pq0pd+XTO5oHLFDkfLCjzgp/p5lQs+LL3WUZ1AC/Jn9Q/uU0U+ItXkCHoorEEJDTlzuZdRs4QF6zVQw6K9ofAh+0EgQ+h59L63GPoeleg6PERlyj4JseWWAsCGU2+Yw3KH6DKTQolkyJqYlPQ5K46Hz6u3SIL7ZCE4hGNBWcRyWh4fiJMUa7h/sggzW/YmTWaxTLklm2KNZe9SCz0SmUbktRyggV2IdvMHy2x+rvAR0Y3ufxAXpUS55jPeHHpPgN4npsD2iZRZ8b+6hI0GlbQlrun7g5Pimk/CIqkrqRybV2OZrFRcfaZ1wMktxmI9vWMekIWrlP0B6HAdBlSU4+gAAEvEnUe6MP3n9hKuMODdKhrK9k2QwL4jbMEj0d54iQa1f+iWT4NlKi3nTItvyNpw0XK/Rpd+n6Q3LwsLLXZQQK4+ZZayurOTZLo8gTZlwMTzY8sTOMBmR2ZRYwG4NogXL0xEuCFW/baaxmbtQTcdMRH90e0L1POZm9IK6h8o2qW2x5q0x/riVOCLMb6J7q/qcKGLh44+/aUM5wI88qM1pW8cpc7ftILMbfX2gFKowlNJrSgylKuG7z7d1r0prNPTQ9Z1emMvzLcy3Mt178y8vLwfMGqGh1eBHqpisx/wAp5gA2ijcpQ0NE7xWXgLhWsyR2ktS0eZnaVo/n+LOY0wj+UuVCNRNZUg72PvHhReBWNzcdjUcxdC1eJ0smkqt8PDxL8y/MvzNE2bHN1ABo1G1u3fEyhZhcyxhgLmiDZdpprNGo7BKOSwkAlM0ciWb7QV+zlXbfEot3/fLaXn9lmHgil7MC4xS4WYDwe6YJvM8oggwXk8wz12/aPwhPLmJh5fmOG0L8Qdd/u/BMMVLo6jLNziWl96+e0sTK4GnhKCGgQxlNWUjMWUd3mUGGvC9ZzBFQQP0SaBECD6bS8tLy/UL9B1CHK1Fs5Bc/PzDyANDUYYbi/hj3WLjUMEE/yVcsy4cLLP8AgtlqpxpiPgJQWrLvB9MgcTC8rLlzKNYVJG2ZV5ZWIYcpqWnPaZNGZ7F/KK9vgOrxSmCJaKuaLwAheaixKLA6oZFE06YarR66QvZFbjzwS5TVowHLFbi62io7WHfab8xMonYlLKe65XdiFs2h+CZhPBgjix67TPstGUW6efaUDRYJulN+Ii69NcbmgtjvOLnxAAFBLM/4EXu/qgq8+0KypuX9mkrMTEuJRYBXieBQfASxfEqPRB6JqQQZgy6AYxV4XUsleoVmSpUL6SvQKdRKUPmoBt1rtTtTtemBIE2FaSW9mInVgPmZlRUo1h+JeWsBoO3eXKCKyF24Ol4qWLLsbMCZXmgDJf3l+nVpLinP2lJLbItx4QQteH+oEJro0M2xHk93uxdS5qya/BgKhaD2Yg7QW4a4mW68bGDTqECMmfD/AJGmkNX3hMu6HYza5n2JclKT7AP5gst5hpziqOkPMri+6AztntBTX/53lrc4CH6jlloGN9IsKAqNMd/4gpS0UcK+V8bQLmmawi8htcEIGhiAZovlHNcKOivdvrLZpvo00L8N49dsOjEvOVcOnyTQNb7hH+ZV4rCCScO8azS9uv6h9yZwcjc+3RxNzAw6I5glwkDtluJaXl5biX4lo6uLhFOnaW6FpboS5eeUvzL8zznnL8y/MvzL8w7peENl2Ndb5lU9P7795bladwOgABUJ+txeY331jzfNyd+5K1O/zAlTY5IrA1dYu+H8oWtzuj+pgNezs1J3lYfLLLSFrIA+IVnDbaNsyPVhiPHiO19kAgHcCf4MxADdQGqsziZjDaiLvnSaEO9mO/vfKKj8JoUTPo+IVq2QV1g+JuFXAwvK0OJaGkUtr/ETQVUcdh2FJk5lf46rjLMRWQbrdDS2N9o4ilFdWtXg+JRqN3cXeOYqK6G1Iwed4QOyaEGXsH4/qXpgzKAt7D+YYnT7UF3la1lkzlLfH+YvdoksqWHxF2ZSM1MxGkNZoRjt0TqtdTd3o1KT3ejU1NRXOV13L6XLly+ly5cuDBhHOItjtMtQnbZhsyL5i1CoqXLSHHPGrUeaBEos4AXMBXcHkErCBkpF8TFTE94Xin7alqbPr3m0aFgz9rRb4SXUAs0Kg5QXu4PzAdwpnQj0Gj+EIgwt7JGUIfesXPsQFRJipqNJMmcZzrP195oJutFiQAhpwjy8kVLUWGnBneELbpZxidvzKwa3bfQNPEqA6YPxLyRYratowa7pA29uQazc75gstetu/g0IdflXPxEfL6oiefkjqsJWZcPSyMzoJae7AoixKFNb/MfuBSpvmXUsOYB33+8K+tY7MaxHOsezC3YqGWeBjSLB50olZmCeDAxXNSXsEAW2gDOt/Vdveel3Hp9/qfnnfndZ3X6mKMgn56a/80QJBYCF10UuMAiMMESsndvhit6FI2PwWWJ0KbjRg+pfUHwyycRGP7QjsML3rMeGFbKc9xNFqx50orrgt3e0pSe7xA526adpdsjstTB20ocgg92g/EIYH5UckHOd6XHhte8IB6WhDDhfeaUAT9ewc818Qv3QS8ceI/8AU8T/ACpjgzSgcRWQef8AdxKJa+FbTUqPKKLyPES8tGjmX6lyx5W+ZcRVWcnFy2VBT1LMrahNZR0diUZZylRSs9du0aReNEpHmOl5nacs7yuJRmCcbIT0Iem2k/z/ABAwz2jpVZwSUNh7olRZdaIQyZCCu4A6a8SvErKysrKysrKzx9H8fqN6tcUsWZMLpAVZdrBD34bRasQ2YlpChYFpK8mtoahmq3l+k3Epbdo4002lJeqgNHTmLRTXERp9sBqsRhhFrWcNdwyPjYNbpo+aBsFFwlkIbZDTWNsxXwvDJZzU03JJsCdceFE0sCEKV23aNGPvW2xPlBey/Ed5gMZaALQ7ktCQDlC63EGTZmzVY0glmTEqoR6wqUlsYKQGVOUiBSs2s/aXgHSsC1AVWgaWq1lqEYlGpX3jPhCE1BMMeVGuRqZuL5r2dQ5UGe6bya9xdXkwE+jFpmZElbGnaBBsDcRtBPe1pxsxwFsq1C7LoQESnfzpFAACssq5ryETFi23h0bLulcfdboNDEwFmF+RpNUYKHxKzxO3vDcvPc93wR4rEwhIgUfEp4sI73q/iDh2q/Ca7jWAAjactHhAACgmEcZZU0j5IygKOQwgpqC1fcg1OxaacqqLBX8+RCWu3i8kxnHWHJa/lL3EC5nf9BO9k8J4ysrK8SsrKy5fRet+quGysGeOhxLogx7y4oTUpgoZR0It9nxyko7a3q1qZWy+cxQs7QHTzgq+mYXR2CbpEc92JYdA/dqccBSUkuJgEpDubozfM1ud2xrNX1VV0TPEVjkUmhQy9EEqDCGuPYyYiw0jKGS7ObgoHApEGGZhwJXM1ldDaYIUHvBFuDBnCjy0G7j8IOxuS3Vj2LvtChxMUVUjs3K5YDVQ6N7ZZFOAmj5FfqVs0cG16n3PvNcSobjLAcjQn5Mwm5SJwIkYlGCk8VL/AGYl6F/qWSfaNfaGaLvoIjpZtqPMpBuDwhGDl4DmLdQauX+CG+jZM5EteW55hYo4xyYCkdyLQcRfsidfbPzE2lT0viXqbux44i20StyJ1piRHlHsx2YmqHkTIEJbouLcOIZUAoUf+0QAB+MRVkBSmrOZp1PMt8lGfarGo0MaEo1IPZFYhTVE+KYbcMsv5npFYeZzbbRyJjEpjcGiqGq2wUHGqYa3bNht7a3baEKrF/NC2u7K238qZ7V2TYMrujO77ZzfXKOZ4KDNBTYXEjgGKmgaeEAPpsjhWfaFYCKHoHCb73S1Ux5zUX+Es0f4XOGUFFY8YjqEY2GFgREaBzhGBnAEV2mQhbXFsYQshqvgtZLcFrlmrDlXWtNcWU0YLrNWmTtY3qqtjcZwJR4Goti/EHZYfhFoe78X/Uz7EnswaymjgFX8kQ2o1Q6WaxPJbmQjcrSHwcN0fEOq6DY06SEUBGGtjiY8I+WvZlgI0GYHbvzS5eIlVtYz1RJRL9m8eXw/cMdS5Ryu8Ql0RRyoQbwhl+M7vfkly5cvrcv0C2W+u+ty5ct639UC7qUO3TOaVwUDkyYiGToV6Lv3Qhjy96ag1k61WYBnhOdGsqNR8De35tvkujT3J7GfTqlqm6xGIsh0K4QpeTeD+UcQEHdfYvabwkGdKvdrK6krRD+6RASKGygJZz5X7KIVO94h0ChxKyZN5i1prd31vtlYWfbLGHvi5F8zIZW9kYZXrW9lE3hcKhWG63gOPaEB4Y0SwYA37sLDCOsW4Ien2WSl9LPuRi5ob3/qJeFoz316BxmCn84zKGu+3o4dzPH5iNVeOCXSgDmVKW0j/bGgaMlPwm0OhhASxp1sN4JxL58s7wK+jDLl/Xv1X/4CETR25h09PxzmBZpx1EQjEHq7cbaxJ7irFd9ZOXUzKKUs2J9aKSP2YHLw+2JC1cG6M+0YluYuFTJrR0MVEK+bZb8P3l0oyGo/mo1UFa55PvHWWFHNQl5q8HXDAqK5egPvyCC/8eY1iaFRaBenfWYVbkoTYOPMfJNiQZhhpo7olpsHN5W6g0Fam6ZvqP8Aoqn9QeIvxek+gSgs0cy+qezw8wp2Li/tD1MStVbqmV3wp8pRnYHHySmR5V9QWkBt6A5qKM00nvpKjkX1frX0fTco9AmMr/wURwNVUAArem8p7bRGtjeLcfh9noVCNauqqss8T+UJXLP7TTO1AMWS4t5mlosFUW9TMCSDADHKE+0Qs+EF3IaHfvchwl3+TStUPulXamwFPZKDm8rAwkMlw8C6lNXgbvMAFdZOIvdf8oT7pDlBG4tK0qkBuxrJhxUVIKKyOKAs3axBjANDaWQJCtMWEZzqypRqrvUA3pLGBCgYzp4TAUAold5yrreXq/jf3EQ0Cb7ibdJR0UNVYpY/0G7LY1b1u+P3PDJ2Hw7ykWMyKmMY2zLrlyql+Fk2YeB+GZIH3n2nAfLUV/El5ZQVWB0D2LaFL+H/AJ2LBGECFtAuJX6l9CAbdBg/RAzwbj3iW0qXWtIe6cXFnlTXfDQqlVyeQhTkHaY/pF0hZ2V6veIK1gHiGBZTxMQVBYZvsTJWNYRBxLZrPbQJxS5ZzbZN45d5FtHLDWhlH/AUkutULTNCFXZQxOrgcRg3o60msuY5SjwKfeF1XaBhtWtM3q9oD5u6VndzN4p8LHV9FDNe+LdvtNdoHxYXviU5LjWTkjw9FMFyl8ZuwAAoIlAK3T5nJpX/AKpsBgvtGAWPzMWttX+Xaaroff3LzHClUVU8nLINl+IptvumO0jmkeOPKiF/yC7kQFbAZnC11FlwUQyzTT7weB8Vy7X+yX6D4k67snlhjBtL7SpUrEr6NempUqV1L8oNcOaMUMlX0Xc9AS7/AK8klu/CbWMyq7aR1aBpt2oXS1x+IPZp20MHZ4hNO9sVdDCngmvG9lQODANaGkvLg5oNVPIK0PEC+t0o46+UEH9aTKlRdW20F3OOSAQ3i7b42gQ0piJO7M4x/NMWq8CblZd24csa/nZhPQcVRLRXH5mqpnTuLS6e3EEiS2rg2cdJxLLdjE7070Ujeg00azF50PzNki5g5woWAKIdYS+nRiaZDi5lmvQXjDvJdp+0fmXzR4Fn2jTUlHoMUZy5WervBZRya6/iMHg699utXmV5nn1qSn0vh4S/Ev4SlfQw0MAtCBNCCUTgmezM/PQFk9RsXPnKmucIZQw0YCTsNBNV30VK0NHoRCyy6vOKcwqKAQToIp1M4UanaWU2sEDkXZ3gBy0JMCy0xvPMWR0Fapf2JSf7eC1qmteVmp0Grq1felCV9FXu4TQ41l1tlJSoXlRpTwkEW9ubIb569aYazWSQFO3IG/EW1NHzh0mcN6sbwJEQUqvClpCMrCXNHUMAeXM3ylzizjGtxEPvGRDub6ilcRq04SeU5BGIVPEaNn2AP7gKo0qKYExjbXqiTWjSvXq1nQPru2r5l1Z+1j7wrlngn48/zndfbE7PIymxrpZj4ukxT1m167NSpZBJyZj2j0RqsHrYMitXWXhUWmIxMoDo0wgikB6SKuEo4nhMcRrCGpXaD55pg52itwB4mFayJSlGHvA6l4/chlqwQG69o6ZAVfZ+5clpXxTXzHeVqyDg5PiYIDFm1ycdojpyVV4OWJAtMYL/ABUII/uHJxmKAtrXOyCNS1K9pWFSXXDERlo5xDClODvuhLYa+XWSv/nhizl9pvkxkCxhnFGgzkCXQVNg/gl/df41qaXhkz8T8YL+0QXD2n6n4HUme/uprT9jNj3h/EuKrOIPmBOBzUsQvaORA4qDjtFj3fxKlSpXTMpmfTXUBOiAwgt3lyyADoq6kNtCbgMCtHpHj0U8TMtgvWpXXHQqG/vcEyQvQ8xp2UBM0W5MofshURphI6xwyl+Id0PfETVhWHqsN+LZj21amtMq/UvFIrWB0Jk70pi2ZllDD8H7LADr77LmjoVA0mk2zOw9QznnLP8ADSMwZk4uurpfD4irYN7PEBn5Flwmf5ZqNXur/wCrLM41/C1NKx4v5TYD2D8I1ae/+Utz0eE8IcEu2mGsV6xjpCjNQIB7S9895RoYyyazKU9iEaada9GJiY6XL9F9b9WehLYrKHUVFdJFMzG5mZmZTKYLncxNMMIv16swR9hqTC8UcABlMzx2JcQdSaWDZw+8bKAml7x+xqbbh+YKoU6HR5Ja80ZPdAB1dsrlyztB62V1bR8Y/wCrErTZBGcaTIQJoYAAeRFWUepzLFtXMp1Kh+DuRqAir1VKYusJt3l/IMLx4ZTp/fSiB0opsCd6L56lsW0mAqlV6faC7If8poB7ymZmZmZlMplMtCLS3rKt1K6lJToo6YjUXU6VeJTrVOhSIlI11xxGqW/YlDZJB+F8MR2LCZjbjSE4C4gNNMrQ0PznJBoluGhcz2ylp7ywLuvMyyMcQ386D3ibDsOciprrxHtMaA8CANoapvWARsLlwkZWCnB29aFmqBouC8PeF9pfGXwlx4yuLBt05lDtfMs6pL/8S3ZYzYTKS8Gj5lw6OkslJSUlfo2FodDctlsuLZbLi4tlszMzMz0zGn0+sXBvEVQxqUcwmnBaouyYO8umeLM+P/Y40QFmDFVW6LaQsVMmu0O31oOVKINRhKTLbSWJatYjbBgXpCEQqKC5W4ipfEV9jyhhdVoFwebRW42meodQYmsFzXUsdss/qZgozd2EXPJIE1cC1nfpFoCH0Y2dYI0ZtNHecg7GW9IaF5kubLtvXx0L3/4PYiEpKJQykpA9Sp4dS0vLdBHpUrrXWiUlILeifZHoFmzzL6MmCUTdBBNqiprVGHheTxxP9t4FYlgHeAmgC9oprt3dzEA3zGZLjGiJSClQ2K42z8SqkC5wmEFfymAuTic7INxwvwyko4mOJiYnhMdgNzE1LE1XIw6O1iPbeN9uRUR/g6Y7mFdfilOBX+GX/wAcv3ntfKBaD3lRTOynycRAoyl/ridkO98RRoBsKCUZLtMYpKSnRf0vBeX6L/Q916tJS5SV6bRWWy2Z6ZmZXoCfRlFxcLssy21192HPAaMVh2gdMwKeT3CxWJUBS7MElTaPJek/vQwQHSK6GIrXFvw4lnKu6+0G04NEpMZ3iLbthJaXYdTiVK+llSf9wTb7KKvyVNajtl+Z8FNX4WfkjfxNWidv4c3TdL/on5IT9Sp9j9yxS1mwj7TNmtAt8sqjiK+iK+K8sOQCDgiF9oolR6ASvrAgaSkolErfoFSvTt8pfbL6irKyvRTorKQbePwMuniR0pv+AIxaxo3hvNSLWkpd3qHENRT32VZUe0RdEtBoKhszAIbz5hrGRH7zfeANDVzNqXA8MAHkj7RLZaWlMtLwreSg7yhvOfqSsp34ftG/adPzKIFZtKp3YxNhrERdtDLMDNaHtmPUz5YO2NjQidUjtHMTS178yuEsv39Vfr3qLy/Qtlst6MzMplRTLS8vLS5Lep53de0vLzx+kKWANVs5GycXGAY2Fl6lwis7txHFZneAjycwZnvZCx4BFAMLvd4Y+jh5NoLaIggK6mtYbgqwkZs0XKiOByIChqOWEfVfk8Muhk9kroqV0XfmUNPzA0Jhb7vAmPjb+SZNXkyQskcmSA4q0NSGZH2GabPebbBOAE1wYBF2djzN3OxpKGqRZDLmAeGb/ov1L5TkwQE4lJSUlEqKJRMSpUJjpiYlExNI9K9QKSkei8vx6ZKxPOec8unz6KsV1X4QAPCXYCu4ZZmWzmaOaH8XQeJuWuAqKnhbd4vpbzkhE9b5d3p9rr3ikaY9azDyK0eYzWRYW5UDnqZXIyVdkEQVa+8+E6bx4Jcl+IL0/aP9RqpARv8AJMjibi9KbTKiWELI2pibBMdpcHAazIsvSdXxDG6RYyQMKRWGCRW6XMyl9FfByS3MzMymZlMtLSmXl5aWlutTmBlOZUVDFRWYJLhBLJZLJfW8EcQi2ZjcYqLcwuVKhLgOAZ+SaBActqBPQwjYx76m0GoZ4d5XQFB1ppGtvLSe1x+hBom/4lxWq2r6Glvl7stCqFBGVo49KsLEwVK2bTGXLX2hgDZfnf8AcOtppeF5nGTOgjCrOBq8yutSiUA/3mAMzLOLPuD9yreOHeMeFo/4lu8qMQXWAbzQjezeZI7hoAxBQ1+RJH4E5keAS2U0YD5IwgbSh2njPGePRw1lOZXnpeUpzKcyjvKdA5J3JXoVBCoo4nhKOJRxM3pPae0zxM8THp0zt9BHE8J4dLwl9iMSldc0NzxZ/iZ3j+MzqRuyh7o38zH+MOxmFfE5jL6qmwzGxJJeIqHmJr7OhxzuKfmCUxDRvLWBEFqD5YWFNMIxWhyhKgMuvZYqe7mUA1lj39QK+GPw/wB9AWv+UMOLgty246ubG5A1JWxn2dCWVYfnn8zU0qAqJtfhVH5UwU5hixUpZgXV+R/UWOYYlzMvvLvePNO9O9O9POec95RzKOZjmFczEslZTrV6aSnRfRcuUhHaEjl9HidqdvqRzHRF/wB05auSIEelDC5+0rPFAyKqOBMpTTOY6umWHsUWL9iabW497kuSvnA6bQSXzBlji7n36FBL/wAG8FP2Zjgxv/UvZzKYhWuLId+ODZ3al5oGiA6reVF8xFohmBhnmYqeXUeUFy6b7kWIaf8AuorA3JkM1o28pNIePb3M1Jcb34q2lNQk0/VI46+wPdX+2DPTvR0w++h+YmKzMuWyu8Ct5ctL6PmZhLIRrMynnqDpnie3S3jpmZ4meJniZ4nbnIR4JfHop9En3+miaw2rPfoxVDwHHeCF+3EtkfuhFZ0NzD6BaB9pbBjx08jX8w03ClnRR5JasxdfXL+ZpI0lEsPy8Rls3+5h3JRhFzLeeT7ae0vypv3FfeYInnKY3haeCdyKi3LB95fvHdV/RdDvEX2l0e4+0zJmjUlsXMyCSKFM5iJZav7YjlUto/x56Zl049OA+nEk787/AFyvadudvpq6bjNk2TiPBLRbxLSX7S8t4ivV7meXUKV/FBPPidqIjGgtXAQgBragvTXw/EG7zHeHf0efSX1ZSY5mJYLycXMf8CPeVz7eGPYVmh9gxAgdORtDbeWY00egQcipguWcSavaOGkwPi/zCbqVtPbGH+5co3qXN0A3GyFIUOMnHtD4C0OrcvMUk6dXtMjmXZpzHsnsT2S5mZU2fLEdkFo7TSOoL2xNLMkYKDJvcqKZUde3jwzQik0PcGSOg7Lh1muQzQvfEuDZr0hToQgIko4nhO06LJiPZPaYmOJjglJToUSu09pXaU8QHiW4jFT+EwnDw17RDavHNi7PDqzexqNONh/xpAXTYm0xWxpZ4hgZEi2tGORermfi67PIyrVzDJpKYOY02U9oHhJ0FmpoaqHb0rRXDpOAGCPYQuc6XHlNI1FtWHnaP1AM2c+DabDgDeAVi22lRIKOksPzDbmqNBKcz3gttUcb7klksz3fuJ7y4TjZ+Inya8UuZ1GxAeUB3EFVRNCg6V9p7S+0XtP9vjLC9ug1wV98yK6QzI16+aZj0U5h3+PvEtOtnMW4gvdX6h1hww4ZdOB45RPDDggxSXUYshM1pA56PCPQqrvK7SnjpOnVSu3Q5S0t2nxPjqYhCLljJChel7aubMbGPclltcwXMF5h5meZnllndHuZXdiqjen2J+WhuHmYoKSNuDvciXdpZmVwzFGw0ioWiamYDfaNcS5mD/bNVUaxtrR5Eu3txUPbCZ2Ez+ye9Jp+llXvK95SVTZEodz+Ok/9O80dC7RKggzXp7Sg2jNuR9p+CGsBjsL8Gb5v8TdHV4gCj/KjmUhAJRxMcSjgmqXUOltS0W2AMQdAuUSonTeVKSkoidKJRET/2gAMAwEAAgADAAAAEJJNRd3v/wD/AP8A/wD+68MKIJaKIZftgOAY0JPjme/EF33nzjkFUByCDWHLb7777/8A/ePPOOOWu+eQjPuRoPhr95BB98s9whE0Ak0eXaMw/O/mh6+//wD/AL//APu+mt0SPJ47BX95BBd9V9AAVLsas+Ou1x+Vt/F2w+8zw8wqr+HIqeShiZ04Z4FM8sUIFBBjqlGM0UM6A2kVArGRb3w5OLi3/YgYBB44skwIEE54Usso0WPUx1+Ofrr7666Zngby5HLynyTNtVs45yBR4J1htw48d5o/0kg+/gqsStGlO1F2/Zn7Mf8AgwdRGLDAbfOIPGMbdMKLFIGDIqp+e6qReame8Z/EQQ1zg61XU9XgyZP84JZPXQWAGlSXVPzctHRjpJfdSZn49zDUb1sw/wD8kWolYZQoE0NoiAvUZAFR4p3WLkrPDcCnw7F3xT/+YPpIb/MpNa9Gj7QtO+V/9+AAASBk23GX22U+QBDpu6BbvdJwS2v0+cOoBthHy+lNBEsQ6Cpj6l1C/VnXkedjC/UBj/8A7zleMPYH2mYpXik40AQgpf58SIEexYwPjAMBBfvnQ3gG+yFUmvxc+j8qFR8MRx8kvQeqI28aSwS/ZY+ozbHemM3QZaoM4lT2l26jLb8kSkE8pu9s726Mgyu+BpGY8pjBK+Rw7CYFthWXUSrxFHvg6h4DZ5Shs1R0wzb1seN7IzCeYKwRWm5Ae9HhzueTqGrXV8LIaTuao2oDO2o0R0XfJRPSZ7ZmfR2DNs3nfUiAY/lAhmioUwt+GxzwLcl3d1ppdF/QSMc0quYlu87uSwG2qXPngnM3Dpa3Ap5KcSquAMEK6f73v/2fvlbP8K1N3ibVtSk6Lto1NIh7pdPJ38tQb/BEAAwtecjjjjDXF02gOR1mltZ8nTZYPnVF9fpkrdj2Scw0QiYURgrLbDDDDLQMF2Ofc8SfeuPRfsSrkYa7uIdJt+M4GSMQrSFSvRDDDDHOEJ6twfuQaH9LpT+nIMu9MUX4zdf98c8Y0eCaarbN4PDESHxuDtRMZOiBRkr8BzZF/wB2MT/DgkLb6AR0Ro2y/R9eQrr+kTQVwDDjMxuxGl62GysVra2GX06BUTuMJgWXO68aJCkMBS1JT1pBWe3nvWQCt14izAhz63pNiwyfdeBTgEr/AONlhNtXjAKr/FO/ENsopUNZMNJrtEERxqsgpIJeEEd25Tts3vLSp/oLgd0ertVUBqnFDLoWONNBQE4N0BBuRpaKu997YLf6hwTzDjjH81aqT7O+Ebeh82lAfjZ2/RRVEv8AEPf/AJrNNKoUTN3BWo3pGzqV/GjPsExfWI5g56E6bAE8adL4PHZJcb2HnxksEi5j2TAiF7Xx5bJEbfloZvXcqjVhOWEjPadY/UM5d2mBrI7/ANm4YJ/Da4x7P/NM9EuL08xif6iKGdtyA1Oi4C+5rWWT+L8BwMD4CB6PwNwB12KDyKJ714GGKP8ADhgCfci+8/Ce/cdg/8QAKBEBAAICAQMDBAMBAQAAAAAAAQARITEQQVFhIHGBkaGx8DDB0eHx/9oACAEDAQE/EODgZd/wXCXUHgz6GXNzdNptFRxnbD+J4JqPoJdS+alSpXpGXzdS5cSE2TabzM4zth/GzUfUMuDUyl8kxXAppj/Bc3Km6bQ5vi5O2H8dwzGPFLqXLl8rhXgDYUeZZ1b+IqWZhjITSMRQlJSWQMpBGVw3AZJnIjMZBADC7g4lQtLS0tKloFy0tLy8Stx1A4siVKlLKqZhKR29I7TMHFybgFpfWFwUmVIzmUypUpjibcKEV+iBKK1P4Q6m3p34quI5lEaIpFgJQBioD9qKHfERXHHV+CAUKHT/AGNvffhAWzLlksizxupccsS5iGtI6o6qMTUFqwGUypTMymKoWkqUymZliLcebfhI8/cEYybpb9JV5dEVpXgwfSP2L18VKIGmsx2jvk8dJeJcutReos/SCoN/wdVv1MGZyajLjwRxNqQ0HMZaKf6i1lpxM2iPRjIWsexKoYzm8wHpWfQTK3FenIUMY6hnBO0hG8EqbsuWy2WktuWwgkHwO8qStRY9o6y7SyWzU8xhxuOOF58SIwOwYwLT81LuI0IsX7yrY1p7QnFmoLT0bwNXBbyYxZmzplCSK0+ikgHqpejMMCebK886EB73Fmb8I63+k9MMWoQhkmOr6n+n4iAwFCzhKDUfu7i1uMV5Zr0NyhEOxyv+QZhPoe8eYLZDPCym3DeC2x3cOSVxWKrLR6xtZXsSkOqYheoxMyh43M3NPf1Ez4dOGPBEUHNtGMXrs1L5+QqCwHxFpdUxbecIdN+0WwjeOiurERh1VpjNT1Vf8igK42Tbl2x3wHG7kmSu5eGT1v7VAU2nQ6jWaoidF4myHpGKHFxwx4OBcafciriWNNxqVhWoxR6BTpP4QXeoe7/iMYF7f3LJRncJujzDFsu5uMV3HfBxuE3W17xit7xn6zDc4GrALOu303DgXF8PBwYSkmANkDozAJtmavRQtCMbRcslDPf84lZPwH++0MA4SzjdEY0AcVAG+IdYLjTS/GesYPFwowjb1fExjALcFo/QX3/g39B5IcX0Zo/EuixBaWAZZiLMJcudnBz7Q+yiiOIOhuKMUItXKuIIihrOsssOw6+IVrlzc6sX2mUw/tsuWI5pqpuYevefRb9JEVG4o9/XiahKr6YhtJaoitfFspt0EMMIgpdwKusDEbYAgjnlyIq01DEqLShcrltrx5i5VagZNF6HGMex7f8AY0FwmTNqFvfKhslOIiqfRvMdxDLJZLJZKNWwx+3ibItz7f8AIPkqcoOrw7VmBB1AlnAzeFFhs1Sfv4g6TOv5iKDcSVHNL4JUtx5gG/2mxYlwRHREtuVt3v8AMZxULoWWEo3GcQ9KAJVSI+nEdCKushHeCuHhnCSWTjzlxuY89YlcHA3UsNdLz3Y0Hvr0ZRNZiiiqMQRsjWdYpViX8xAjDHhZUd+FX28TsN3X9ERWfwf+x6yveCGkfn8Y+8UXaUrm7Lx/ybmBieYsuyPE6LFEbsGYrl/rcE/qDOzHbA0E8M8M8cMC6hwZekX9I9vm5bwuWwZYTYt+cwIplLYkULI69Erjn9f1DaJo6xccPdv6wAEVyuCZ+7/kQAF9Kt+hBBTaHQ39WCLO82v5JTIvzr7Q2jh0MEMwjxv6zPqvnhx7ocBGikJh2QQWWMgiD2tl4/10l5E3CGdblRUV2yuyV2T2Suyeyb4uXxYRbtLRTEuV0URLt4uKXhFDK4+G8v8A/wCRa2xXZ3xBqrUwqWA5GIK5ZMV4evvGbEapgGgB1d/LCDAOvbpCXXLahXRUy3uivmChLSn725jvbGvpxaqlURdIK2EJJhzuEkz75ow+8cSctKZTKZTKlMplPqRgniiMM0v2iBXTzPDEC0mih+gmyJ1pRuxUtDJJb1RBkpEkyDd12zVx6dkYOtmfD9pXAO7QPbr9Y6W2x2OluvoMDhQ1AnBIWrBQnezfUYdNPQbubolOhBKlE0uXEi1Mn1m7S5ouV8w9Fg23MwFHpuXLS3rJokn5M8rMEMV7zyzzTzR2G7wRoHEbE3ejLYUD7Tp+GmFb6o94s4BKTKCmZiqJm6uAgBmB6QJEtPkmv4V5WdZER29ZMxhw+P8AsUZL95ZDKGYoy+2CAXfvOtHRI1plhPahtOyAWLPEcFKmAsQJmluof7okUNyrmW6MtF7ko9jPBL5p5qPFMJzgAhC4QmlD0YpJcdpf7EdpzYT27xws3Nm4I0K4bLGp5JXWiEDrqd5jyO+yPXHGpuRdo5iHc7MVFRgDqpOXOFOX0twXUQ6So1G7I3hA2jmwhIDcGlCPZLS0ostfmJXg7s6Rkj+5/wAqEVrfkw90+S/7De0Z6hr7sORT+/8ASZRgf3eJh5EEWzKLaWzEG5Q7E1ZNCr7H/k65+WaqJ/iI7C+sr0vrO9pcz2lYfmB9L7w63mUlGV3RDvKJiUMqFtkV6TxzxwZ1A8NgxXEr1lu8V3iMqWhbikoCpYpPs3LdtTbjDP0gA7XetQAYav8Aaq4T1PV6y4drAsJRKJmUhMuO0MaJfiW9uCMIsieSz7zTExzUolSpqVKqVE7SpUzEiPSZmZTKlowHeGagGuuIOZy77fEuUu4KpB44FZcQtziB4cL3mfGsQz0fe4tJPGwB0mGiPYS7uZ9iHT3G4XzqX7ykolEomGYjMTHCEo4qUSiX5l+ZZLJY7l1qKy8n5hAuMTlPt/2XFrMMorZU6HXmCthBdskRh1mBhsMrjq0mSItLO5MBcr6/aPfjjDDNpZsVeCAKidXi0TExLi4uLiyUi1LJZLqWy5cYDKSsASkP5pmO1QIZ3NM0aRpIKdXn26yzHP4y5zBiyvHYl2UqbjwDExCsCFWKY3rN9471xBYVB7MEBK4dGUZ6ztvSFu0y9OFMLjALkA4BZzCPvMcWcOyKlB5mAr1XgqDTq2/drrBImaiERigR3ZrLIM0fiWzFVfPGsqsY4v45kJB3B0BBiOk3E68G10x9Ii+RYQEoSvAvKyhngpqZpXjXJnKxBEuh1Ql7kcXBq/3UP4g0dpRb6kcMTfucGDqwz8RqbiohLS0S595t8Q2pSOpmKqLYg2uZwaiTOj/UeCFzVuFu8vMeIVMxIcFkbX+XCdsZ7/p1jQVtf2fx1vtmC7y+/wA/5+JbhWr7SgqnQXdw70t/HmFl2ShHrco1E98eLxLwfiW1KhsX11KjEyGD9+kGGJZrvCG5ZHJZYoq9j+/eKuWlpaX4LsFFEv6frK8GKGJ0gxcy248pvmz5jOqx/UGda7TrYAZ9y/mbTq+P6guzuvQurh1xIYRnVDifZf2cmPHWacnpHhjwz//EACgRAQACAgEDAgcBAQEAAAAAAAEAESExQRBRYXGBIJGhscHR8EDhMP/aAAgBAgEBPxD4Cf5dU1mvRmfhEr/y06pKjCf5NU0njDi5rj1V/gJ0SJK+Gj/66oIxJrNc4/wqxfSpUqV02l5iVgsX31PNMaahQ1Ly0vLy8Vt1EsiwxhRAIoXLBKUqX/7rqOyIuWSyKQSYixVgKISvMYPWYYn0QDKPiB8ZY3LJ6pSWQzH8abAgoH+Es0jxLYXBS0tECC24A7aiNGVmdYfMK9k8whziWCEFJTKlocdB0U1FMuJwgc2JxZnyyiY/wjWEIMOm6VpPPWj5w0kUA/7A75PrE5VFrenI/eK2+lMZr11iVMfhrf8AgMOOg6joaPAxvh8UV6Tc0p+YlWQE2IFHDK94oT2MJjNHPaUSumk16R1aGowR3M76WN8y5rxInxGfXeIlFUv7aGoaLWPwbR6g6joKPJUIw4NRj+b/AHAhpmEMEtUI7Jfj5gsI3x0UOIwsPgLCadIshsECgRj0FUzgCg12Jf8AJwestV8rEOiL8YGJt8A5gqadJ0NQOjmNzw79YEAwpqKItEXCAqoWm4revAiWBZ74a+cWPX+41ASwHmIjT0GSGzp1muXGPTAhBRDcjfzg06riXzE2nMZqUcx2C/oIK+IJNOkhDqkQFMFGhOtHMD4lzNHa8d9W88XyogaxOx9pkhNl7gBTtQfubENPtp9/xLmiaw8zWaI6lZ6hqOFTEsqjjGQ81ee8Dq2O0byxyxq8dL6UkSawwgQ+FzYSA1uI0YoNyl8ATOEr3GZbaeJPrAJ/Z4h/29OmUax8qEYpU9T9XA6D6MdRI9binEHuoZPgj0whQYxC3Oh1DpgQQioHwk2hltCdVEMW8w4zqxo4ofx+YRuWdb9J87K5ZnLwx8zeogMzLmXL4qKoFYMcxcB1blvxWr+8U3aLHZqMepVFrxCkuUItrCFdx63WZuEqawYgSuhGMelR6t+8E7ojYRlgxBSoNx6A3wT9fWOmwgx9oy0ZcrHPGGAc4ijojBUaufJs8wzNb8H56HpwVxM+WEMYvIpcBnoToF9SPTr8BGMRkyl2OXiGNm/vMKY0IFRqUSh5sRSrsRJpUo1b089/eM0HTLoDLA2b+W5ZDTxOd1EVpbTg9ZQPW2GHtStRvc7QnFkZlj8jDKompGURZFeJdwGUuBBMiEY9IsiiVKYKZSzFEWzjh5jtURbZvx7zGXn+Mf1fKGSCMSAkawcffUQp6VW+fuY8d0fbX4uAZilD0lZLeNRS11KuZ8ZX+9iHUad3f6+8Wfgfn+pgHXYf2ZjgmU7c+04oJ4P1KEageWKxS8Dv6zgnNKm4OEPMd9LEpuVAoLN4b6sDoME0jXpBltWvpft/am3AT6YifEKxLwRC3FOU9buWa5FaxcARryVk8Xr6wWphu/pOeCA9+fYgKXbDAHJMS2G38Eue7bwq+DxFKAd3+Fv1l2O3QH2tWP8A1H9QZUa40YartvEpo0o8arj+uAEcjzCCoIsO6pcdEX41hFjUZZWTdcpLUGH6LY5XziGA3U8k8nSpXURERDAtoRTtW673T85hSqHNa8lfWLyTRCJhGawb0XFpbnj/AJFT3RxzrE7N7G3tRMebAfQ/cSUvL95Q/tEN3mMoBi8Z/wCQPk+X4ZTuqFZvzDyDxkx/3dx7oOb35b+8q9Tczb0iAgRs3FM8QU7IhKOF7388zHeZIKBGgbZ65XfKnyTydFpQ+IWqNuYtrZi7atv1jxWjeuZgRcFMKj9Sr+sLj58/OLwpidFoQr+kT+IPzDXouokas3AADVX9T8Q0PIySvCt9v1F5Ua+hCyi+5/UcWfKL0wZ6RTUG4jTBfmjCBHOJ4QnqcSgFJKbaDSFmNkslJSUlJZKfE6Z5oM0WHzYOBtKC2F6GO09CAAbnGaatXBzsDj3JtoAJ7s/mGTyU+af1K1TX5NJ8mGqdYxn34mmByupsiLZQ84JycHLO4Kt9YbxnaACoGYEJGkZUNTaEBoZ3k78wdkm1bgDBAlXKgdalfGylFmW/E8aNqDiGDE8Mu4nFUNUmiDAm3ITYUfBTJ6QAvK69oQnNL9ocHeyMh3hipxKw/O/ggRd9z/YmeSzxBzUu30RfKvwQKDLl/EVEhKnEKUDCNPjq4gVVy9/+QuLx9JoCXN2T0ld0e2NTgsgG9wdzBWJink59ZUcU0w/21v5bjVgfIxUlDl59JRkfSZAK8QteHLmAAae8Ot2QYNgmPBR8P7hzPylg2x/2OvdK+MjBqEdOoimV4zsw+EckpiIGt+8taYxsG88EcUa78zRhnzEi6VHGpDGliCmWW3MObeHEFzHocMU9kCqA7jgrDcUtVNg3OH6MRitxFMRz/wCG7VdNUwfNzS0lsZS5vCN43BGuXimXi5lLJZGSC6JcBTVN5mAIdj9zPxR4GLBwHAfqItAxwu5nUhF15X45gQ3OJTEA8Ptx3gCdtPtFLg4fScuECcsWyB7w+T+U2ZZrINYS3iPGi1sw7VeszUKblmWy2W89blwHmAcxbmeSUcMaW9CaTLoGDLJZM4y1AgLexASw9SYjzA1OWPnE0i+17izeX/d/zKux7cEFlwCYcW/TuQwVLYXRx2hLGsPWe8omCWQbjbRRVuK7ZaW8TMVgrLZmXLZl6eszAgENwlErriXPZB3idjueIGbpuJiMGoc2qpblfr0NjaC2ozEW5Ykiz69mAlOhY+0ZlUD955Z6pS2zyZjqa2vsZfkSppd3fsRIy0tLZbLZbLZTMzPwNy2C9KZUqV0urw/aPL9n3hxxfrK2jEcDCiv7EDczrfiUGWI7sYivxKkF3t7lxWGXLgRqj1tncmCL+uZcyD7RTo+UUUU9Am5I9aPxKLn4/cdCKcXG24TMzC5nUtlstLZbLZbLlvS/gt+uhTxFwCqXgusys9FNr0MFsYSe6x6yprH3wAhUjHdm+IG4Ww58EwUgpaLRiAWo19Qmt288zd1+kM0JEe7YioijkjruGoVldSpqUlJSUSiURoLhCxzMTEoOlMplMsRi2mUuSGjw+YTjVK4i23KjcIrseIqBq5YbJlK9ibw6pDxfMFe6+la95xMOgzklw9/xB6OkvogjshEbmYnDMV5p+ZLZbLZuVKlSpUp3KZUxFXMNFSulpaYy8uwUSyBfpAKzK79PEsKG6IKL5uv7cATJdveOfQzcGHoTNhmXV494zdzAekEqJQzB0ND1jzPE0WG4MLUWamQlQhDvz7MD0q9KkrK1KfAFuEMS5dwLQX+6i8smFlL/AL+x64iKhr/n7lkpApcXw08RgDy7d4lN/WP6YNSnVMuD0ghl2vBFUWsiOnn3m/pfb9sbcaTfTMOCa/KPMNpTpkoqRmpKTPWdh0bgTUsiDpLTEuWOJfS6lpxFNlz0YQn9vaben8xOEAIvMKSL71AYIT6U+xN2P6/3iYfW9dZz6BFXHcddTRP5vDDRGcTeM46OephOPg//xAApEAEAAgIBAwQCAwADAQAAAAABABEhMUFRYXEQgZGhscEg0fAw4fFA/9oACAEBAAE/EMdJn29Cj0UNToirEGy5eb/+Eq4P8r9LoMzFRnEE6SzWqi3/AMBubDqMHzTj5mb7EynjHrNHiLhH7GYh2hv0KoMPRa4bubeoXFv1dfyd/wANqjx67zeLLrRDXocQc3DCoMXVlFU//IPWGf8Ag1LXcW2/42jTHfqneDcSrHE5XWVxPwzoS1FR3n1i/E4e0a91BaQ36NqhggGG4wVVn8Guf4KV/Frcc+rHj+AvM29/Ur0G5lAwwriFmHdHqHVj/wCMg95cs3/xUg9Yt+lkb6Rz6FS8S2Q5nHPM/DFGITETAPEtt0j9swTxCaTbEGzMKqVcY6/g1/BCv47fw7Qrn+Dr+HbfoNS2B1F3g1qC7QEDbmB4zAPMs/8Ak8JSXLJZLIjj0Lf8Xcv0HiIt4n2JuRfX0NEy3nGXduIleT0nHo29D157ywd/wsjl/g6z/Bi3x654n2/g4JXc39VEoMwb9BzmUhSuYNZhlCkLQg4yjiDiq1L6zfMbCpxU0TzOty+3oN8f/GtRZb6rlGObmzxD7COs95k88TdHwmlmpmYYdI/ZNzvDXp2ilHiCjf8ADDPX+DiL/wADPH8VdcQVmH+Bv+A36DefmEEEEJ1FZSwcSgnZZmp0jMviZIcih7saCXNf1IVzTon6P3GmACvTdEg3Of8AnY3r+DlT6BDqLOK6MZjr5i+k3T80LGPBKX8TQ7xa7Q16gYV1jl/g8I5fXX/CpdfwfEUCUSby0OqbBgXD5j0kOljxGAcZiQE6AgPD5naQ4BC0wgMA+YdBLGkH4zJVJ2k7SdjCoOpIxFqFCewa6vLBpURQ+WUSMpgut3FWIFfZxiMlBclj5pNDUA7Xsf2htWlLees+5idpO0nZTsp2k7KdlOy9FjukGzSdl6ITTHcslS8anJxFzcz1m8wJQX3liN4mFHWUFBnljV0OOGUEBrllEpzNfmICwYiig44Y/ZLH7ohLIqqLmJ9EWn5pgwV1uDKB8MXYAgC0Pj194t+g9YtROSo7y1QvvE2knuzsL5uN1ILiri9P4WSZw3Ew49KQFdRWI2BUHp5ne/w07187/wCZ38B1FMUdobLfEISPop9IGsHHEeXUeSXFcHl/1LdaMqr7gMLVUlw+y9JWezhizgxX6UjArTVx+YtQPTbi+0bLYufkYOZxvklYYYzgO/bmCdPvP9mIi5e83G9w5paLD8w5DO1n+7BWpRxWDN+HbtQhiZE9bZYGISJK3OFhIW1hEsrcKGSWLqD11sOsuAQIMoIgnmTbAygfa4TfESnw/QgTGLNVdOBw9VsFlGotiqoKhH+TT0RBAIIvS7mVovvigcsiyqqs8S/doYlMsXGFJl4Im3gKO51kutlXmgAYgx5nOKL7XvUQudlGVXNbIttMclVM9d1OtsNsbGACtNg4ow0dLPdDboNGwQaMCRstOHS2THb/AHlsFRQ6XEcvjqYUNZWyrbO7HjUrpyAVwvYDxYO5GimDrYbqBajBV8DdzhzTbFX9GWwienikZoQXzzBJ2vSgqQaGg1eoga0bDTTBRejrBBxdAuDUCiq7cXAMuPitFbUFdYq06N7+9TQjyXAQUVaKjMUyvDTL1+EIle20Fa9kLuGLdJZBFsKMRElAZCLNkwJWBhLp65RsDh1WWKy5ZVwix6grpotRAFK20XtboW4Q4DjF7hegCdtCisvS09iHCi9GDiwawaAg2GajqmD8wTxKXFvZLfJ6C3aEvthbX0ei7IINE9o41+EodEt0SnJ+IdAgXhApdZbrbDAQmwtCYDq9PE6BXEfWNK1guUpG0BOV8LoOrDWoAPshVt58VDd/J8xln1AjiKw9btXvHUT3ST2S46wO2kTEmrZ7BBVKUm/BL+oAm0KyhE9pXcbY+kTWPfcq5mv/AKlfZMY8HoJkzEB11YYADE/GbPqksMTPPuF/Bym4AxRbJCKVSMrfgFPeM9MmHQXQpRyrzAUoqYoKqiRgpWUjKoLc4nGxq6h7QhsWViO5wxNwTr6DZWt0mZiMyCw3ncgGc2Y1u6C0tERuCYw5xchTkRpjDCBibE3c2bgueBDMACstVp5YmAK2oAq8YZ2YlTHgG0SrAuh5MGp9KS2l9DmliJS5G8w6CBsPrNAW4ACV27Px0sQxUMOhFLFIp01AFok5crKoe01s9ZGibzHfhMbNBqvkHa/aNabeSZKhhv8A83MGdBvJZ+IeXkuhIGUIImklFIC5mr9UV9oylu06Y85s3WfeqlwwzSinsZ3txsDsiKtZ95u1LTZNMzDa+yuhabpoWEdiDNbDKlOkBSgNWyJUpoxVFZ3yveJphg8K+ze/gmpVNpeHEru4gveNcStZh2QvAFU63cJMVYI8B9R4ydr69E76X0PYnu+0Lf8AqcLaFNU/EW9IzrVqPfPZ+fEYzIfyZYIewfKxhoQqMlBcDkLk1No9EMdVmyM1Mo2Lr2gL72B/ZLQLJivwuoUhGK/GkPv11MM5BwdIaeB9mUShANeHaMneSnNoTPVy+O7mPaFWIKSa65YSviI3GWczsR3kqK/mK6U/yYzjBfvEQAwL1C190jvtB732hEqeDppxekhQM8IwHSIlMCZ4AvJBVByKRWRjQBJUvYqxW7JZf2zkFa8CQtg3KkufMbeAF7hhrR+EmRWKjwrvF0wH17YiZvkjaw7JUK6ZgZZlnXVK8TaoV1h1IXExOrawqAMKPwqbskGUQZh0wJT4iZVmPZgEKYIsEoI3AnqA4h0ckMWrtYS1TauCTuWN3fMpyrWiZF9svLpxAirP60X+UqjFvnG9jcXoYjcGqMoTCFO9FbvuLLGY0w5NM4Pce8Ys6ZaRx1CjzkSCgGCEAphcCZZmlImkUcMtf80Bm6g8rrmB9EQimH84Y7o1EuK0BFaxbvk6EQpY/wBfxA9qw526SlttxyuXGAnS6uVIdRHxHqzPF8zsCZM3K5YipqqFS8kq3AM1BZqJNTpo6JRqPFPEiGyPRIHIeDhf6jtrCebH7hsIvPBFfdmM8w+8dy0S9gfpgEQC4AoJTJj1QcyWpQEPziglncY+JwxP0LQC82cZ1GmzmDDvkUKbtzUJvEFiFJGBAD4yV8IPcjcCIhyMOjOwTtnpdQjZiq9MgSXy5q8yvwiyxacevHwqM2MJ06NQcpQsCKIv41VvXVZVhbeXBMFyv4ENcNtli2CItuRX2FkG6EZxJLDOhW7Kq6KKIHlosVUSJhoWYldWL8XFqAtF5VgclY5sKmGwbq5iQgiXUBw6tNU2YiVgPFSQrDa8Qf7XfcvJTlvTZL+DpZW9X3j3TmAFOZZVhanvAunsOaGMTCAoAqBB5Ali5rH0gJUHteitUBWBqocTCEW94wLT0UdfEIa0LTMhW/Kq6KKIQe60ldhDRHsKsH30sL01KFYCDtA2Y3ZyUxG7FWRVN5LlHO4FunBo4UtLBOpAxXxQwWCpLTVBFJjxcYXNh4jwZqHBdkLbowsoGDA0sCXOqFW32q58Ig3blKoacygqngq486XPUEedWq10Ja3DJVPsrqQchSp2j7Gs9QsXCN8ZjbKJyxPsD3hTAiYgNClmYU2Lbev5joiHYqe0uNpqyj84rBd1oosBKiMFnpAjarVWR57FLuVVvBjpUuH7QwA4AAAAAAAACUDuKG9+gy1KJUk0wlJQEqmeU4uWm4sp3GsVPKHfOeVNH8K/cparLT4mechflp/MVlOyKXH1rEX3RhuJcOw0oToBEvUoj+4H7YxclihOtUv2JWt6tBs77PtUJbNVBOMhFd6OeTrdyDUR2a/pe0qmEqdKu/H3lyDc8Y/UcsyrKTT1MogFxRemZ+GK4u0vFynf1MDUcB68hk7yzKwzuxq/a26SrUcFZaxHiHsYcQwsA1dJuGBq9ZsNBBkFaDlxhycKUA1AtRIFrQ6a1BEuIFtJ4ZS45o6G97soIzRgEHSSFblUxYdYaW+UEmTcgLa5dxfCL3E92y+mlMdigyu4oKfAw7AisEUREpaYI4o0XYiC2heJh0u2eNPISaFFmTRh3LaHZJyW1dy460IZmiLayy/TLpzAatUq2yxAA9TMYPYKCmlsxH/H5a9j8N0KBdFjpDnA1WAC6sq7VBItiCeQarNzHhE4FBmoGW1Wg5vBcrVgly6BCxRGGsTqIUaCWylFrKsGIXEJIrbBbMeEN4GUZiP/AHCu21c0al9c0ztmaAtECuyb7IyyGPl2wjxH0n3zSbCvLExWIny1JI1M9IZBMNwtnMKJh1Eq6AKCxoxJi6ZFbVFrUO8t8KpawRCnKbjt3Ng19sKkVdGyqXWbqZVS6xL5qJzFmZs9M4DS4sYaD0Xt9MlQc36i+g4nlLh/isoHY3NsoAy9z7JeJ/QJYY7dq/hSzCUepIharwBt7QPnrThytYeM+0E0YeMiwFPSuuAlLj/EoAqnvZ3ggNC0DZNQvG1QNrH1AoAB+T2KmcNI8DVaPvUtRinVVFNiizWYRBloec/v0tVXL6mW1THFd/RpuOwzFoR48ZmnxN9R8z3/AIDlMpcS+BPTZAFlh1ECzhgWQao7RFvdV6Ss1zGbhlxQGKuYs7/kTHK++fueIdjDKrL6kUFo4Ede2lKwRaeI1j75qjgq2CUvQMwkMjIwccVl7XN5xiiklujKMVqpFIFEeG4kbfpatBgyECTPGbxq1GRcPCLkZgU0upAAYI9nCAN/mzfE/ZUAr/BiRLpFp13AoyGXdOY1i1TUPQmoviGE/sOVgblJVoJLlEoyGy7XMqZocNHQteevDiXZrA6LZ3he7xy+jGqZczkqqB1GnzUAk/5JwrZ/N5MzEzcGGmZrfos6jDJ6auB19DX29K9SVBd/wDU4TGF0WGATUuoq6vMe8KHiiwqLVPUg/Z8oOBDJ5ZNYL+FjNzuTBH12U6Fh97PeBCtsH3v9yz9BL13+4DpaDDYPoRtZ2aX2uFgvosBAALQ2gtN9djDPkTq+p4ZRgeOhX69bvmWdZ5YYZivEb5xsHjnmY+2Pqm38MdY2D4iayrYWZYs9D+bhB4/AKEwiWvvGrYCpVETsDW7ybtTG/wCm1ugu3BgQKcJg6rUrZtTwrNleuZ1KE0SF1dUu1MF4XRwa9bzczHX5W3tFr4F8zgkiu49BXO2+ionpo9yA5VdW1e2JEt4+Bf1L06Ap54ecaXP++pPK4tuTtdV3O0fyhgrVNiWbKu4XdDg03N0aWlYG050Hhy0sTmyjPwpssPIiVcRkDFBzOuQXYtYtqq2HNktSEbIDu1IImNmxDXOcmgqBDAoCl7CLxQlBCgnUWm2ayZcdiwMiuge0SIFV5x/MbaCC+a/tjgAtHIz2e2129amlwunwyv5m/GSKGxV0RRijryf7mZxcihNnyP3iZwMOwFqHBBOxGTMS4pXuglqh6xFa2BL7y0OjEZhlpFZc+l6CxqJof4L29HL0O/VwiipVAdrfqCiK4K5EILmTb2hgVtL8ip4bhY6kUsiIYsr7lRQBpz/445Eg4BE69vfUwamEZekQYgr7OibHhI5EM3YYRcnsMKj73EJ7XXtFIt26AbPukKhhFRhEdES+GobHvHMmVojs5gaLeTd/2BjmWy3+K1FhmLMVT5mftm0dvovSW+g2QtpJupb8TDBAJRFZuo1DWUtRZCBesLhNm6mVYvEOKHYmaaS1iVdMowujEGUkFcc/MuT+stxXxEQCRu4rznFShq7a3Hba0tRbnNqqWZUKuoMWV2Yk9SMNLSTN5WN1ZGsA1KOlb0wgKVlmcMiYmVzBNQTBpTAnOhIPfHpKCIpSXQzKEIO8THCuU3tPRgl4XdZgACg0RtZRGm6hfNS92xpuUppJkggqRggwTlL3nfpnPSawrZMTM29BzNIat5tcL4uCtrC3ABwagBI4MLzXWE3LR7P7sZJU9hAkhYyxFCOCmGJ7p0v2RmK9CPWtR2DXaVSRKYzNILdUwwDe5TcWzVV5uKGKPauP+ASZnxN4w98VA7R7i1Ff4bTe9pYeSLE3Pb0+CHC5p8TkeIgw3cyKtRWy3M0Is/wWotv8K6xVt+KD2dwzXEVYM+DUOWrYAfcN4W0GAgDKDkpLQ3KVpfSBFbuoF92OrhW63KYDNRszMJHg8wRfMo63Gvaj3eJcUnHxOU3v0LfpeGXvMUG9eipji0CvZa/ccASnyW+GOmjo6D/1BFl4vBZszkcd5TMZ1AXvhDKyUOXPeNFYMGnpiXAlMUXFvQj1OsF8ObIK9IEhi6FX8LNRuyDcKjoxZ8pq8z8UvaO/4qmyK34h9k7Zsir3y1CLDc0R1ZjtFdx4mTiKLEN+twsrtFZEUNVLHHovEJunA0csN8PRteYp5jGc3Lbkzi5UyjacS6Z7iJFwM2vsP7Q5GbJ0jhoJxTBuWXM4YufEyWtRa9PQl73xByStW+ZrlkKm/wDByi9FiUCvRcMZSihK6zK+gXo2QfUhpoKW9irl8++JRWZAp+0XTW8KRoBl1DxJgLljM5jrGBjEmyGdAqsCVLhZc3DUJtgDNLRk+ZRVtmNiEcsXEu8rHol5uLfqNzcaPMcKe9oISqDIBfzCTDuJT63HcHpHlfSO3mXvzFrMp1OlzSSlPEWvaK/NKx8QuVqG/VuqiJxL8iBdwniK3iUH/I/EfOnZP8OY1C3JwBLUisZV3iLyXkzKwuBeCHpJyIbR7xTgl2d4pqeJSL0ib8zYVHB6Vq4o5Zr0eOfTl6qcPQ69BuIuGFGNavPJ+4vEx3g/9EewT8MSlUEwa4i3FHHXcCvJ0gY5GSPThS7QPJKnQvRU9yBtxXI/uNGHzHSGNpTW414tuP5qTABavBG9DqhrfDt9sd42VLMXV6ZtrqRz02WeZJt1jlIKifb5WHWGn/sV8iRnXjW89T0L09TOY7fiF2cXHgvWDKb/ADFiXr5mqfin5plX8aOMxupZyQZbzDgE21Aqa0yrMjgV3GMLBWIktOeygzM6EFxApFsqZGWRKLYwHdPtnmBx61vdKupku4uZjrE7x6Qu8xx+oF5WeIisPAeh0JlJhHUnGPOJa/RanlFmObY/wUSiWBu8vwWzahinUiga2o7Q8SZhhNRGLSDlpYzNcRosj2lNjmOkqnUw1d8Mx1W6hBgUz/Km3UysMoLfBeOr9IO4o6Mnxhl7ERxhhJ8tsVq7SU55KYGlVi7Fu6jtPvcYOWfplxHXFS8Z6ajr4w6nb2/gam3xKV3zBpipHaOp1MX39Nu8Sm7vNoZr0PEIFkWO7JVqaYCYRRcOl7H3gVjMrMtCkN6ReNC+CNorBsr0Ga7y0My0/eV2Yo0rTSPFOYrbqr3G6XDNXODtCCsuhSVNWCdZxBrIINA9IrWtwO0QIVe46m5dejU2Yu/pPJKStYzzM7bm/ppDU3fPoX+Dt09AS/VwBs9DCa10ipDClFzQN0QtriPvNiEoMD28xoirGT8RYd6lfRHIV/51OWVoGr5SbXjTS1ApiIJ4SYH3/itRm1O/ZfswRigC0LVO4t1tilVnFs0urrhYk7sGLsRYAsyvMLHLpcgPRrNPWZO6rXMO+xGGOUFcqDdIIgjhxDGfHExlbGi+/aV+xCGXinTqIu/RJVHo354lPenGfgj0nFMIWzpFSO0G1GGomsR9ZnUNQo9b3jtNvMSk2m1V7TziPA6scRIOYvznrDGJIVogkbA0mdzV5Pvw8kd8XKeyPwwhhq+Cw37RTQA7WNPI+ZcUEmnkoItEbVX3rnyLFZaTaRMHUeYRIEe4zi4Uk5uPCsS9RL9BZWvRvuOP3Jq9N0E0xNpea9Dv1G9X6DUUduYuk1uY1rZhg+NHud4q3siuFD5hk7XdGo14xE7qVq+0t7m1yvWsDwQB03F1GFcfcRILJ2sRuF6r1Zm2q5xES3alOo7V6vValotxlaXjv/cOhAWUeBDvmLRMBzHXB1jjtIGmpyjVIncioTMFzkFqh0lrkgGVs7do0W5V2+Ah3uRsp1KJU+t5SN27D5qGY3VDReY07IPMeXifYmKRrT2gz8zX0s07RF76Q2rrGUQcwqxjIPFfwQRAI7GUiFtyU9Q0Mt5KXrF+hlM9geSVErEaPSgqXVZgYqqNdYVYcOB3GEmNsr914NkaR1IUP4ExFfFqtzEU0Lar3gqtXE3GKtSh0mruLeCKwqvR8xcZW43WItR2WT6E1SxLqppHc4i3Oc0nCPpp9HQTWWyuPGOihE7iD7QaUgpLwqKdcxAReLixKQl2rmU6K9iMKUeI+hBIh0jw1ytbmFqTZiWPC5bLf4Kx4ONhF+ZY0jYdpd+r94sEXWFPmF09qg9L15Zn7VxEeq9ZV1wjY8K8MpR2tmFcTAQSVeNjvKKgpGLL/ci19EVGLTpDLd5gldZheLOuWaxgTrHgdp+OG1dZlqKqJTEqfxeZdKlMMUEXCkTA4m27Y5vo9o0sraQpjl3CIbUxLmMa5hUu5D3La7kY86Qi9GLZ5IhZB2vMxo2mj1U5JQLJQ5gdIzzCVZHUXMS64hIE1zDPpFVXCRUUtjSLlj6R4i3LX1LUeD1DiFq/JKwgnERQ1zMBJBvMKnMURhdys4ljTqFVTJa/lcxjw12p+xlTaK4VItagqGEXJfQ6LgkVcFDp/wBEsLsO+1r6mDgEtI6cS+0Fca1tB6Rg1y+mm/4Ow7T7E2L6xXWVQWFVtaF6xzAJcFbj+osZcCH5KZfDqYNeHMSgWGgkMuus4ze5lmbMwfRdJkcsW3Go6jdiBdNxqIL3VBBeaVycLehEOOPeux2ls9YyazW4lsYIbgpfMzpdWLohqKJigFlAAwxMy+Io6l3j02RwUzBsjfWOoPE5Itk1xZeJqe8RFzGBHmKxRZjr0G5tM67zU9XzPtQ+EQrqNjinMIEOm4uitSpPaWA9LliNJbW12uMA7gqpu8fxupRzWpkK1c0dTe/5jrXV2CWPeZ+MxlZRniXo82N1+YcCLXyelRDzeIsvP2RaFvlY7Q1BbsVHI2e+tQ0fALgC2zrCik+5YvZu8hp+PR1FxPaGjqwYD1lTDpNWAyaoX3q/cgkmAGh5LMVBlxQNfqavFtZptvL0Y4gkTkz12QsNdq3XV0FKe6dZiHoOIsXDj0WpfPrZXFgL3ERZX2gPRcHZ3mpe85jAAgmDhTGZmhd1cAUfMOswYl1bTUWyrhjXpnrKTJMu1RT7zPWOoPoK2xjA5ypGONXKYjF6RYrqL1DipliftKcy8X6qUK6aalMRespR56umXoGzrEdHXWbqq3cBh95R1HeCaWbhNnfrTCNNplzdzgq4NIwFlED2d/bKdpviN8m92tS3LLggooqKugRmxNPcttgufM3eLGu6yvvN0dAoroHB2ISszUxG2+YeL/3Z6C8VuWvAgS76RNXWqgumXKMEVguDxRrAorwIXUoXdLvrCPjgZyGJYtYVvPFNXALxDhcguLqsVuWiG9qhWVeHyEZe0m0OH4lGPOousNS+kynj1sLZBotsB9SYxsqvxqUclESWkT7YEcTCDfGYrtb0XKMtwdQ1PygUSq3fq5fE4nwiU1cdUN+h1TmuYDtNb3lhF1EojjgiOI4ItxeIvEW4obZZB49G039bz2lGqsL8sagtuCPmjbsh7uglQR46x0huWw0GUEsW6ipTWKU+EAAoAUEAxekU5qXzRBfVeP8AO37D3iNjUBBuVVuKkCxTSfiBNCZcomVLEjENjvCHypJ4jOrsqPQCDImxEdbAit4cYXoCl+8aQ4FacJjPJcvZ2FY9GXPeAEDyKvYwI6A1p8yiGMUMsPcMXcbzoPuVS7kVR1B3LrKiKst1XaX1x5vQL/NyoSgP0mkKxmImkGvVO7wBarxCDu2xDB8c9/EDqZkbYRZ3jOtwQsih2oFv0TkhLS1fEP8AsylY9IUXEaE2dJm2yZuyLGtmW2GIsiRbb9HXou8WVdI6F9WKlKqziezHLLLJZFi9M8w7w6+jaUWLUOqKWobv8rEKOeYC0axiO2hcu8Yl+4NFqom7WU7B7GoUOyArc5xFuh1616NcMxD/APqt17lnvNzBjwwWoAFMCsMAtYt3uEnkkEdigbGCrHzEryKmbLPCj7RESzRkLr8VUeeKiX5KexAQPAAB4INYp7RtAdO8zVwcEXMPMkq6Jc0Ja6DmnjmCVBucaWwcvqu79StlqRy0H2/Ms8omwACx65ZnJ6YlbB+5liaQZIYa/hhjagxwnet/ERo1yMSLPj7k1cdlvoCni60HeFDIreJnLjDAmTwlkIvpfcs+otpGNw3iFXCzvH7gty1cwoSm7mGX+L6/qTGrtmEVxFqXn1X0Md5ZeYa9XBr0BORQBaspJolCjAxoN4GrBXHlmZrFTxRDdCQDJBgQYbzhbrNO8NJyxx6NOvVotGusWpZNpnT16xZf2El0iziHSGVPzFUhRqnMGnVMQteVeYv1573mVyzc8UI6NH7RcZpHk3D5YHeJZLVXADQ1h48xz7Gg8TQCvMSQsBjk9uvPiDc1uHceiWbFtZUdEubuAnVhehz7C5Xe7h1dLd+wQWvK5hkRN2X7oplGSjykZYscYIskG2/VXpgHK78QvWF5m/IxQIJr6kS/QRbI8Xs3RX4hkBTBq54+94f1NDx6ZqYqZJTzKbv0p6QFgnV68QQ3EI16E3eIa16L4/gX3/gb5le3ob9PduVZTKPTy8e8wq6alsjxej5i31llM1fFANZgy0ADDoCarVkQBKwEOyRxQ4Y+ME1HMcCrtjdxtLoNIx61/EFQFq0EIWzR6PPVzqCmwLu67MqO7qm99pSmC1La68RDkQID7ZfcpExNHqlVUCvMGChRaB/iyNbddZTTA6MRBt3zLe894CyZZiYBuV6vQj4DLbroHYjqJbtL0kAqxMVe0MXLLr9zr2I6ffIkuFoFr7EymyNi8a93xMA9e7a6vVgVqEbdPTyfGvmAtEyaDIOrol/ooWcL4Pu2GXpt08b5Q94kUVco/DN4hVWnoOGEtc7G0zFo29R65DVeiLqCZRrGzfu/EWyrAdS49DBVQJ0lgsqsYDq3CtlrPS6IUyEsLdQTpHBl3qGazFDcvVMMlZUUbf4VcaO/oeJuzWIYPmG/CI5aqYZYh01lPL0nmnYj34eQh0IVcwrzCRQMha1ax7bjl7pLGeOVFAdmOROpDF1qDVxlAlWrygBXiNtEKhystvuiUieFvvuO5nvATN+cYw+PeF9rAv43ExMLhhkrA0NtZojLJYjlUvsgBShwbMk4DLzXoeeURsKjwuLJZrzaLn5qPjMAI51jcvHge4DfxUdsQ+YhaYl3BoHnZ91LEOFKeoMPMQpTZ3P6ikJ0t+UPxHcxQveW/EHGNbH4Iy2IX8EFLPSwFekvTIboHbD5fEXUUCj3fB2KlvejQyVmX9+zg7cPepYiopyPvx7TLRwYjZMx2godz1LaYTt+fdhFSRgaGvn6SrjC/tR+2FlKgrJcfjK2Yuo0a7zf4jfMCC6qN97YMSeGfqWbUYUU+Gz6ioQ4/dP1Ekd11c4NIviFNuECspcNvjcdLS+wylGUcu1LqUoeSCj6ftiYwzbUcNwo4i3qBUpdFy9hENIk2TieiV6LmLcWomyb1zLvPUVyOjuW7Ms6p2ky5ZfVy/X7ji/aLl2TFSnzLM2HvA4/KMTVfqm6ODV3BtUeCnR3oAPSDVVvULPt1g0hna0CaV8ELdcbtqIa02dwi2OhNvTAHBTcGoKwOX5GnyHiZELUUJu1h7kXpHhh/cXExdvZ7mntLEPASl7ZWZCHWB/tKACIIu0elF5HHRlwYIpSGw5eZ0x8xf8A7xFr8oOCK0WQVDnDD2DitnqC+7YCnuswkvtgB+CJLAHzHsOuCDwAil+p2Qmg3qU8Ki6CrH9Tw2D5ZdC7zm3wf3EOzFUfjMxhAG+B4vbb2heEGtJpEwHXct6OBC+pymq0b9EuaDvJ+7r2luGUdQO5UDvbBXDNetv5a+vzMBGw30f3FibIOlifs+IQXT8CX3VZWj/2g/CIcK8nlPgYgUIGiMrqFYNFw0CaIbGo0uV16BKIN6BtYH+ZwWB8EY7yzHvKWC5eRTEVK2QNA2kyLn9sdYIbhuZ49FhJuVgJ2ktO8Fkei3GuPW7zBQm2XQVXOfxm7ltCw888sOv9R9mX8M8k4LZb1gmhgUsgKQt7suxWq6hePCvuZQm1VMbE0jKHY3JaBoqgLjEQFC0oTDsoS+jxGm/DU4cNQolfqqFMrDxdzM/wBXRWzO+1xFZ+6K2AOhfERcmlkS2px33MtZcy7TDKXORVbaPoI2JDbtB4c50RCIDvC9jtla6S6hB3tFw7rrEUa8nETie2VtGtYA2xd1XX2CU5VoPGP7lLwPIi06KDjo/P5jA3QDd9IbFsgl+R/E34iEmuXHCmXPu1xEjNGF9glY0pxVbhYO6DPkxAq9qmvgLZn/NWVeFhHultq8H9RMBbsPjcown/AF7Yq5fFD3YQIC2fEBcp4AsFWaBDeojY9JECJuNK3BlhXbLChN0AgcpT2P8AyTWAAdAl4sn0B+oQ5xH5gNFYPkfklBZZuoafhguXmNzFRE8YKauegLh7IK3bA0QA1uMsTa18kFC5ZS4ZrUx5hnMSqvMvt6jMr7PyzftKLKvQ7a+Y88SxdxW5hYkI20JNbVymZSVWJcQDmoVW5lAoYjYMIqlQo0Q5AgbpLePou2QHVQ5wg3BD8EY5CFzAPYnP2zxOpWWVovqCB4CZzmV1vexCmoaie8jh4gNHEJG6QOAozm3EG1SBSDSTkxRq8jixHmoaUp8LYaLMLCnyhkkKa1LS27OsxGFxlD3VLBItQLsxppahW1NLEte4x0y71dmLQT7rZb2jTjwjkuj3IUaiCCuQzXcybg0pfKLqbw6SVtJWdu0ozJmm1X5YH61mm6XR7fkl/RWxu1jdgGlgPRgIFwql+ExK3/ZxWRTr328wAg8BEPmCsdQNu9bwRWiac14or4+YNssF9fLb9kPA8Yqh9xTNzkf25hgqNrbFRZzQod2LNLTRBlvQ10s9o+zdoEMANPBOaoSfUusts4QECi4m7MSRWgCoNgmCZV10QMtgtQV5VlptlRty4PEUG4LVTAbrn9D3htwvb5ZiHiOnbb5pgWmz2p+wii0FnUYfEBQ5RXVz+4Cbi1uOLWCmMALpvk2+o0eL18QZLLSLg+nD6qKKCS2xERHZNadIEvMEQZgKLP2sxbwLM6hHoek7iLcQbD9kaXPzFtuIZbjwzlqHOM6ZDcBuFCoBzBGvUhaLcfwADqQuyDTcXSxEzF4orEHYvPeDgQPTGl81g9oDqtWBott1yYvmAqVLEqigqIKW9Am7gHB6JN4IjchS8ma7xlItObdH9XEcWCiJwyznkcuIFUlt7yitUSqO+42jz5mUAK0Mut7pixPOWhfwS4ebyCr3tZ4guSwMmv4JTyyfUptptp8RR093aj+zHvDosj6c4gHGgr5Wv2y1sAGBFe6YPEE6qDeAMHQqnAlymLEugH3CpYme1T/RBaKmLRr3qUS56D9Fyse/U/bUNRDl4+CVJ4Au0NWhyUfiBZcaabasl4dUcxLDAZW71qZ0YoBVDQQUDfZTe8C6lIsWwIAABC8iSSNHApe1tRg9LQSFG+BdX7zhf5LPF4PaYcQW9+0I+gmROBjo5bf2a9pTLVHvzCwYhcDu66X8qME5QfZuVsK2Yofqgtu1Tyk/UIswNwC1Y2SwjMA+hpfYips3l8svxe5WhQs64H318TMtcJAx0HdHBxykpleYBVgCV/kpfye8H1UqxZLuSp3SdlCnZ4nFZEuU9FRz9y93HgZ35RsR4X0tJfrFMFvcsu4rrCuFzF8S2PAYKtwfMFwxYu4XA2qwaJxiBMRwtUbYYFgOEWI5jFABlUs4viVpQEOx0tLesYMlFI2WNWR9QkQvGz8nMtEkYUt4Yz3h3JVS7qz0KI5uDlE5uyQidKJ0jiP2zoG47SUVhrRllPWoRMJQi0tmzPzLF0ig3cDxYvsy2iYGGMpxHe7vOMNDyxNK0On/AGiK1MSmfG8GB4u/CIfVF7uhMjKuq7wNTLwIYEgzdwUEv3PmZ2Av0C8G1aDGJRhRhtdBOHV7RrzpDwx6qs0xDS0gVQVZdjpeYMIFSYzZhwWy0/txS6AaBkmOYcnKySUK0PGiJt7opBW3uHQIuKBgO3jZ9o+UOsl85+ocpDxnj4laHkD0iQN4Jlm5T9gry8HzUedat/rrOClFL4nXWMIHacOGYl+JeSnD8Qo1FDnh9C+8fqG3k0bO5B7zWYucGa6zEKOINIpdQp/MdqovcftFSjxELTVZHmGYQqdqh+5QS4yqzE8dxuMpcuvQbj4Kyr7s88ZELcfqd19I7z8T/wASeWJl2jwLPPO5FulGuskOX0As/j7wzvEc9pV8xe0Ym6yzAC3UCmQ9kHOzVsMpcm4VCUQN1XWWXYELsKIPH6KFLoycbuLxSSHsM4Rte0UZFpF7GTJg30gOj2K6pmL77iaF35zlKW5TMdNiTsMujcH8cbNK7wD4uYRxOpB4d3tzUqFNNG3iAD+qyPI5JRsYsi/6fzCATA3xl644gSZVMUyieQfaC70GmykUcIN8UP1Cen9S7KPplOsigwCSOkhtMPQiUeEhge58Iskw1ZY2jbRVkhYDZjcRazYaNPMWBqHa1SJy0qt4g5GNntGib13zjrM3dbbD85+0cNVR4NPbPvCMwWr7we9YXa0d8W4jo3pu8Jr25hbN0qV5uPhOe52gtPQfmLbAxeISOL2bWo1ONScJFntX5fxMAifHiYJiBkhFjK3uvsV7xbyMYgaRjAcbRDTbagcj3AfaAHoO9kUG9FpfJEDF95eBFeYMq9CY481kiyqerEY9pc2ZRYjkYMgjAP5dZZnzjcsk7gKsOaLYoTC4Ha9WNqKfG/8AspyMzUR3nxOxOzOifU7D6HZnZ+vSp0SnSU6SnSUhKmSG46mpsxUycXAx0i5wy8V6Dqf2c9pYS0JsRzL7KTFrlezBYw30U3D2bkJSoCGi6DSDGWwiQtFbngAgw44AuCKtk3xa0/CAJrojEDjgKEYuCYAqhiNIGlBLhwECggVIBqg3KL1c5ZRcFORAslK4QG9U0CGAWrjiWEkEGOnbhkNUrsipUAVTfestKvFO1opEZAUU0jkwXdJ6R4AUvI7NxAJegCFmilmHeBj8yxCOl5BRbuAm4BVD3lIDBxjKlK4FJDwbIWgoILOg3rBnAWLoZsJT742dw26gvbVZXsPuZ2lBBGVoG7dppFB6goM4shCWAkWoZgYK1WKti6EZj17CrANo87ts1tO7h94NMWgSXQ0YadnELLQLhVlGx6LyTz/gWwH4/DLbdW2ssseG/qL3bJJUbWKs8bhyMzGxZK9VqOALmsFsFvlNy+AVkocuSmtEs5gQNACiWKFVks611rp1hl1OzzK27qFGrXpFBtsR5F7l7BTaNjGqGBKzJ90CwlFWmwMD4CJNirzL6gFV0EHJLV0/u37ymOADtK5Bx6VLVlwRYvwejz38y4iUSAORNMNcYVjvP1L1yrIV9oAhp2ZmW9cylNp1uh7lnvBBbC5t9B6nMqEkvGzsnEYvpDFrEss3WSDVfZAK0C8TBTiN28l5lOkTuiVekp0JXoRvMekC7ikVjNonaJ2k8c7BOwTuZTkgl7nBLsq5itkOz+IVgnrO0FpgWr8Mq2vxfC7EoFad6YJ/a6HbV6VkW3LbGLsTc9OcB0AgCTy4UuuW8DJc2Y5whDsLSwLiJt3ElKFXW6E43LEf4tf9YharRuqvGp2mAqsFdS64mLjALomQaoSNuYoexKAFSJqNYjAEyoFtAYtlLV51VZsZi6qmCNA1RSlPDcYAe0doORERGMBQo9ASowycFY0i9Wn4lHIKIZNX4FlhJZKYplWMV4haxVUmXbsMPBEBk6461pUms3AxCQ9QCEyAsTIhNiXRojbA0O6t5MNTGzghi6vW4/WLMv74KvZSHwQS0WZfb8Q11ZHZT3BB3pL7KjVWPMUXoJStoCnNo90hxDjo2Oe4jxc2sAqWNAorzcPChoWL+D2l4BWGhrRcJEvMe11MYR5+ifpPaDe51EDOJyEU2j9g1vekPjvBDmPQSzTDMw+xeF/EF5zNeV/UIUwFw6iZt4it3EmgEsTYksVq7wPcZDtmJ1qLab+hCbJGnA5o2+pd1Ch5DsBgfcAz9Icp3C3MilFKMOEW8JYUXNEYL3nHL3a4cMItWOJqC6pUpAlcGYTqEv2lrj2kV1J3fmU7Y7xHWBiWU6zaU6R4VLHWPnPFi6xcp5mKy/8AEHpNI9iRCIBq6TYsyNNmHg9TvngNwRgFq5Rta2qET0cBu8wPursEIthbBXWbhIbzwYdf6d5WG8HDqlwNpDiGRtnmF9ZUyAGhAqhqN7Ql0ra+TpEhYtZePRKv018w2KYrRMWNAAtGxigePWkNnMsYRuvEVHrcAaJ2MfnoxZgA1Qu1bdhRGBVDbbSVLxbO0psU9RRpKAKGVcQF2rAgry9wLcROajSHIaMNa0YAQh4AWtbJ4NokXf2YYEvjhUwqtjJ4uFdCgk6tli4dKDO3jZKwRaU+bz1ZK0GRQbaDFLERWNCM+N0XLSOYOqCdI/8ASPzEiRtnLDX4e8AIBe5YfhIn2gJyyB2F8sNc011hKIY1F9xtX/UKnWAsq1gHrXSKEYEYHGKGJY40ioe0uVuHjYx7YAwvX2no8PmOgGmwu4YTwzXe4RfdCA1ABNgPkRwLL30jlHKq5WFbKwA+YOgbKEO7+XxLMK8i6xO2LYL9De4me+YplPRGQ2wvFJT4AiWdih93o2xLTSWxSxS41lYocy/aWnJO9Lb3FXKsvzM9JcvvO6Xi4vMwnvl+kU6S2Wx6mCkt1f8AxjwL61mI8hO8u9QOa9gOIhY6sRzYyhg6zqug1qh9oViCEZtYYIVkToh7t7EJjzTarFhkTNAkmIjFVnaYEgJiRiGeOjDVpFalkY7tILKWnLy8OyLFu23RpnTTZd0awRQBZWgDhIaqw2r4vIwOK1CXvo1CgOWaFFgC05E4yHqEpQFplu59cbfmdNXXaYa0o7klUtENAuCLiDpMgWixFaLoAFUpVQYYZBknQqVwVq01iPn6oFtlmXPMoSArEAxTgMtce4/UEyEIZRBntHwgK8Lf6inq6rsr6glqOHCQPva+Y9lsIt4qWoApvqv9JAOsWJ1pKrzMKXM7HaMaFInYP5m+jxD4JXIlqqA8zkbxHvKZ8D5ipWpyXT9rMpNXc11DZUYYMyk/KDBysJQrMJpKuTUs4qynmO8394yz0UC2DCxi8wXDFXfrUdy636Wbl2MOsb4jXHopUsFDj+ChLeJ3RXj0a4/4tvj0JpKQ3FAPiz7uIQSIUNEmCYLbSGOJH/14m0xLtOFriwmACwL3dzpfWLp5WOAg8JqtNI3ZXet6iRK8M7/0BBDBc2SdEerlANAELyYYFbgkkWwOIoB9lqAMVujZRYl8MMHAMrQBW3sZh0GZSsYYbgwsM8p3PzE3aDoZ63xECE2myKvIy1yBRuwMUeYN6cCCasjaq1uDk+S4bmEI0bpagdmqsJ7LrvL7Bu3WLH3+YQESFSlrRRhTcvjWFzETCD4E/KOhtXz1D8VFbvUzuZt5jK95YiAtTVEDr6m9fB8XGuS7NXfn3MJmVBGhD/kIHXtXT6mH3IMseLL+4fNQqn6CPqGzm4DbUo4aiwkW1Uwor98JqkA/Mq3NEFtxc5cStATx/FbzLvcS7l1hIvSb9LOk8Jfd/iWog3AIeZUHSK8mWdRHX/mVk0Ig+7UMsmDqM0UsjYa5NxocLoU4hdXYoVaEUhEbALwUIxkWeVuUxgZs+tXYTYQXQFNVa7iWMbIr5OF04XWGAwteQW7LC6HOIUoiLgHZ8g5hnRNKNagALixxtdx0dWE5hS0LVZj6WqtxAb2hZW6aKVdpPsQWEybisj/iCTxQ3BAN1Thm4cw9wWQJSYIAMRl74pYOAMFMWagkGV7SlQxmgryGxB/cbdCVKAfAHbGnFXSILqOTKBsSFWoMXFtfqCwCmpbJg4lm92AL7yvI5mrMBQK2eBbRbU9YBF25yOpbk5mzvDRZggPmLOSHR8f0B3i7Hb+AXL5PmdNeaDroHiFRkOkAyitSajGLhu5B/KqX9RQHr0x8lMZLo1V9T+ZloM2v5LEMK48XfuDCU9f+6LI0jIc+ZTNMXFqwvOaXxBFU3J7Rb0RV3/N3NZlc3EzmVmoA+myrggxr5ilVU3Epr0fpGrVma1ZUXenvKog95Zpv3/4WwzuWy7mBXoyqub+KXsL+pWKe7wdqsBy1E14Fq0eaRQVbKYfebdVUywZz7MAQXI5Unu4CAujASj54SwRNBCCqqgYKARiW0BkAG5RVtj+ubAuuDqwmG65uLCxut6ZarW0KhS85vQCkrGt8ODm/RsiJnF6DE2yp1xA3rkAeQEJVoNxIqw4IpqGBBM9rmsinqNfKopKwyYybXagGCFmQ1jHAwtc4C2gufiwIzaqEzlZKVHthIKyIBYK0BfBKWglZmDR7RK5JUCsFcGr5ambS5F/gIXPUDiLtSgIKggMmO8FQVBq3rivpGqCQRF4wMOJnUDKgMMFa9UwO78MpxvETo0+7DoEMVWEKK8S4it4R8XAm7oKF+auUXZu1Y9AEzakC3dID96fEyjM3qdh/sjifBWnWzXuESyOyxCwjGLjnjmAyLLUCujKz2dw0Odv84Hy72v1Mr2ciM1Whq4AAGBRUGteEDWZW7iBNbi7qZ6fw9pXb0DrLTPSUwal3PKArEs5BndBRNu8oEd4tNMegVfq/iUmypmqMN1g6YRJqk7SdCRIW1FUPSektcH0NiMAMosKLLs6iHpmN2Mi6QNqKLDZVHjJIVoGccmD3InlvQ9/q1LWTVOQTekmGvCkFBQoNTg7DAJ4YKqsRhEC1wUIQ4Eu5wUkurQpUxgw1SwVqH02JW3RgB3wy8LDCwSmAr2XxhdPOHwx2UeYQ2V2jYolYlIwZJMvaUNIu2jVDDWMQM2kkGyKkDEaoIBQipERKr7MAMgYG1e4AiKKTFuYc8ZJu+J7C5X4JS29AFq/IfaOdzAhOY5cQ1WNYhoTBAvwITYD2jClNUEO0JawkVlXEJVoRWNjeKYPZSu964w+5KF80NHsw/BDRp/7Xb7lqkIaDLzYxB8zDY1DhMwhgxbguozlxUxrdphQleCJGbLTFyh937QPWJOfqMGC4q7hJpiPE8EoZV5iK3P8AczynlK8seieUzxYxfVOgmbMrpKFBkiC0K6QEGGURmHr0cSvWOks8UgTSONJ1IUVb8yg3fvKHFxdZfmDm2DYLlmWDePMG5+4PziA+iHKsuTIJ1PvcbFm4cIxE2vCKlIq7tcBMRLDs+RaOEJVAeJsrfVUfCGt/e2YvKB5i1WEqDpptgwFDhS41QBVBuLoiK2atEsppHYXldurRrmFZc2g1SNZKS2KQMEukoR0Mr2Z6alATnFXLs0E9SgojjiBjpHFdjVaAQhjEzGlhkoJFEsWSgkEoXHdOBV3GxRDH88pSKxXVAbAP8QCV0yjgzWG9+SSa5ZDWAVDKyoNQi7SALSoAziCCypIz9woqyo8M6yVC+5FI8MuTLbV9xk+yXt2IyPWFgb2nIai6yJHLBHrA1IRPdKGREFj9YSy2JWS3MuFZV3AttgI2jATTuW3bfaIELyB8GZaH2TEewfzEjwIdfIs0no4vwI4HuC/uYTaqx/uB3uFI70CpTJHN5XDaxxxOu8dZZnMp1gl5leWZu/RWHNHwlHFEA1iFHP5jUhumBnPm5YGnvChamHaO7KjQiwgwrpC2m+ksAXFYB8RFuBGu5KMKJQO3XErSqYJ6wezctzWpbSn1DpSz0gZsgeLPiAcwHglXCdl8RBwl0SkuYnFNlwy90mDmXnJ+GWJJvx/6j8bFoaawV2KmkGaABxedREPA6DttKH6oOtCipKXENM1AQMcriOEYFgpMuruXlragBpKcS3EiNG0eAWviIQtsslKGcxAp+VrNlo4Q0ZlFztrpLBW6cU1q6UOTjmDCDrlANQFEgkI6kvm289e8GrPsOGxb8y4x/oT/ANh+bWFEI058zBcgPeKeGviCSFpNCBfuW6Sq7pIjp3XXHM99/MUBFNOyT9MQMacRFr8TMXcxR93GsrCyktGnusQTL+2VldJaGB92I5QXUH2D+Zeg7pXHyD6j4LaAD8vuXzn8foTqj/rmPmH4o/YxUKreR8ohv0AKrq01EBkysHpcamzkBiOHzKfKOLg2rGo6qNQdt9Jf0L6RRxKYgz6FAqpT0lMplPaK5nhLuGo6JK0KlFiayssBvc2ilULY2uPuC5LhlCj8I9Kh51lhtuYqLzMpKV8RrrKWNkp1AnZXpN4iO6lLLdJa5TuYFu5lKGjEqnaqDgY+S/qWcVycv6GoupYtCG+8ARZQ7ViG2Un3KDuFUtS/y4+BGGpybpeAlQ3mCxkN9sRU3Xk0qnH1H4HmRio9iveX7hXZij3APvELRYKQGbi8vtMx9peCk7Ot95QXoi+MTfIs5ir0VTZbT3u41KdBa3zHo0ckoOfiC67NxVtbXqxwgKolKSq8QtttEQw0YNQ7iLvEAvKB6uGMngDVByHoikCry3AI8g1Z0vsoMo9OhvDt9QYJdinsJdRMwIQ8qEUud/QKGN2Pa58pleVRtltg9ECtQvIk7EMix5gtA95YzPiCn5m4jyHiZ4jTGLN+ySjRCAtX4mhBnl0Wv4hRS9LMG27NLfpRKemP8Ro4JcXFxdTymWpfLNSyuJUKlt3FTglustjmUxuZI2YDYytZZQ4g27iSMEIq7qKNku8TopZwEo4j0JULZxK24lMuJzhx3n03zUGAsjt8Q5wQskTsTN13FZpS+0Yf5CMBVxAxVV71GTMixYnRrUGEEyd5ShHkFGodWQdoeXvD2lKsZinYHwsD4scaAN0QL7ixChlhrVa6lPljnEbktiNOAWbiXhUxzFM2U3tYazgCxaf7rCFHRbDLeejTLroOwBZuY0GaVS0RvMmsMd2K7Wql5X0O2PZMahkcP2dkOOoVyRVKbxzEBmm+rgU0xdxjUm6jcB5nX9kOQSkv6Ez5bwQZyuJYb6rEs+AI00M8MS5XpVWoi31gwKF7dSq0KYaclb+8yxVB0ywjKjxCZI76svzG3Ec+Z74dQzLh9fXKjpVYhu5yTsTN0y90RTzL1BXv05pesxkLgmtMBcxQSVuolqaxZHhLOk2YR4I26QzYgmGJckT4I9KYrCWtQKAmSYXUKOIJINQP2Dfwx7aNXBdn0y2oq+IfyQsbSlrNXdfhmyEqWcxWpVNpUF9rmIcwbF00UMeBO8AQoPk29lhLVwVVo+G/uDw3RRKL73cHr7awVTz9xKs0tw8VtUaSoAAabq/f5uAha7Rw3scHENekVjiiIc7sccsKWqx3phW4A29SEaeLyH8x8UDqOv8AcpVx4QL0geaiDklTkjaAe8LZa1Eu6XV9PiWsJO0Qwx3twU1CziO6PYn9UQDORKFIPIhpE8xTt7Rse+aIqJfhWQ9JQH0l5pCrncw9IBj1pCPEzvR4JTpK9vmUiJdzfpXLekPNxWrGYeY9VnffT8s6RGzHoWHT0L6me6e+VyhZwxBuyaVwpzK9fQy1cQV7iSUTi4tYguSLu46OS0Etq1BBRpSzF1Nk2iRC24/1QWse5prOo+pqwtVt1eyl6dxoU5bebHE5BSuTr1iwK1dp2/uZiGAXwsebqMYpNcjbWCCQxvVH6jABfQ/12joxvHh48QtMcO2ivm2XUTKWyJdVXq/7pMUX5RpawRirRn3uN4sCoQ1Jy1qV/ixhDC2/Ea6Jtcs8fc7GYm8By7LDtQbkjNUVl4PtCS1c7i8he8WyHzUvgD3JQ38E57CBa3mKW7XViXid4bS/EuqkWz4EwWboZZvF1oqEo5LY9o1V8sJ4RzW9w+f2RodVWLGyXE4hBdJ4npvVY9Os66mGgjbghhxPCNSViL4gTMExhjoqJd4YlBHpDGrUYaiOkocSrojeMMVuW6S7hnYiXEtHO41sYjq5d1MNyn07GIXuUTuSi8TkqEZpFVdBLhI2T2UqHVuiIJUQK3d1BgDB264hFq5cy84RRwF78x2NbpvZ0fLFePT2d+CL8flfuYPVUla4+pbThzpG1lG3HPWVQZjbn2ifhAJzu+2YJNk5c347Eu3aDSGha5QJg+fiPgDAFYChqIgKpr0iE5hbRxiE2YO9wfyR01qN/KUcyPTB5kWkViIl0L3LUsd3TbAwl3cgP3WPIfabQZLR7JGbr+sqfy/9o2Uj7oHXyMsI1+X9w3Zff/ctWpNLb7BLDKven4jPWbS/mELQS/qvtKiFYL9OA+FlCyVft1CUeweYCJV4g8Q6oBnhYSbxGyexOKyU6kat2RrzMuYg3FX6Mdtx75aX5I2al0H0YlqL43BckER5sKOWot4m+pcwviVlHSMgJVxfJUXwS4lvE+eFmWX3TL1mG2UoN8zCLWGXcAocq+gL+og4hiIWtGJgxY5XgcvO44MxENr0jYgszJfWe2ccrov/AFF/JB+6XauIe8K5nSOZQTbt6RZDK7WHZKO1deIid0mMxbA4XD1WnLEmthef+0SqFbhjCoXFXcEEHFFah9O0sWeVA6TLK6srtu3S5rFNynSPpUu4BV4vQDSLmqxKtWemv3DnC9S8HZ7MMc24gHgD+Yi9vtPn8CPKccgzh11yU/IS9QfJzShJQha0GFzNX7vJrwSgLnX/AEHtCuTFh+xH7jA8cOPsL9xKDEUCvGYuStpawut9FliU6KRfmUsbCLbIvWC6xDmLSll+sv1l3cvHO7j0anjMOILpHkkMVh1s75U36HejNSxAkSZqVFYGPF9DhhlOSLMQtyPmVGG07xKt+l34c7OnKDqAdblFyYmTTO2wz2rJ5xS3HEZrNEEIofPb9CIxahb/ABUuE5b+DtMw4eJU1Eoq4tqKqoqPeXbNPPESqw3ksMpsZynB8fJHYQHu94vR01gVRKRVtzygDeNDxBBirxzhKyinJ2/6jINBsMSLlKOBpM13jwNBhY5/1EVNOfSzVHmudb0EmEGLVNAe8dWnNyBPm6su7LsHbS2MCmjjUntp+ImTJxNspg3YZaWzEBtaQUirNizd9ZUCadRrLBszjnRLLX4VvqIFnWo+IOG8A15FhNXE6+9wKSlhK7GhNsr7dO7l86lwpJw0RpdYidbnTX1F4JczLOQ+o6QWU8Mu4mPTDv8Ao5Q8YmqRpzHdcXdzBBWrlTSxsu4bDO4TPbKVuBFtlHLxEPLB4+kOplbu5Xwyl6kOhFO1FOh+IPmz2mfX4mXX4nXdsFebZ4M6KlDiWrbFqoAj1zCzxToRq9xaWnQiMh0j3Ehfpy+8EMXHYUVidSEDzxAF3gOOYBf/ABBqW8T4lTqUDKrURmXiq4y+YoUNXQ+VfjcBb7W7Wbfreb/36iyrfu7MoePkQwxgvNasf7gLdspVg6sJTaAaOiu8bqzKcNhtojsrZSKOLrmb6ZlwxJslPMpvUBSgDrAfYPtDE0vcEdH7N4z5i6guyfX9p9Mjvjj2iKVYqf7SCi6mEO7/AFKSF2BQdSWniMn4jsK/BCHxNb9y+q+7j4lKFMh+VxFcW7QFH+/eWyh4g4td3ADNxM9aC6bq2cGfcfdRPCz2hMMGUszvi4dCHplLMGCZtSrYQsOLgB1DsgptCUuCO9EU7qF+kOxE6iNC4BrUo6ylYLlqrE1tuaSylNVOthzemNYZQcT/ADUeOHpy7pOvUElqC5i3MFIe9lP/AFK9X5gvmA1ExZuVGo6d2QEuB4lKelMFrY1z/cwmZb9vRprQdKr+YlEUvF9jlyxH1UKKIpUMzCpmWV82EsNhhN/pGPdl9kvYcj1G78b+Z11K1zLS9OTX++IBiR2x7P6Yau4Kw4/3aWrYtvN3X9xmtS0Gz2lLzhUq6/qE9oQFdH7lSdksOLlnDMrKc4YY4LVnPlY5grcOEB67FR+QmKDWVIBv/wCgP9xlSKbqUO9iIAFWoSprE96MmAWniOGD8kToO8xUZMmbjbzHrqXEB0dJoRFcIqEirspjMv8AUR0Z3UVuF+ZS3cExEtLDf3MBBuYboMbJQYSYPSG2zzgesWdGdRmHII9eYtwYXFtMUYOJRySzbOSl+bjVLCwqUxFHGYByTileyi51MeYW1Kcy1xLjK1HhjqMXe2PfBe1xKaDnBd6TCYmJnrJiuhiLpBZDauovvwC8SttKolqmqI9dA0uwSa5XwwySb2u6Ba77ty0iymkwxyPh8xitBWZC8XMQOeJSiV9N5F+WHWPmA+jrqJUFP1AXzW4gYWFjCavudY5O6l3Yeep0YbitKO98zaczywS/uoXS4X7HbD2hNvOCrBWvfSpUCLAuqjZ9hHXrLoBhy3bKkAMzDxKbi0oyrfyygpdxxRVHpEEEUMpvox4K2013P4YIrMYSNDHEeRDF1PZK04tkzWrPBZcOhuWSGnDSoPZe+uEv2CCZKVSENYu8cQcywlZnPSSdSn6qclTZQAxAowxBlCLgJgyCCeg03+EoE2Z4wLPLvPbYu5YczOHD1kBzK3JHiIEi3EbJR2R2cYQ1sxlS36HCAtZVThj3iWaJ2IDuWGZ7LE6ErpcRdDh/ojdq0UaWFtCsxoXiyUjTlmsKABKvWHC/3U1C8o0BLYRLCyxkPjrDuAi3fUHWla6xZoFlsLuQBQgpQUVdMMf4v2ctvS913mzx2WL4xHcLCpyjiti698MvmFWWH+JdG3tins8naV0Uq448f1H/AFjqDbpPEq3BSDCi/mNA5rCKk3Zm1f3BQQYWAzlvFMq1oxehjhVMEYbitMVLKnmVqWoMf6KgqEbvxhluy8zoRHxJ7xneVdYSl5mbDMnVxLdVgD1An3ihwRdTiIhdFdgoNBxGNExCO0tRrLzNxlx7WQSViEXEoGpbqS+ojXYg6IfaGozbkwbyzL95cKbwpABwa7wku/7SjmA2CnMetEtMG5lCBZQ0ynMC4l2MSnAMuaIq9S7qo9U7l9ppfTMkH7Et2QZz9IHg2jZcW8Z2MqNEd6FS1cDkjL4LYWOQcBfaPdspwBw7oRpFAQ6U1F+Mm9a2jOoLizY8wUs1KgKeDFjXaLyVchdG4FfGe8epDqrSmN3eMalyYRadGIKeYGBYfAohqoOOJnaucEshMgC7PHWU5rZA1fV6XtAqxjfQfHR6zCzKyoyj9ytCQQKENFVChQWW3YFEf7IWyhQvIl8i0wDCMqBKXxbdInOnx1gK1kTkPmNOZfQjzqwbGu8JE9rMZ23Hm8NhgX6gbWTOoCE1m5e0i0bGY1tTTB6wkhtmxlCvRfzNwBTOFtciHEQGzPhBmau8V7mvYA+PjZQsS6soHqIVnRjhVvaiAfpYC8RbiDa1YV0sE5WLdsj6Qs16RjbVTDkZeuqKDcteWUNEHQLHDUos6kUq3KOc/EbkiKmH4jR2+IvKoVWB+JkoXxM8XBOKZm2KWcKuBTaNodP1nIvxP/FieYFo01HgS3QxeF+Z2E6CR0ohN5Js5TE1letFOPuc4Ax1n54isOuQ/wCZwoDBjlGiEoXDuuh3hqkCsNU/OfqZzM7zwvWNplAgKGMHjL83FpGCJpqP3+5YltQsRsPQcRgRqlBto48XCxAxsOrfQnSMtCbV1/0YYoGrJlEZqc/+8t9Gbt0vVUkXdQeUgGu1mcqy5uCQDAFBaTDd9wG0MXyN0lHLDEhQMz3b+QitPiIXus8qVVct5MpyZjnYWGupqUXW0n3ELD2Zbu7O0vABjcCHJy/6TNS7jIs3XQD+QjJZjrMFcyga0owAaxAuuFzmr/ULcZsy8yhgVwPFpc2yHm8txbOw/EecgGlHqWYN/iJQh1nB0R0R7x2UqLS6xV4li0+J0x8R6aPR+EUNFw6avEa4D4l9p7QtpiH+iW+iotKios6WFJaFhQXBfMNCYKkS9RoBlXoTEvaTelqFW0Xu3ScQILgnIi5XrMNw0xbLN4pc0MU6LCQoxpthCYaSxlv26sQCzcWSt5E/ceq81JJ+9gvCsRcg4LkG/mbDoyuWUPQTfSFma9pxjR+dn7jMsWKt+CA2UvVJ95ZjK9jWfMB3AlU+7BextRFE3faHRGwU/PeFWRnbi7uCh7mC2Qy6c2L5jEv5sCzIqOLWvMTEJhIcuvlLFgV04iCWIFP6oNQs7A8RLWVUR6lq/wAd4lpzU78UgV190P8AogW/2jHnYOqjgKAuwNy7Vw5bi02y/wA4t4Ax8jCpVubgl/rNhA08T4S5yIdTn9RkSoBrxfnKdGdHhlea+IB1UXsqXEcVLMMBAmWoDbcHjPvMLcKCwRHYiHKRs0RRmiA6EKcoJl0mOwzIzDZqKbqPUlGi5a4xyolcRddRTzHJT4luwiSaPNTWvYGeHVeJb2BovIgUFp0mWo7PfBoiIuy1tRy4giSlcUJOhWABwMTpy5YQo4ADWmFGW09nR/mNe1S89LZwUuGcAHCBziaYBteEdgtKuIms7T8RArjLOBAG7lyFABMPmBMqUJQTKEvx8zRnDUZMWSHR+8JRglxYsPXNL4JnRgxLHV4JYvHZgOH4jKEUep1iAsEQviezIN2trfUf6horOLRMShGOihitEx5iXUADbC8nQ95dxEn/ANhvWU9dTcLOzfwQpM9TiMZWDkCHMH6anoCr5IXJSKpYeY27Zlozi0wC/rFuj7xqOmy8FhCrSWLKvSXofgsMotNQEO2JlrbrUdKleOMMsMeIcrJxo9pjIUgvIfpYqO2YNV0KYAn5UX+BFEMRxai5tjuWJmruCcfg7Zb3S1lkZS2ppXmV6pZ1gm7iRwYgaFLyw33jfMKlAfaOFgZl2WniDALAO9l/QR4fgg3pmGrgtvzLtb3PCvecKvmK6A94nwPeXnXymauxEb0IqYpUpblefxg84NzpVMicMvcjVlt0bWjUaF9pJSmqEwp7xUYptXazBi1FkG0UafzL21d4Ft+WcH3Q/wDdENgMvghK+iHn/wBxVjZY+IFAHS94am7bPqXdZRq10laDlN0LMxgsDznjxA1d9EUqBNsHaNtpigddKDrBbSXmZatvvGXbFHJvivuCoBSmtnXrGCgKM9I49UCfBL2SL3Lf4gjnNoMp/lmAsFPywLNwUWLAi1a6zHv5QAq35iAssRIp9q3zSOgxKxwU/JmSWAVjZN4cs3SC1ZDtLt0bgF6RtUYmILuOFTP2PSIiVQHlX2sBeHDFr0jhn5iC3QfpN1xDrAUYljW5UGES2kL/ANUBoBLDEV5qKmRlVhjbuJlm04ldRK7sDaUOCU5gXzBTlmUCuZVXfzGrn5gBeYXag7tlZYoZIsQBif/Z)"
      ]
    },
    {
      "cell_type": "markdown",
      "metadata": {
        "id": "GpFiNaDKIqQ4"
      },
      "source": [
        "So my meme is from our previous lessons and my experiences. We've been learning linear regression modeling and training manually or without the use of packages that makes us tired. But buzz shows that after learning it, you can use the python packages best for these applications."
      ]
    }
  ]
}