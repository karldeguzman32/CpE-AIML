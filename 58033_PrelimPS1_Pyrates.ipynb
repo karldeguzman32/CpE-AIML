{
  "nbformat": 4,
  "nbformat_minor": 0,
  "metadata": {
    "colab": {
      "name": "58033_PrelimPS1_Pyrates",
      "provenance": [],
      "collapsed_sections": [],
      "include_colab_link": true
    },
    "kernelspec": {
      "name": "python3",
      "display_name": "Python 3"
    },
    "language_info": {
      "name": "python"
    }
  },
  "cells": [
    {
      "cell_type": "markdown",
      "metadata": {
        "id": "view-in-github",
        "colab_type": "text"
      },
      "source": [
        "<a href=\"https://colab.research.google.com/github/karldeguzman32/CpE-AIML/blob/main/58033_PrelimPS1_Pyrates.ipynb\" target=\"_parent\"><img src=\"https://colab.research.google.com/assets/colab-badge.svg\" alt=\"Open In Colab\"/></a>"
      ]
    },
    {
      "cell_type": "markdown",
      "metadata": {
        "id": "fte_zsqVdp8R"
      },
      "source": [
        "# Topic02a : Prelim Problem Set I"
      ]
    },
    {
      "cell_type": "markdown",
      "metadata": {
        "id": "JpcY5oJ5eFxA"
      },
      "source": [
        "## Case 1\n",
        "Represent the following representations into its vectorized form using LaTeX.\n",
        "> **Problem 1.a. System of Linear Equations**\n",
        "$$\n",
        "\\left\\{\n",
        "    \\begin{array}\\\\\n",
        "        -y+z=\\frac{1}{32}\\\\ \n",
        "        \\frac{1}{2}x -2y=0 \\\\\n",
        "        -x + \\frac{3}{7}z=\\frac{4}{5}\n",
        "    \\end{array}\n",
        "\\right. $$\n",
        "> **Problem 1.b. Linear Combination**\n",
        "$$  \\cos{(\\theta)}\\hat{i} + \\sin{(\\theta)}\\hat{j} - \\csc{(2\\theta)}\\hat{k}$$\n",
        "> **Problem 1.c. Scenario**\n",
        ">\n",
        ">A conference has 200 student attendees, 45 professionals, and has 15 members of the panel. There is a team of 40 people on the organizing committee. Represent the *percent* composition of each *attendee* type of the conference in matrix form.\n",
        "\n",
        "Express your answers in LaTeX in the answer area.\n"
      ]
    },
    {
      "cell_type": "markdown",
      "metadata": {
        "id": "ecvTmKoFvB4A"
      },
      "source": [
        "**Problem 1.a System of Linear Equations**\n",
        "\n",
        ">$$X = \\begin{bmatrix} 0 \\\\ \\frac{1}{2} \\\\ -1\\end{bmatrix} , \n",
        "Y = \\begin{bmatrix} -1 \\\\ -2 \\\\ 0\\end{bmatrix}, \n",
        "Z = \\begin{bmatrix} 1 \\\\ 0 \\\\ \\frac{3}{7}\\end{bmatrix} ,\n",
        "K = \\begin{bmatrix} \\frac{1}{32} \\\\ 0 \\\\ \\frac{4}{5}\\end{bmatrix}$$\n",
        ">$$X + Y + Z = K$$\n"
      ]
    },
    {
      "cell_type": "markdown",
      "metadata": {
        "id": "y49gWHydxW0F"
      },
      "source": [
        "**Problem 1.b. Linear Combination**"
      ]
    },
    {
      "cell_type": "markdown",
      "metadata": {
        "id": "eYX4YgK-tLUX"
      },
      "source": [
        "$$\n",
        "\\hat{I} + \\hat{J} - \\hat{K}\n",
        "$$"
      ]
    },
    {
      "cell_type": "markdown",
      "metadata": {
        "id": "WU1C4IQby1hA"
      },
      "source": [
        "**Problem 1.c. Scenario**\n",
        "$$ \n",
        " A = \\begin{bmatrix} \\frac{2}{3} & \\frac{3}{20} & \\frac{1}{20} & \\frac{2}{15}\\end{bmatrix}\n",
        "$$"
      ]
    },
    {
      "cell_type": "markdown",
      "metadata": {
        "id": "Uvb1MGs9QNVt"
      },
      "source": [
        "# Case 2\n",
        "> **Problem 2.a: Vector Magnitude**\n",
        "\n",
        ">The magnitude of a vector is usually computed as:\n",
        "$$||v|| = \\sqrt{a_0^2 + a_1^2 + ... +a_n^2}$$\n",
        "Whereas $v$ is any vector and $a_k$ are its elements wherein $k$ is the size of $v$.\n",
        "Re-formulate $||v||$ as a function of an inner product. Further discuss this concept and provide your user-defined function.\n",
        "\n",
        "> **Problem 2.b: Angle Between Vectors**\n",
        "\n",
        "> Inner products can also be related to the Law of Cosines. The property suggests that:\n",
        "$$u\\cdot v = ||u||\\cdot||v||\\cos(\\theta)$$\n",
        "Whereas $u$ and $v$ are vectors that have the same sizes and $\\theta$ is the angle between $u$ and $v$.\n",
        "\n",
        "> Explain the behavior of the dot product when the two vectors are perpendicular and when they are parallel.\n"
      ]
    },
    {
      "cell_type": "markdown",
      "metadata": {
        "id": "IkP57DQg3dyP"
      },
      "source": [
        "**Problem 2.a: Vector Magnitude**\n",
        "$$||v|| = \\sqrt{\\sum^n_{k=0}a_k^2}$$\n",
        "\n",
        "**Problem 2.b: Angle Between Vectors**\n",
        "> $$\\cos(\\theta) = \\frac{u \\cdot v}{||u|| \\cdot ||v||}$$\n",
        "\n",
        "> Hence, if **u** and **v** are perpendicular, then their dot product must be zero\n",
        "\n",
        "> if **u** || **b**, then $$cos(\\theta) = 0$$\n",
        "\n",
        "> if **u** and **v** are parallel:\n",
        "> If **u** and **v** are going to the same direction.\n",
        "\n",
        "> $$cos(\\theta) = 1$$\n",
        "\n",
        "> if **u** and **v** are going to opposite direction.\n",
        "\n",
        "> $$cos(\\theta) = -1$$"
      ]
    },
    {
      "cell_type": "markdown",
      "metadata": {
        "id": "_cH8JpkBj1xS"
      },
      "source": [
        "# Case 3\n",
        "For the final cases analysis we will be looking at series of equations building up a single feed-forward computation of a logistic regression. The case will not require you to learn fully what is logistic regression. \n",
        "\n",
        "$$X = \\begin{bmatrix} \n",
        "— (x^{(1)})^T— \\\\ \n",
        "— (x^{(2)})^T— \\\\\n",
        "\\vdots \\\\\n",
        "— (x^{(m)})^T— \\\\\n",
        "\\end{bmatrix} \\text{, } \n",
        "Y = \\begin{bmatrix} \n",
        "y^{(1)} \\\\ \n",
        "y^{(2)} \\\\\n",
        "\\vdots \\\\\n",
        "y^{(m)} \\\\\n",
        "\\end{bmatrix} \\text{, and } \n",
        "\\theta = \\begin{bmatrix} \n",
        "\\theta^{(1)} \\\\ \n",
        "\\theta^{(2)} \\\\\n",
        "\\vdots \\\\\n",
        "\\theta^{(m)} \\\\\n",
        "\\end{bmatrix} $$\n",
        "The dataset $X$ has $m$ entries with $n$ features while $Y$ is the vector containing the groud truths of a the entries of $X$, and $\\theta$ are the parameters or weights of the vectors. We first compute the vector product of the dataset and the parameters as:\n",
        "$$ z = x^{(i)}\\theta^{(i)} = X\\cdot \\theta\\\\_{\\text{Eq. 3.1}}$$\n",
        "We then solve for the hypothesis of the logistic regression alogrithm as:\n",
        "\n",
        "$$ h_\\theta(x) = g(z)\\\\_{\\text{Eq. 3.2}}$$\n",
        "\n",
        "Where $g$ is an acitvation function that maps the values of the hypothesis vector between a range of 0 and 1. We computed the activation as a sigmoid function:\n",
        "$$g(z) = \\frac{1}{1+e^{-z}}\\\\_{\\text{Eq. 3.3}}$$\n",
        "Finally we compute the loss of the logistic regression algorithm using $J$. Wheras $J(\\theta)$ is a function that computes the logistic loss of the hypothesis with respect to the ground truths $y$. it is then computed as:\n",
        "$$J(\\theta) = \\frac{1}{m} \\sum^m_{i=0}=[-y^{(i)}\\log({h_{\\theta}(x^{(i)})})-(1-y^{(i)})\\log(1-h_{\\theta}(x^{(i)}))]\\\\_{\\text{Eq. 3.4}}$$"
      ]
    },
    {
      "cell_type": "markdown",
      "metadata": {
        "id": "MQ8jJV9-qyFy"
      },
      "source": [
        "> **Problem 3.a: Matrix Equivalences**\n",
        "\n",
        "> In Eq. 1, $z$ can also be solved as $X \\cdot \\theta$ which is the vectorized form of $x^{(i)}\\theta^{(i)}$. However, it can also be expressed as $\\theta^T\\cdot X$. Prove the equality of $X \\cdot \\theta$ with $\\theta^T\\cdot X$ in this case.\n",
        "\n",
        "> **Problem 3.b: Matrix Shapes**\n",
        "\n",
        "> Determine the shape of $h_\\theta$ if $X$ has a shape of $(300,5)$.\n",
        "\n",
        "> **Problem 3.c: Vectorization**\n",
        "\n",
        "> Express $J(\\theta)$ into its vectorized form.\n",
        "\n",
        "> **Problem 4.c: Computational Programming (Also Laboratory 2)**\n",
        "\n",
        "> Encode Equations 3.1 to 3.4 as the class `LRegression` wherein:\n",
        "\n",
        "> * `LRegression` should be instantiated with a dataset $X$, a ground truth vector $y$, and a parameter vector $\\theta$. Each parameter should have a data type of `numpy.array`.\n",
        "> * It should further have `methods`reflecting to at least the four (4) aforementioned equations. Each should have a return value.\n"
      ]
    },
    {
      "cell_type": "markdown",
      "metadata": {
        "id": "b8_LpzBWZueD"
      },
      "source": [
        "**Problem 3.a: Matrix Equivalences**\n",
        " >$X \\cdot \\theta$ = $\\theta^T\\cdot X$\n",
        "\n",
        " >$\\begin{bmatrix} \n",
        "— (x^{(1)})^T— \\\\ \n",
        "— (x^{(2)})^T— \\\\\n",
        "\\vdots \\\\\n",
        "— (x^{(m)})^T— \\\\\n",
        "\\end{bmatrix} \\cdot$ $\\begin{bmatrix} \n",
        "\\theta^{(1)} \\\\ \n",
        "\\theta^{(2)} \\\\\n",
        "\\vdots \\\\\n",
        "\\theta^{(m)} \\\\\n",
        "\\end{bmatrix} $ = $\\begin{bmatrix} \n",
        "\\theta^{(1)} \\ \n",
        "\\theta^{(2)} \\\n",
        "\\cdots \\\n",
        "\\theta^{(m)} \\\n",
        "\\end{bmatrix} \\cdot \\begin{bmatrix} \n",
        "— (x^{(1)})^T— \\\\ \n",
        "— (x^{(2)})^T— \\\\\n",
        "\\vdots \\\\\n",
        "— (x^{(m)})^T— \\\\\n",
        "\\end{bmatrix}$\n",
        "\n",
        ">$\\begin{bmatrix}(x^{(1)})^T \\theta^{(1)} + (x^{(2)})^T \\theta^{(2)} \\cdots + (x^{(m)})^T \\theta^{(m)}\\end{bmatrix}$ = $\\begin{bmatrix}(x^{(1)})^T \\theta^{(1)} + (x^{(2)})^T \\theta^{(2)} \\cdots + (x^{(m)})^T \\theta^{(m)}\\end{bmatrix}$\n"
      ]
    },
    {
      "cell_type": "markdown",
      "metadata": {
        "id": "hR5Xa46K_NmW"
      },
      "source": [
        "**Problem 3.b: Matrix Shapes**\n",
        ">Given that $X = (300,5)$ and assuming that $\\theta = (m,1)$, where $m=300$.\n",
        "\n",
        ">The resulting shape from the dot product with the two arrays which are $(300,5)$ and $(5,1)$, is $h_\\theta=(300,1).$"
      ]
    },
    {
      "cell_type": "markdown",
      "metadata": {
        "id": "s-wXoij885kp"
      },
      "source": [
        "**Problem 3.c: Matrix Equivalences**\n",
        ">$$J(\\theta) = \\frac{1}{m} X^T (h_ \\theta(x) - y)$$"
      ]
    },
    {
      "cell_type": "markdown",
      "metadata": {
        "id": "oJz9xn_eKBvz"
      },
      "source": [
        "**Problem 4.c: Computational Programming**"
      ]
    },
    {
      "cell_type": "code",
      "metadata": {
        "id": "JLCUCGpnJmrM"
      },
      "source": [
        "import numpy as np\n",
        "\n",
        "class LRegression:\n",
        "  def __init__(self, dset_X, gtruths_Y, weights_T):\n",
        "    self.dset = dset_X\n",
        "    self.gtruths = gtruths_Y\n",
        "    self.weights = weights_T\n",
        "\n",
        "  def vect_prod(self): # EQ 3.1\n",
        "    self.prod_z = np.dot(self.dset, self.weights)\n",
        "    return self.prod_z\n",
        "\n",
        "  def hypothesis(self): #EQ 3.2 & 3.3\n",
        "    self.sigmoid_function = 1 / (1 + np.exp(-(self.prod_z)))\n",
        "    return self.sigmoid_function\n",
        "\n",
        "  def logistic_loss(self): #EQ 3.4\n",
        "    m = self.dset.shape[0]\n",
        "    loss = (1/m) * np.dot(self.dset.T, (self.sigmoid_function - self.gtruths))\n",
        "    return loss"
      ],
      "execution_count": null,
      "outputs": []
    },
    {
      "cell_type": "code",
      "metadata": {
        "id": "cbNh8MTYRTOi"
      },
      "source": [
        "X = np.array([1,2,3,4])\n",
        "theta = np.array([5,6,7,8])\n",
        "y = np.array([9,10,11,12])\n",
        "Lregression_class = LRegression(X, y, theta)"
      ],
      "execution_count": null,
      "outputs": []
    },
    {
      "cell_type": "code",
      "metadata": {
        "colab": {
          "base_uri": "https://localhost:8080/"
        },
        "id": "CDhs9eA8Z_-o",
        "outputId": "fced8a00-583c-4e2e-f9ac-77fadb11dc44"
      },
      "source": [
        "regression = LRegression(X, y, theta)\n",
        "regression.vect_prod()"
      ],
      "execution_count": null,
      "outputs": [
        {
          "output_type": "execute_result",
          "data": {
            "text/plain": [
              "70"
            ]
          },
          "metadata": {},
          "execution_count": 125
        }
      ]
    },
    {
      "cell_type": "code",
      "metadata": {
        "colab": {
          "base_uri": "https://localhost:8080/"
        },
        "id": "zUnIZ_SQbnh5",
        "outputId": "a12ba702-41fc-49c8-bb51-b1a18b018706"
      },
      "source": [
        "regression.hypothesis()"
      ],
      "execution_count": null,
      "outputs": [
        {
          "output_type": "execute_result",
          "data": {
            "text/plain": [
              "1.0"
            ]
          },
          "metadata": {},
          "execution_count": 126
        }
      ]
    },
    {
      "cell_type": "code",
      "metadata": {
        "colab": {
          "base_uri": "https://localhost:8080/"
        },
        "id": "dUjqA3sEbsuG",
        "outputId": "fd031610-7c08-434d-bca9-338c081a727b"
      },
      "source": [
        "regression.logistic_loss()"
      ],
      "execution_count": null,
      "outputs": [
        {
          "output_type": "execute_result",
          "data": {
            "text/plain": [
              "-25.0"
            ]
          },
          "metadata": {},
          "execution_count": 127
        }
      ]
    }
  ]
}