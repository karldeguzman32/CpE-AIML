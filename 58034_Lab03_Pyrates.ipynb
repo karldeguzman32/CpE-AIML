{
  "nbformat": 4,
  "nbformat_minor": 0,
  "metadata": {
    "colab": {
      "name": "58034_Lab03_Pyrates",
      "provenance": [],
      "include_colab_link": true
    },
    "kernelspec": {
      "name": "python3",
      "display_name": "Python 3"
    },
    "language_info": {
      "name": "python"
    }
  },
  "cells": [
    {
      "cell_type": "markdown",
      "metadata": {
        "id": "view-in-github",
        "colab_type": "text"
      },
      "source": [
        "<a href=\"https://colab.research.google.com/github/karldeguzman32/CpE-AIML/blob/main/58034_Lab03_Pyrates.ipynb\" target=\"_parent\"><img src=\"https://colab.research.google.com/assets/colab-badge.svg\" alt=\"Open In Colab\"/></a>"
      ]
    },
    {
      "cell_type": "markdown",
      "metadata": {
        "id": "MpJlDXlItfea"
      },
      "source": [
        "# Topic 4 Lab 1: Simple Linear Regression\n",
        "$_{\\text{©D.J. Lopez | 2021 | Fundamentals of Machine Learning}}$"
      ]
    },
    {
      "cell_type": "markdown",
      "metadata": {
        "id": "NxfvdPKXt9CA"
      },
      "source": [
        "Create a class named `LinearRegression_Simple()` wherein it can compute for the linear regression for a single variable. The class will be required to have the following helper methods:\n",
        "> 1. `covariance(vectA, vectB)`\n",
        ">> input: 2 single-dimension vectors\n",
        ">>\n",
        ">> output: the covariance between the two input vectors (scalar) \n",
        "> 2. `pearsons_R(vectA, vectB)`\n",
        ">> input: 2 single-dimension vectors\n",
        ">>\n",
        ">> output: the correlation between the two input vectors (scalar)\n",
        "> 3. `train(X, y)`\n",
        ">> input: 2 single-dimension vectors\n",
        ">>\n",
        ">> output: the weights of the linear regressor.\n",
        "> 4. `predict(x)`\n",
        ">> input: A testing vector. *Note*: this function should accept both scalar and vector values.\n",
        ">>\n",
        ">> output: the predicted value. Note: the procedure in solving for the predicted value should be vectorized. Use the concept of matrix multiplication.\n",
        "> 5. `evaluate()`\n",
        ">> input: \n",
        ">>\n",
        ">> output: a `dictionary` that displays the SST, SSR, SST, MSE, RMSE, R-squared, and the Adjusted R-squared of the model. Note: You should use the `predict()` method here.\n",
        "> 5. `visualize()`\n",
        ">> input: *none*\n",
        ">>\n",
        ">> output: a visualization of the linear regressor over the input dataset. It should be saved as a .jpg file into the running notebook with a dpi of 400."
      ]
    },
    {
      "cell_type": "code",
      "metadata": {
        "id": "HJ5d9yB8x4y5"
      },
      "source": [
        "import numpy as np\n",
        "import matplotlib.pyplot as plt\n",
        "## No other packages or libraries can be added in this cell"
      ],
      "execution_count": null,
      "outputs": []
    },
    {
      "cell_type": "code",
      "metadata": {
        "id": "0UVg9Zo6td0j"
      },
      "source": [
        "### YOUR CODE HERE\n",
        "class LinearRegression_Simple():\n",
        "\n",
        "  ### Program the required methods\n",
        "  def covariance(self, vectA, vectB):\n",
        "    N = np.size(vectA)\n",
        "    x_mean = vectA.mean()\n",
        "    y_mean = vectB.mean()\n",
        "\n",
        "    sst_x = vectA - x_mean\n",
        "    sst_y = vectB - y_mean\n",
        "    self.covar = (sum(sst_x[i]*sst_y[i] for i in range(len(vectA))))/(N-1)\n",
        "    return self.covar\n",
        "\n",
        "  def pearsons_r(self, vectA, vectB):\n",
        "    x_mean = vectA.mean()\n",
        "    y_mean = vectB.mean()\n",
        "    sst_x = vectA - x_mean\n",
        "    sst_y = vectB - y_mean\n",
        "\n",
        "    sst_x_squared = np.square(sst_x)\n",
        "    sst_y_squared = np.square(sst_y)\n",
        "\n",
        "    nume = sum(sst_x[i]*sst_y[i] for i in range(len(vectA)))\n",
        "    deno = np.sqrt((sum(sst_x_squared[i] for i in range(len(vectA))))*(sum(sst_y_squared[i] for i in range(len(vectA)))))\n",
        "\n",
        "    self.m = nume / deno\n",
        "    return self.m\n",
        "\n",
        "  def train(self, X, y):\n",
        "    r = np.corrcoef(X,y)[0, 1]\n",
        "    std_y = np.std(y)\n",
        "    std_X = np.std(X)\n",
        "    self.w1 = r*(std_y/std_X)\n",
        "    \n",
        "    y_mean = np.mean(y)\n",
        "    X_mean = np.mean(X)\n",
        "    self.w0 = y_mean - (self.w1*X_mean)\n",
        "    return print(f\"w1: {self.w1}, w0: {self.w0}\")\n",
        "\n",
        "  def predict(self, x):\n",
        "    self.pred_value = (x*self.w1) + self.w0 \n",
        "    index = np.array(list(range(0, self.pred_value.size)))\n",
        "    return print('\\u0177 =', self.pred_value, \",i = \", index)\n",
        "\n",
        "  def evaluate(self):\n",
        "    SST = np.sum(np.square(y - y.mean()))\n",
        "    SSR = np.sum(np.square(self.pred_value - y.mean()))\n",
        "    SSE = np.sum(np.square(self.pred_value - y[0:5]))\n",
        "    MSE = np.mean(np.square(self.pred_value - y[0:5]))\n",
        "    RMSE = np.sqrt(MSE)\n",
        "    R_squared = 1 - (SSE/SST)\n",
        "\n",
        "    n = len(y)\n",
        "    k = 1\n",
        "    AdjR_squared = 1 - (1-R_squared)*((n-1)/(n-k-1))\n",
        "\n",
        "    perf = {\"SST\": SST, \"SSR\": SSR, \"SSE\": SSE, \"MSE\": MSE, \"RMSE\": RMSE, \"R-squared\": R_squared, \"Adjust R-Squared\": AdjR_squared}\n",
        "    return perf\n",
        "\n",
        "  def visualize(self):\n",
        "    plt.figure(figsize=(10,10))\n",
        "    plt.grid()\n",
        "    plt.scatter(X[0:self.pred_value.size], y[0:self.pred_value.size])\n",
        "    plt.plot(X[0:self.pred_value.size], self.pred_value, color='red')\n",
        "    return plt.show()\n",
        "\n",
        "\n",
        "  ### You may add other helper functions in to make your code cleaner"
      ],
      "execution_count": null,
      "outputs": []
    },
    {
      "cell_type": "code",
      "metadata": {
        "id": "WfpcPrkYxXJJ"
      },
      "source": [
        "### Testing Data\n",
        "### DO NOT DELETE NOR MODIFY THIS CELL\n",
        "\n",
        "np.random.seed(123)\n",
        "X = np.arange(0,100,1,dtype=np.float64) ## features\n",
        "m = np.random.uniform(0.3,0.8,(100,)) ## weights\n",
        "b = np.random.uniform(8,10,(100,)) ## biases\n",
        "y = -m*X-b  ## targets\n",
        "X_test = np.arange(100,300,1,dtype=np.float64)"
      ],
      "execution_count": null,
      "outputs": []
    },
    {
      "cell_type": "code",
      "metadata": {
        "id": "04QWyv34xQMK"
      },
      "source": [
        "## TEST #1 (Max pts: 5)\n",
        "## DO NOT DELETE NOR MODIFY THIS CELL\n",
        "regressor = LinearRegression_Simple()"
      ],
      "execution_count": null,
      "outputs": []
    },
    {
      "cell_type": "code",
      "metadata": {
        "id": "UUkoBEMryVvx",
        "colab": {
          "base_uri": "https://localhost:8080/"
        },
        "outputId": "b6bd3c04-afce-4b96-b757-ef3a95e33773"
      },
      "source": [
        "## TEST #2 (Max pts: 5)\n",
        "## DO NOT DELETE NOR MODIFY THIS CELL\n",
        "cov = regressor.covariance(X,y)\n",
        "cov"
      ],
      "execution_count": null,
      "outputs": [
        {
          "output_type": "execute_result",
          "data": {
            "text/plain": [
              "-456.66330121164833"
            ]
          },
          "metadata": {},
          "execution_count": 41
        }
      ]
    },
    {
      "cell_type": "markdown",
      "metadata": {
        "id": "juJUyR5zye-x"
      },
      "source": [
        "Expected output value:\n",
        "$$cov_{x,y} = -456.66$$"
      ]
    },
    {
      "cell_type": "code",
      "metadata": {
        "id": "jN1SaeSUyt7I",
        "colab": {
          "base_uri": "https://localhost:8080/"
        },
        "outputId": "96301592-1850-4296-c316-10450bf2dbab"
      },
      "source": [
        "## TEST #3 (Max pts: 10)\n",
        "## DO NOT DELETE NOR MODIFY THIS CELL\n",
        "r = regressor.pearsons_r(X,y)\n",
        "r"
      ],
      "execution_count": null,
      "outputs": [
        {
          "output_type": "execute_result",
          "data": {
            "text/plain": [
              "-0.9050803915258334"
            ]
          },
          "metadata": {},
          "execution_count": 42
        }
      ]
    },
    {
      "cell_type": "markdown",
      "metadata": {
        "id": "Q3vAJZWAzBmZ"
      },
      "source": [
        "Expected output value:\n",
        "$$r = -0.90$$"
      ]
    },
    {
      "cell_type": "code",
      "metadata": {
        "id": "SFDJhUNnzUGh",
        "colab": {
          "base_uri": "https://localhost:8080/"
        },
        "outputId": "79833759-1c4d-421a-b03c-bbf3acf24433"
      },
      "source": [
        "## TEST #4 (Max pts: 15)\n",
        "## DO NOT DELETE NOR MODIFY THIS CELL\n",
        "regressor.train(X,y)\n",
        "#regressor.model_"
      ],
      "execution_count": null,
      "outputs": [
        {
          "output_type": "stream",
          "name": "stdout",
          "text": [
            "w1: -0.5425702588653248, w0: -9.378797103736634\n"
          ]
        }
      ]
    },
    {
      "cell_type": "markdown",
      "metadata": {
        "id": "-e-WrFSG0Y1Z"
      },
      "source": [
        "Expected output value:\n",
        "$$\\omega = \\begin{bmatrix}\\omega_1 \\\\ \\omega_0\\end{bmatrix} = \\begin{bmatrix}-0.54 \\\\ -9.38\\end{bmatrix}$$"
      ]
    },
    {
      "cell_type": "code",
      "metadata": {
        "id": "xYiwOjWD2I18",
        "colab": {
          "base_uri": "https://localhost:8080/"
        },
        "outputId": "55734da9-c30c-4e1b-d6b0-ce9ba4356a39"
      },
      "source": [
        "## TEST #5 (Max pts: 25)\n",
        "## DO NOT DELETE NOR MODIFY THIS CELL\n",
        "preds = regressor.predict(X_test[:5])\n",
        "preds"
      ],
      "execution_count": null,
      "outputs": [
        {
          "output_type": "stream",
          "name": "stdout",
          "text": [
            "ŷ = [-63.63582299 -64.17839325 -64.72096351 -65.26353377 -65.80610403] ,i =  [0 1 2 3 4]\n"
          ]
        }
      ]
    },
    {
      "cell_type": "markdown",
      "metadata": {
        "id": "oozhSInd2esS"
      },
      "source": [
        "Expected output value:\n",
        "$$\\hat{y}_i = \\begin{bmatrix} -63.64 \\\\ -64.18 \\\\ -64.72 \\\\ -65.26 \\\\ -65.81 \\end{bmatrix}, i = \\{0,1,2,3,4\\}$$"
      ]
    },
    {
      "cell_type": "code",
      "metadata": {
        "id": "l2CTjl1805Cq",
        "colab": {
          "base_uri": "https://localhost:8080/"
        },
        "outputId": "32739186-5923-4b4a-c4cd-b7adcbbfc110"
      },
      "source": [
        "## TEST #6 (Max pts: 30)\n",
        "## DO NOT DELETE NOR MODIFY THIS CELL\n",
        "model_stats = regressor.evaluate()\n",
        "model_stats"
      ],
      "execution_count": null,
      "outputs": [
        {
          "output_type": "execute_result",
          "data": {
            "text/plain": [
              "{'Adjust R-Squared': 0.49158237791544657,\n",
              " 'MSE': 3014.077744872599,\n",
              " 'R-squared': 0.49671790945165417,\n",
              " 'RMSE': 54.900616980800855,\n",
              " 'SSE': 15070.388724362994,\n",
              " 'SSR': 4059.9024573607667,\n",
              " 'SST': 29944.21817780801}"
            ]
          },
          "metadata": {},
          "execution_count": 45
        }
      ]
    },
    {
      "cell_type": "code",
      "metadata": {
        "id": "oH5K49uT00CB",
        "colab": {
          "base_uri": "https://localhost:8080/",
          "height": 592
        },
        "outputId": "eb47c1d5-9f82-46ed-c7ce-ad5cea773dbb"
      },
      "source": [
        "## TEST #7 (Max pts: 10)\n",
        "## DO NOT DELETE NOR MODIFY THIS CELL\n",
        "regressor.visualize()"
      ],
      "execution_count": null,
      "outputs": [
        {
          "output_type": "display_data",
          "data": {
            "image/png": "[encoded data removed]",
            "text/plain": [
              "<Figure size 720x720 with 1 Axes>"
            ]
          },
          "metadata": {
            "needs_background": "light"
          }
        }
      ]
    },
    {
      "cell_type": "code",
      "metadata": {
        "id": "oBalg9wcy3wM"
      },
      "source": [
        ""
      ],
      "execution_count": null,
      "outputs": []
    }
  ]
}